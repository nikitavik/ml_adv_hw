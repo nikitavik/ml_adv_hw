{
 "cells": [
  {
   "cell_type": "markdown",
   "metadata": {
    "id": "njQcrguya1Nb"
   },
   "source": [
    "# Кластеризация. Домашка\n",
    "\n",
    "## Совсем простая рекомендательная система\n",
    "\n",
    "На основе оценок аниме, которые ставят пользователи систем типа [MAL](https://myanimelist.net/), можно строить разные кластеры данных:\n",
    "- кластеры похожих людей. Похожие значит, что эти люди ставят похожие рейтинги аниме.\n",
    "- кластеры похожих аниме. Похожие значит что люди оценивают их похоже.\n",
    "- кластеры похожих жанров. Но похожие не в обычном смысле, а в смысле, что люди которые смотрят жанр А любят смотреть жанр Б.\n",
    "\n",
    "и т.д.\n",
    "\n",
    "### Полезная литература\n",
    "\n",
    "- [Лекция 8. Рекомендательный системы](https://www.youtube.com/watch?v=Te_6TqEhyTI&t=4s).\n",
    "- [Туториал по рекомендательным системам](http://nbviewer.jupyter.org/urls/gitlab.7bits.it/isiganov/ml-course/raw/master/week05/theory/05-01-clustering.ipynb?inline=false)\n",
    "- [ODS: Обучение без учителя: PCA и кластеризация](https://habrahabr.ru/company/ods/blog/325654/)\n",
    "- [Интересные алгоритмы кластеризации, часть первая: Affinity propagation](https://habrahabr.ru/post/321216/) и другие статьи цикла\n",
    "- [Глава 7: кластеризация и визуализация. К. В. Воронцов](http://www.machinelearning.ru/wiki/images/6/6d/Voron-ML-1.pdf)\n",
    "- [Документация sklearn.clustering](http://scikit-learn.org/stable/modules/clustering.html)\n",
    "- [K-Means Clustering - The Math of Intelligence. Siraj Raval](https://www.youtube.com/watch?v=9991JlKnFmk) объяснение с программированием KMeans вручную\n",
    "\n"
   ]
  },
  {
   "cell_type": "code",
   "execution_count": 20,
   "metadata": {
    "id": "dR2jz6_Ja1Nd",
    "ExecuteTime": {
     "end_time": "2024-03-27T23:14:30.735755Z",
     "start_time": "2024-03-27T23:14:30.726204Z"
    }
   },
   "outputs": [],
   "source": [
    "from sklearn import datasets\n",
    "import pandas as pd\n",
    "import numpy as np\n",
    "from matplotlib import pyplot as plt\n",
    "import seaborn as sns\n",
    "\n",
    "from sklearn.cluster import KMeans\n",
    "\n",
    "from tqdm import tqdm\n",
    "# from tqdm import tqdm_notebook as tqdm # Раскоментируйте если прогресс бар будет странно работать\n",
    "\n",
    "%matplotlib inline\n",
    "\n",
    "# Зафиксируем случайность, чтобы у нас получались одинаковые результаты.\n",
    "np.random.seed(seed=42)"
   ]
  },
  {
   "cell_type": "markdown",
   "metadata": {
    "id": "4UhBfNdTb2gD"
   },
   "source": [
    "## Анализ отзывов аниме\n",
    "\n",
    "Возьмем датасет с рейтингами аниме: https://www.kaggle.com/CooperUnion/anime-recommendations-database  \n",
    "Кстати, вы можете посмотреть kernels - это jupyter notebooks, в которых другие люди тоже делали что-то с этим датасетом.\n",
    "\n",
    "```\n",
    "Anime.csv\n",
    "\n",
    "anime_id - myanimelist.net's unique id identifying an anime.\n",
    "name - full name of anime.\n",
    "genre - comma separated list of genres for this anime.\n",
    "type - movie, TV, OVA, etc.\n",
    "episodes - how many episodes in this show. (1 if movie).\n",
    "rating - average rating out of 10 for this anime.\n",
    "members - number of community members that are in this anime's \"group\".\n",
    "\n",
    "\n",
    "Rating.csv\n",
    "\n",
    "user_id - non identifiable randomly generated user id.\n",
    "anime_id - the anime that this user has rated.\n",
    "rating - rating out of 10 this user has assigned (-1 if the user watched it but didn't assign a rating).\n",
    "```"
   ]
  },
  {
   "cell_type": "code",
   "execution_count": 21,
   "metadata": {
    "id": "MQeq12Wnh11r",
    "ExecuteTime": {
     "end_time": "2024-03-27T23:14:30.956631Z",
     "start_time": "2024-03-27T23:14:30.947848Z"
    }
   },
   "outputs": [],
   "source": [
    "colab = False  # True если используте google colab\n",
    "if colab:\n",
    "    from google.colab import drive\n",
    "    drive.mount('/content/drive/')"
   ]
  },
  {
   "cell_type": "code",
   "execution_count": 22,
   "metadata": {
    "id": "vRFEeThr-RBx",
    "tags": [],
    "ExecuteTime": {
     "end_time": "2024-03-27T23:14:31.035177Z",
     "start_time": "2024-03-27T23:14:30.974674Z"
    }
   },
   "outputs": [
    {
     "name": "stdout",
     "output_type": "stream",
     "text": [
      "(12017, 6)\n"
     ]
    },
    {
     "data": {
      "text/plain": "                                      name  \\\nanime_id                                     \n32281                       Kimi no Na wa.   \n5114      Fullmetal Alchemist: Brotherhood   \n28977                             Gintama°   \n9253                           Steins;Gate   \n9969                         Gintama&#039;   \n\n                                                      genre   type episodes  \\\nanime_id                                                                      \n32281                  Drama, Romance, School, Supernatural  Movie        1   \n5114      Action, Adventure, Drama, Fantasy, Magic, Mili...     TV       64   \n28977     Action, Comedy, Historical, Parody, Samurai, S...     TV       51   \n9253                                       Sci-Fi, Thriller     TV       24   \n9969      Action, Comedy, Historical, Parody, Samurai, S...     TV       51   \n\n          rating  members  \nanime_id                   \n32281       9.37   200630  \n5114        9.26   793665  \n28977       9.25   114262  \n9253        9.17   673572  \n9969        9.16   151266  ",
      "text/html": "<div>\n<style scoped>\n    .dataframe tbody tr th:only-of-type {\n        vertical-align: middle;\n    }\n\n    .dataframe tbody tr th {\n        vertical-align: top;\n    }\n\n    .dataframe thead th {\n        text-align: right;\n    }\n</style>\n<table border=\"1\" class=\"dataframe\">\n  <thead>\n    <tr style=\"text-align: right;\">\n      <th></th>\n      <th>name</th>\n      <th>genre</th>\n      <th>type</th>\n      <th>episodes</th>\n      <th>rating</th>\n      <th>members</th>\n    </tr>\n    <tr>\n      <th>anime_id</th>\n      <th></th>\n      <th></th>\n      <th></th>\n      <th></th>\n      <th></th>\n      <th></th>\n    </tr>\n  </thead>\n  <tbody>\n    <tr>\n      <th>32281</th>\n      <td>Kimi no Na wa.</td>\n      <td>Drama, Romance, School, Supernatural</td>\n      <td>Movie</td>\n      <td>1</td>\n      <td>9.37</td>\n      <td>200630</td>\n    </tr>\n    <tr>\n      <th>5114</th>\n      <td>Fullmetal Alchemist: Brotherhood</td>\n      <td>Action, Adventure, Drama, Fantasy, Magic, Mili...</td>\n      <td>TV</td>\n      <td>64</td>\n      <td>9.26</td>\n      <td>793665</td>\n    </tr>\n    <tr>\n      <th>28977</th>\n      <td>Gintama°</td>\n      <td>Action, Comedy, Historical, Parody, Samurai, S...</td>\n      <td>TV</td>\n      <td>51</td>\n      <td>9.25</td>\n      <td>114262</td>\n    </tr>\n    <tr>\n      <th>9253</th>\n      <td>Steins;Gate</td>\n      <td>Sci-Fi, Thriller</td>\n      <td>TV</td>\n      <td>24</td>\n      <td>9.17</td>\n      <td>673572</td>\n    </tr>\n    <tr>\n      <th>9969</th>\n      <td>Gintama&amp;#039;</td>\n      <td>Action, Comedy, Historical, Parody, Samurai, S...</td>\n      <td>TV</td>\n      <td>51</td>\n      <td>9.16</td>\n      <td>151266</td>\n    </tr>\n  </tbody>\n</table>\n</div>"
     },
     "execution_count": 22,
     "metadata": {},
     "output_type": "execute_result"
    }
   ],
   "source": [
    "if colab:\n",
    "    anime = pd.read_csv('/content/drive/My Drive/Data/anime/anime.csv.zip', index_col='anime_id')\n",
    "else:\n",
    "    anime = pd.read_csv('../data/anime/anime.csv.zip', index_col='anime_id')\n",
    "anime.dropna(inplace=True)\n",
    "print(anime.shape)\n",
    "anime.head()"
   ]
  },
  {
   "cell_type": "code",
   "execution_count": 23,
   "metadata": {
    "id": "c9VKgQNV-VKE",
    "ExecuteTime": {
     "end_time": "2024-03-27T23:14:33.010721Z",
     "start_time": "2024-03-27T23:14:31.191238Z"
    }
   },
   "outputs": [
    {
     "data": {
      "text/plain": "         user_id  anime_id  rating\n0              1        20      -1\n1              1        24      -1\n2              1        79      -1\n3              1       226      -1\n4              1       241      -1\n...          ...       ...     ...\n7813732    73515     16512       7\n7813733    73515     17187       9\n7813734    73515     22145      10\n7813735    73516       790       9\n7813736    73516      8074       9\n\n[7813737 rows x 3 columns]",
      "text/html": "<div>\n<style scoped>\n    .dataframe tbody tr th:only-of-type {\n        vertical-align: middle;\n    }\n\n    .dataframe tbody tr th {\n        vertical-align: top;\n    }\n\n    .dataframe thead th {\n        text-align: right;\n    }\n</style>\n<table border=\"1\" class=\"dataframe\">\n  <thead>\n    <tr style=\"text-align: right;\">\n      <th></th>\n      <th>user_id</th>\n      <th>anime_id</th>\n      <th>rating</th>\n    </tr>\n  </thead>\n  <tbody>\n    <tr>\n      <th>0</th>\n      <td>1</td>\n      <td>20</td>\n      <td>-1</td>\n    </tr>\n    <tr>\n      <th>1</th>\n      <td>1</td>\n      <td>24</td>\n      <td>-1</td>\n    </tr>\n    <tr>\n      <th>2</th>\n      <td>1</td>\n      <td>79</td>\n      <td>-1</td>\n    </tr>\n    <tr>\n      <th>3</th>\n      <td>1</td>\n      <td>226</td>\n      <td>-1</td>\n    </tr>\n    <tr>\n      <th>4</th>\n      <td>1</td>\n      <td>241</td>\n      <td>-1</td>\n    </tr>\n    <tr>\n      <th>...</th>\n      <td>...</td>\n      <td>...</td>\n      <td>...</td>\n    </tr>\n    <tr>\n      <th>7813732</th>\n      <td>73515</td>\n      <td>16512</td>\n      <td>7</td>\n    </tr>\n    <tr>\n      <th>7813733</th>\n      <td>73515</td>\n      <td>17187</td>\n      <td>9</td>\n    </tr>\n    <tr>\n      <th>7813734</th>\n      <td>73515</td>\n      <td>22145</td>\n      <td>10</td>\n    </tr>\n    <tr>\n      <th>7813735</th>\n      <td>73516</td>\n      <td>790</td>\n      <td>9</td>\n    </tr>\n    <tr>\n      <th>7813736</th>\n      <td>73516</td>\n      <td>8074</td>\n      <td>9</td>\n    </tr>\n  </tbody>\n</table>\n<p>7813737 rows × 3 columns</p>\n</div>"
     },
     "execution_count": 23,
     "metadata": {},
     "output_type": "execute_result"
    }
   ],
   "source": [
    "if colab:\n",
    "    ratings = pd.read_csv('/content/drive/My Drive/Data/anime/rating.csv.zip')\n",
    "else:\n",
    "    ratings = pd.read_csv('../data/anime/rating.csv.zip')\n",
    "ratings"
   ]
  },
  {
   "cell_type": "markdown",
   "metadata": {
    "id": "h338V2Lwb2gj"
   },
   "source": [
    "Датасет очень большой и грязный. Некоторые действия с этим датасетом будут требовать много оперативной памяти(>6 Гб).\n",
    "\n",
    "## Подготовка данных"
   ]
  },
  {
   "cell_type": "markdown",
   "metadata": {
    "id": "e839HZu_b2gk"
   },
   "source": [
    "Во первых, в датасете есть много -1. Оценки -1 и 0 на MAL нет. \n",
    "\n",
    "Здесь -1 означает что человек посмотрел это аниме, но не выставил оценку.\n",
    "\n",
    "Такие записи из `ratings` стоит выбросить, так как в нашем случае они особо не помогут. \n",
    "\n",
    "Но и не помешают серьезно. Если хотите оставьте их, только нужно заменить все -1 на 0, так как дальше нам понадобится посчитать среднее, а -1 или 0, в отличие от `np.nan`, повлияют на среднее. \n",
    "\n",
    "### 1. Избавьтесь от -1"
   ]
  },
  {
   "cell_type": "code",
   "execution_count": 24,
   "metadata": {
    "id": "pCRsQ18wb2gl",
    "ExecuteTime": {
     "end_time": "2024-03-27T23:14:33.073393Z",
     "start_time": "2024-03-27T23:14:33.013719Z"
    }
   },
   "outputs": [
    {
     "data": {
      "text/plain": "         user_id  anime_id  rating\n0              1        20       0\n1              1        24       0\n2              1        79       0\n3              1       226       0\n4              1       241       0\n...          ...       ...     ...\n7813732    73515     16512       7\n7813733    73515     17187       9\n7813734    73515     22145      10\n7813735    73516       790       9\n7813736    73516      8074       9\n\n[7813737 rows x 3 columns]",
      "text/html": "<div>\n<style scoped>\n    .dataframe tbody tr th:only-of-type {\n        vertical-align: middle;\n    }\n\n    .dataframe tbody tr th {\n        vertical-align: top;\n    }\n\n    .dataframe thead th {\n        text-align: right;\n    }\n</style>\n<table border=\"1\" class=\"dataframe\">\n  <thead>\n    <tr style=\"text-align: right;\">\n      <th></th>\n      <th>user_id</th>\n      <th>anime_id</th>\n      <th>rating</th>\n    </tr>\n  </thead>\n  <tbody>\n    <tr>\n      <th>0</th>\n      <td>1</td>\n      <td>20</td>\n      <td>0</td>\n    </tr>\n    <tr>\n      <th>1</th>\n      <td>1</td>\n      <td>24</td>\n      <td>0</td>\n    </tr>\n    <tr>\n      <th>2</th>\n      <td>1</td>\n      <td>79</td>\n      <td>0</td>\n    </tr>\n    <tr>\n      <th>3</th>\n      <td>1</td>\n      <td>226</td>\n      <td>0</td>\n    </tr>\n    <tr>\n      <th>4</th>\n      <td>1</td>\n      <td>241</td>\n      <td>0</td>\n    </tr>\n    <tr>\n      <th>...</th>\n      <td>...</td>\n      <td>...</td>\n      <td>...</td>\n    </tr>\n    <tr>\n      <th>7813732</th>\n      <td>73515</td>\n      <td>16512</td>\n      <td>7</td>\n    </tr>\n    <tr>\n      <th>7813733</th>\n      <td>73515</td>\n      <td>17187</td>\n      <td>9</td>\n    </tr>\n    <tr>\n      <th>7813734</th>\n      <td>73515</td>\n      <td>22145</td>\n      <td>10</td>\n    </tr>\n    <tr>\n      <th>7813735</th>\n      <td>73516</td>\n      <td>790</td>\n      <td>9</td>\n    </tr>\n    <tr>\n      <th>7813736</th>\n      <td>73516</td>\n      <td>8074</td>\n      <td>9</td>\n    </tr>\n  </tbody>\n</table>\n<p>7813737 rows × 3 columns</p>\n</div>"
     },
     "execution_count": 24,
     "metadata": {},
     "output_type": "execute_result"
    }
   ],
   "source": [
    "ratings.loc[ratings[\"rating\"] < 0, 'rating'] = 0\n",
    "ratings"
   ]
  },
  {
   "cell_type": "markdown",
   "metadata": {
    "id": "Cm0qReHpb2gq"
   },
   "source": [
    "## Критерий Шавене (Chauvenet)\n",
    "\n",
    "[Теория](https://www.youtube.com/watch?v=Fy9pHH3ykPE&list=PLLyuiBK_HOLPfRVN6r9305FKXq1ravbbX)\n",
    "\n",
    "$$ erfc(\\frac{|P_i - mean(P)|}{S_p})  < \\frac{1}{2n}$$\n",
    "\n",
    "$ S_p - отклонение $\n",
    "\n",
    "Готовой реализации в библиотеках нет, поэтому придется написать самим(но если найдете можете использовать).\n",
    "\n",
    "### 2. Напишите функцию, которая принимает на вход массив, считает критерий Шавене и возвращает булеву маску.\n",
    "\n",
    "Функция `erfc` есть в sklearn. "
   ]
  },
  {
   "cell_type": "code",
   "execution_count": 25,
   "metadata": {
    "id": "SRPB9ZGVb2gr",
    "ExecuteTime": {
     "end_time": "2024-03-27T23:14:33.088914Z",
     "start_time": "2024-03-27T23:14:33.075404Z"
    }
   },
   "outputs": [],
   "source": [
    "from scipy.special import erfc\n",
    "\n",
    "def chauvenet(array):\n",
    "    mean = np.mean(array)\n",
    "    std = np.std(array)\n",
    "    n = len(array)\n",
    "    \n",
    "    deviation = np.abs(array - mean) / std\n",
    "    prob = erfc(deviation / np.sqrt(2)) / 2\n",
    "    criterion = 1 / (2 * n)\n",
    "    mask = prob < criterion\n",
    "\n",
    "    return mask"
   ]
  },
  {
   "cell_type": "markdown",
   "metadata": {
    "id": "YibqZ90_b2gv"
   },
   "source": [
    "Для начала давайте посмотрим на таблицу рейтингов.\n",
    "\n",
    "### 3. Сделайте новую таблицу `count_reviews` где индексами будет `user_id` а значением будет количество просмотренных им аниме.\n",
    "\n",
    "\n",
    "**Hint** Используйте [groupby](https://pandas.pydata.org/pandas-docs/stable/reference/api/pandas.DataFrame.groupby.html) и [count](https://pandas.pydata.org/pandas-docs/stable/reference/api/pandas.DataFrame.count.html)."
   ]
  },
  {
   "cell_type": "code",
   "execution_count": 26,
   "metadata": {
    "id": "M3XQcmqvb2gw",
    "ExecuteTime": {
     "end_time": "2024-03-27T23:14:33.248485Z",
     "start_time": "2024-03-27T23:14:33.091925Z"
    }
   },
   "outputs": [
    {
     "data": {
      "text/plain": "user_id\n1        153\n2          3\n3         94\n4         52\n5        467\n        ... \n73512     13\n73513     33\n73514      1\n73515    196\n73516      2\nName: anime_id, Length: 73515, dtype: int64"
     },
     "execution_count": 26,
     "metadata": {},
     "output_type": "execute_result"
    }
   ],
   "source": [
    "count_reviews = ratings.groupby('user_id')['anime_id'].count()\n",
    "count_reviews"
   ]
  },
  {
   "cell_type": "markdown",
   "metadata": {
    "id": "ZCtMNEeRb2g0"
   },
   "source": [
    "### 4. Используйте функцию chauvenet и найдите все выбросы.\n",
    "\n",
    "**Hint:** Так как chauvenet возвращает маску используйте оператор `[]` (подробнее смотрите в 1 теории по pandas и numpy).\n",
    "\n",
    "**Hint:** Используйте [values](https://pandas.pydata.org/pandas-docs/stable/reference/api/pandas.DataFrame.values.html)."
   ]
  },
  {
   "cell_type": "code",
   "execution_count": 27,
   "metadata": {
    "id": "dN5Q6T87b2g2",
    "ExecuteTime": {
     "end_time": "2024-03-27T23:14:33.264496Z",
     "start_time": "2024-03-27T23:14:33.250481Z"
    }
   },
   "outputs": [
    {
     "data": {
      "text/plain": "user_id\n54        834\n342      1259\n478       863\n958       783\n1145     1306\n         ... \n72936     872\n73128     977\n73135     986\n73188     861\n73234     812\nName: anime_id, Length: 559, dtype: int64"
     },
     "execution_count": 27,
     "metadata": {},
     "output_type": "execute_result"
    }
   ],
   "source": [
    "chauvenet_mask = chauvenet(count_reviews)\n",
    "outlier_users = count_reviews[chauvenet_mask]\n",
    "outlier_users"
   ]
  },
  {
   "cell_type": "markdown",
   "metadata": {
    "id": "OMHGjMnFb2g5"
   },
   "source": [
    "### 5. Ответьте на вопросы\n",
    "\n",
    "#### Кого критерий посчитал выбросом?\n",
    "Пользователей количество просмотров которых сильно отличается от количества просмотров у большинства пользователей.\n",
    "#### Почему критерий посчитал их выбросом?\n",
    "Пользователей количество просмотров которых сильно отклоняются от среднего значения.\n",
    "\n",
    "#### Нужна ли им вообще рекомендательная система?\n",
    "Нужна т.к это могут быть либо новые пользователи, просто пользователи которые смотрят очень много аниме"
   ]
  },
  {
   "cell_type": "markdown",
   "metadata": {
    "id": "jTlAVwKjb2g6"
   },
   "source": [
    "**Ответы:**"
   ]
  },
  {
   "cell_type": "code",
   "execution_count": 28,
   "metadata": {
    "id": "vU3CF5oqb2g6",
    "ExecuteTime": {
     "end_time": "2024-03-27T23:14:33.280490Z",
     "start_time": "2024-03-27T23:14:33.266481Z"
    }
   },
   "outputs": [
    {
     "data": {
      "text/plain": "773"
     },
     "execution_count": 28,
     "metadata": {},
     "output_type": "execute_result"
    }
   ],
   "source": [
    "bad_user_threshold = outlier_users.min()\n",
    "bad_user_threshold"
   ]
  },
  {
   "cell_type": "markdown",
   "metadata": {
    "id": "Uirpa-xWb2g9"
   },
   "source": [
    "Если все было правильно `bad_user_threshold` больше 500. \n",
    "\n",
    "Нужно выбросить всех людей у которых число просмотренных аниме больше или равно `bad_user_threshold`.\n",
    "\n",
    "### 6. Переименнуйте столбец из таблицы `count_reviews` в `count_reviews` (он там единственный). Соедините `count_reviews` и `ratings` по столбцу `user_id`. И оставьте в `ratings` только тех кто посмотрел меньше `bad_user_threshold`  "
   ]
  },
  {
   "cell_type": "code",
   "execution_count": 29,
   "metadata": {
    "id": "DlC15OSib2g-",
    "ExecuteTime": {
     "end_time": "2024-03-27T23:14:34.290776Z",
     "start_time": "2024-03-27T23:14:33.282493Z"
    }
   },
   "outputs": [
    {
     "data": {
      "text/plain": "         user_id  anime_id  rating  count_reviews\n0              1        20       0            153\n1              1        24       0            153\n2              1        79       0            153\n3              1       226       0            153\n4              1       241       0            153\n...          ...       ...     ...            ...\n7813732    73515     16512       7            196\n7813733    73515     17187       9            196\n7813734    73515     22145      10            196\n7813735    73516       790       9              2\n7813736    73516      8074       9              2\n\n[7209723 rows x 4 columns]",
      "text/html": "<div>\n<style scoped>\n    .dataframe tbody tr th:only-of-type {\n        vertical-align: middle;\n    }\n\n    .dataframe tbody tr th {\n        vertical-align: top;\n    }\n\n    .dataframe thead th {\n        text-align: right;\n    }\n</style>\n<table border=\"1\" class=\"dataframe\">\n  <thead>\n    <tr style=\"text-align: right;\">\n      <th></th>\n      <th>user_id</th>\n      <th>anime_id</th>\n      <th>rating</th>\n      <th>count_reviews</th>\n    </tr>\n  </thead>\n  <tbody>\n    <tr>\n      <th>0</th>\n      <td>1</td>\n      <td>20</td>\n      <td>0</td>\n      <td>153</td>\n    </tr>\n    <tr>\n      <th>1</th>\n      <td>1</td>\n      <td>24</td>\n      <td>0</td>\n      <td>153</td>\n    </tr>\n    <tr>\n      <th>2</th>\n      <td>1</td>\n      <td>79</td>\n      <td>0</td>\n      <td>153</td>\n    </tr>\n    <tr>\n      <th>3</th>\n      <td>1</td>\n      <td>226</td>\n      <td>0</td>\n      <td>153</td>\n    </tr>\n    <tr>\n      <th>4</th>\n      <td>1</td>\n      <td>241</td>\n      <td>0</td>\n      <td>153</td>\n    </tr>\n    <tr>\n      <th>...</th>\n      <td>...</td>\n      <td>...</td>\n      <td>...</td>\n      <td>...</td>\n    </tr>\n    <tr>\n      <th>7813732</th>\n      <td>73515</td>\n      <td>16512</td>\n      <td>7</td>\n      <td>196</td>\n    </tr>\n    <tr>\n      <th>7813733</th>\n      <td>73515</td>\n      <td>17187</td>\n      <td>9</td>\n      <td>196</td>\n    </tr>\n    <tr>\n      <th>7813734</th>\n      <td>73515</td>\n      <td>22145</td>\n      <td>10</td>\n      <td>196</td>\n    </tr>\n    <tr>\n      <th>7813735</th>\n      <td>73516</td>\n      <td>790</td>\n      <td>9</td>\n      <td>2</td>\n    </tr>\n    <tr>\n      <th>7813736</th>\n      <td>73516</td>\n      <td>8074</td>\n      <td>9</td>\n      <td>2</td>\n    </tr>\n  </tbody>\n</table>\n<p>7209723 rows × 4 columns</p>\n</div>"
     },
     "execution_count": 29,
     "metadata": {},
     "output_type": "execute_result"
    }
   ],
   "source": [
    "count_reviews = count_reviews.rename('count_reviews')\n",
    "merged = pd.merge(ratings, count_reviews, on='user_id')\n",
    "\n",
    "filtered = merged.query('count_reviews < @bad_user_threshold')\n",
    "filtered"
   ]
  },
  {
   "cell_type": "markdown",
   "metadata": {
    "id": "-oeDGjoVb2hA"
   },
   "source": [
    "Осталось все равно слишком много пользователей.\n",
    "\n",
    "### 7. Удалите из таблицы всех юзеров, у которых количество просмотров меньше медианного значения. То есть мы удалим половину юзеров.\n",
    "\n",
    "Так как они посмотрели слишком мало, чтобы мы на них могли основывать свои советы."
   ]
  },
  {
   "cell_type": "code",
   "execution_count": 30,
   "metadata": {
    "id": "8Z1mmi1vb2hB",
    "ExecuteTime": {
     "end_time": "2024-03-27T23:14:34.448797Z",
     "start_time": "2024-03-27T23:14:34.292779Z"
    }
   },
   "outputs": [
    {
     "data": {
      "text/plain": "         user_id  anime_id  rating  count_reviews\n302            5         6       8            467\n303            5        15       6            467\n304            5        17       6            467\n305            5        18       6            467\n306            5        20       6            467\n...          ...       ...     ...            ...\n7813330    73507      8231       5            259\n7813331    73507      8348       5            259\n7813332    73507      8440       7            259\n7813333    73507      8769       8            259\n7813334    73507     10067       5            259\n\n[3599221 rows x 4 columns]",
      "text/html": "<div>\n<style scoped>\n    .dataframe tbody tr th:only-of-type {\n        vertical-align: middle;\n    }\n\n    .dataframe tbody tr th {\n        vertical-align: top;\n    }\n\n    .dataframe thead th {\n        text-align: right;\n    }\n</style>\n<table border=\"1\" class=\"dataframe\">\n  <thead>\n    <tr style=\"text-align: right;\">\n      <th></th>\n      <th>user_id</th>\n      <th>anime_id</th>\n      <th>rating</th>\n      <th>count_reviews</th>\n    </tr>\n  </thead>\n  <tbody>\n    <tr>\n      <th>302</th>\n      <td>5</td>\n      <td>6</td>\n      <td>8</td>\n      <td>467</td>\n    </tr>\n    <tr>\n      <th>303</th>\n      <td>5</td>\n      <td>15</td>\n      <td>6</td>\n      <td>467</td>\n    </tr>\n    <tr>\n      <th>304</th>\n      <td>5</td>\n      <td>17</td>\n      <td>6</td>\n      <td>467</td>\n    </tr>\n    <tr>\n      <th>305</th>\n      <td>5</td>\n      <td>18</td>\n      <td>6</td>\n      <td>467</td>\n    </tr>\n    <tr>\n      <th>306</th>\n      <td>5</td>\n      <td>20</td>\n      <td>6</td>\n      <td>467</td>\n    </tr>\n    <tr>\n      <th>...</th>\n      <td>...</td>\n      <td>...</td>\n      <td>...</td>\n      <td>...</td>\n    </tr>\n    <tr>\n      <th>7813330</th>\n      <td>73507</td>\n      <td>8231</td>\n      <td>5</td>\n      <td>259</td>\n    </tr>\n    <tr>\n      <th>7813331</th>\n      <td>73507</td>\n      <td>8348</td>\n      <td>5</td>\n      <td>259</td>\n    </tr>\n    <tr>\n      <th>7813332</th>\n      <td>73507</td>\n      <td>8440</td>\n      <td>7</td>\n      <td>259</td>\n    </tr>\n    <tr>\n      <th>7813333</th>\n      <td>73507</td>\n      <td>8769</td>\n      <td>8</td>\n      <td>259</td>\n    </tr>\n    <tr>\n      <th>7813334</th>\n      <td>73507</td>\n      <td>10067</td>\n      <td>5</td>\n      <td>259</td>\n    </tr>\n  </tbody>\n</table>\n<p>3599221 rows × 4 columns</p>\n</div>"
     },
     "execution_count": 30,
     "metadata": {},
     "output_type": "execute_result"
    }
   ],
   "source": [
    "ratings = filtered[filtered['count_reviews'] > int(filtered['count_reviews'].median())]\n",
    "ratings"
   ]
  },
  {
   "cell_type": "code",
   "execution_count": 31,
   "metadata": {
    "id": "psfK_Z_Nb2hE",
    "ExecuteTime": {
     "end_time": "2024-03-27T23:14:34.495126Z",
     "start_time": "2024-03-27T23:14:34.450816Z"
    }
   },
   "outputs": [
    {
     "data": {
      "text/plain": "         user_id  anime_id  rating\n302            5         6       8\n303            5        15       6\n304            5        17       6\n305            5        18       6\n306            5        20       6\n...          ...       ...     ...\n7813330    73507      8231       5\n7813331    73507      8348       5\n7813332    73507      8440       7\n7813333    73507      8769       8\n7813334    73507     10067       5\n\n[3599221 rows x 3 columns]",
      "text/html": "<div>\n<style scoped>\n    .dataframe tbody tr th:only-of-type {\n        vertical-align: middle;\n    }\n\n    .dataframe tbody tr th {\n        vertical-align: top;\n    }\n\n    .dataframe thead th {\n        text-align: right;\n    }\n</style>\n<table border=\"1\" class=\"dataframe\">\n  <thead>\n    <tr style=\"text-align: right;\">\n      <th></th>\n      <th>user_id</th>\n      <th>anime_id</th>\n      <th>rating</th>\n    </tr>\n  </thead>\n  <tbody>\n    <tr>\n      <th>302</th>\n      <td>5</td>\n      <td>6</td>\n      <td>8</td>\n    </tr>\n    <tr>\n      <th>303</th>\n      <td>5</td>\n      <td>15</td>\n      <td>6</td>\n    </tr>\n    <tr>\n      <th>304</th>\n      <td>5</td>\n      <td>17</td>\n      <td>6</td>\n    </tr>\n    <tr>\n      <th>305</th>\n      <td>5</td>\n      <td>18</td>\n      <td>6</td>\n    </tr>\n    <tr>\n      <th>306</th>\n      <td>5</td>\n      <td>20</td>\n      <td>6</td>\n    </tr>\n    <tr>\n      <th>...</th>\n      <td>...</td>\n      <td>...</td>\n      <td>...</td>\n    </tr>\n    <tr>\n      <th>7813330</th>\n      <td>73507</td>\n      <td>8231</td>\n      <td>5</td>\n    </tr>\n    <tr>\n      <th>7813331</th>\n      <td>73507</td>\n      <td>8348</td>\n      <td>5</td>\n    </tr>\n    <tr>\n      <th>7813332</th>\n      <td>73507</td>\n      <td>8440</td>\n      <td>7</td>\n    </tr>\n    <tr>\n      <th>7813333</th>\n      <td>73507</td>\n      <td>8769</td>\n      <td>8</td>\n    </tr>\n    <tr>\n      <th>7813334</th>\n      <td>73507</td>\n      <td>10067</td>\n      <td>5</td>\n    </tr>\n  </tbody>\n</table>\n<p>3599221 rows × 3 columns</p>\n</div>"
     },
     "execution_count": 31,
     "metadata": {},
     "output_type": "execute_result"
    }
   ],
   "source": [
    "# Удалим столбец с просмотрами чтобы не мешал.\n",
    "ratings = ratings.drop(columns=['count_reviews'])\n",
    "ratings"
   ]
  },
  {
   "cell_type": "markdown",
   "metadata": {
    "id": "pM5IUARab2hG"
   },
   "source": [
    "Теперь рассмотрим таблицу `anime`. \n",
    "\n",
    "\n",
    "Так же применим критерий шавене.\n",
    "\n",
    "Искать выбросы стоит по столбцу `rating` или по `members` или по обоим сразу.\n",
    "\n",
    "### 8. Используйте функцию chauvenet и найдите все выбросы среди аниме. И удалите их.\n",
    "\n",
    "**Hint** Используйте [drop](https://pandas.pydata.org/pandas-docs/stable/reference/api/pandas.DataFrame.drop.html) и [index](https://pandas.pydata.org/pandas-docs/stable/reference/api/pandas.DataFrame.index.html)"
   ]
  },
  {
   "cell_type": "code",
   "execution_count": 32,
   "metadata": {
    "id": "yRMPTUkib2hH",
    "ExecuteTime": {
     "end_time": "2024-03-27T23:14:34.527112Z",
     "start_time": "2024-03-27T23:14:34.498136Z"
    }
   },
   "outputs": [
    {
     "data": {
      "text/plain": "                                                       name  \\\nanime_id                                                      \n5114                       Fullmetal Alchemist: Brotherhood   \n9253                                            Steins;Gate   \n11061                                Hunter x Hunter (2011)   \n4181                                   Clannad: After Story   \n918                                                 Gintama   \n...                                                     ...   \n16742     Watashi ga Motenai no wa Dou Kangaetemo Omaera...   \n4382                      Suzumiya Haruhi no Yuuutsu (2009)   \n2993                                     Rosario to Vampire   \n9041                                   IS: Infinite Stratos   \n2476                                            School Days   \n\n                                                      genre type episodes  \\\nanime_id                                                                    \n5114      Action, Adventure, Drama, Fantasy, Magic, Mili...   TV       64   \n9253                                       Sci-Fi, Thriller   TV       24   \n11061               Action, Adventure, Shounen, Super Power   TV      148   \n4181      Drama, Fantasy, Romance, Slice of Life, Supern...   TV       24   \n918       Action, Comedy, Historical, Parody, Samurai, S...   TV      201   \n...                                                     ...  ...      ...   \n16742                Comedy, School, Shounen, Slice of Life   TV       12   \n4382      Comedy, Mystery, Parody, Romance, School, Sci-...   TV       14   \n2993      Comedy, Ecchi, Fantasy, Harem, Romance, School...   TV       13   \n9041                   Action, Comedy, Harem, Mecha, Sci-Fi   TV       12   \n2476                          Drama, Harem, Romance, School   TV       12   \n\n          rating  members  \nanime_id                   \n5114        9.26   793665  \n9253        9.17   673572  \n11061       9.13   425855  \n4181        9.06   456749  \n918         9.04   336376  \n...          ...      ...  \n16742       7.29   257925  \n4382        7.28   243448  \n2993        7.14   299278  \n9041        7.12   254543  \n2476        6.17   279183  \n\n[158 rows x 6 columns]",
      "text/html": "<div>\n<style scoped>\n    .dataframe tbody tr th:only-of-type {\n        vertical-align: middle;\n    }\n\n    .dataframe tbody tr th {\n        vertical-align: top;\n    }\n\n    .dataframe thead th {\n        text-align: right;\n    }\n</style>\n<table border=\"1\" class=\"dataframe\">\n  <thead>\n    <tr style=\"text-align: right;\">\n      <th></th>\n      <th>name</th>\n      <th>genre</th>\n      <th>type</th>\n      <th>episodes</th>\n      <th>rating</th>\n      <th>members</th>\n    </tr>\n    <tr>\n      <th>anime_id</th>\n      <th></th>\n      <th></th>\n      <th></th>\n      <th></th>\n      <th></th>\n      <th></th>\n    </tr>\n  </thead>\n  <tbody>\n    <tr>\n      <th>5114</th>\n      <td>Fullmetal Alchemist: Brotherhood</td>\n      <td>Action, Adventure, Drama, Fantasy, Magic, Mili...</td>\n      <td>TV</td>\n      <td>64</td>\n      <td>9.26</td>\n      <td>793665</td>\n    </tr>\n    <tr>\n      <th>9253</th>\n      <td>Steins;Gate</td>\n      <td>Sci-Fi, Thriller</td>\n      <td>TV</td>\n      <td>24</td>\n      <td>9.17</td>\n      <td>673572</td>\n    </tr>\n    <tr>\n      <th>11061</th>\n      <td>Hunter x Hunter (2011)</td>\n      <td>Action, Adventure, Shounen, Super Power</td>\n      <td>TV</td>\n      <td>148</td>\n      <td>9.13</td>\n      <td>425855</td>\n    </tr>\n    <tr>\n      <th>4181</th>\n      <td>Clannad: After Story</td>\n      <td>Drama, Fantasy, Romance, Slice of Life, Supern...</td>\n      <td>TV</td>\n      <td>24</td>\n      <td>9.06</td>\n      <td>456749</td>\n    </tr>\n    <tr>\n      <th>918</th>\n      <td>Gintama</td>\n      <td>Action, Comedy, Historical, Parody, Samurai, S...</td>\n      <td>TV</td>\n      <td>201</td>\n      <td>9.04</td>\n      <td>336376</td>\n    </tr>\n    <tr>\n      <th>...</th>\n      <td>...</td>\n      <td>...</td>\n      <td>...</td>\n      <td>...</td>\n      <td>...</td>\n      <td>...</td>\n    </tr>\n    <tr>\n      <th>16742</th>\n      <td>Watashi ga Motenai no wa Dou Kangaetemo Omaera...</td>\n      <td>Comedy, School, Shounen, Slice of Life</td>\n      <td>TV</td>\n      <td>12</td>\n      <td>7.29</td>\n      <td>257925</td>\n    </tr>\n    <tr>\n      <th>4382</th>\n      <td>Suzumiya Haruhi no Yuuutsu (2009)</td>\n      <td>Comedy, Mystery, Parody, Romance, School, Sci-...</td>\n      <td>TV</td>\n      <td>14</td>\n      <td>7.28</td>\n      <td>243448</td>\n    </tr>\n    <tr>\n      <th>2993</th>\n      <td>Rosario to Vampire</td>\n      <td>Comedy, Ecchi, Fantasy, Harem, Romance, School...</td>\n      <td>TV</td>\n      <td>13</td>\n      <td>7.14</td>\n      <td>299278</td>\n    </tr>\n    <tr>\n      <th>9041</th>\n      <td>IS: Infinite Stratos</td>\n      <td>Action, Comedy, Harem, Mecha, Sci-Fi</td>\n      <td>TV</td>\n      <td>12</td>\n      <td>7.12</td>\n      <td>254543</td>\n    </tr>\n    <tr>\n      <th>2476</th>\n      <td>School Days</td>\n      <td>Drama, Harem, Romance, School</td>\n      <td>TV</td>\n      <td>12</td>\n      <td>6.17</td>\n      <td>279183</td>\n    </tr>\n  </tbody>\n</table>\n<p>158 rows × 6 columns</p>\n</div>"
     },
     "execution_count": 32,
     "metadata": {},
     "output_type": "execute_result"
    }
   ],
   "source": [
    "anime_members_chauvenet_mask = chauvenet(anime['members'])\n",
    "anime_rating_chauvenet_mask = chauvenet(anime['rating'])\n",
    "outlier_anime_rating = anime[anime_rating_chauvenet_mask]\n",
    "outlier_anime_members = anime[anime_members_chauvenet_mask]\n",
    "outlier_anime_members"
   ]
  },
  {
   "cell_type": "markdown",
   "metadata": {
    "id": "MPL12FNQb2hK"
   },
   "source": [
    "### 9. Ответье на вопросы\n",
    "\n",
    "#### Что критерий посчитал выбросом? \n",
    "Критерий посчитал выбосами аниме с рейтингом или числом участников, значительно среднего значения по этим параметрам.\n",
    "#### Почему критерий посчитал их выбросом? \n",
    "Потому что они сильно отклоняются от среднего значения \n",
    "#### Можем ли мы как то использовать эти аниме в нашей рекомендательной системе? \n",
    "На самом деле выбросы в представляют собой важные данные, которые могут быть полезны для рекомендательной системы т.к. они показывают очень популярные и высокооцененные аниме"
   ]
  },
  {
   "cell_type": "markdown",
   "metadata": {
    "id": "-MCsZX8rb2hL"
   },
   "source": [
    "## Кластеризация по жанрам"
   ]
  },
  {
   "cell_type": "markdown",
   "metadata": {
    "id": "MHZyEqKl5zgm"
   },
   "source": [
    "Данные о жанре хранятся как строка, разделенная запятой `,` . Но нам нужны сами жанры. Придется поколдовать и разделить эту строку на элементы. "
   ]
  },
  {
   "cell_type": "code",
   "execution_count": 33,
   "metadata": {
    "id": "x_2Nragqa1N2",
    "ExecuteTime": {
     "end_time": "2024-03-27T23:14:34.543115Z",
     "start_time": "2024-03-27T23:14:34.529117Z"
    }
   },
   "outputs": [
    {
     "data": {
      "text/plain": "[0, 1, 1, 0, 2, 4, 0, 3, 9, 0, 4, 16, 0, 5, 25]"
     },
     "execution_count": 33,
     "metadata": {},
     "output_type": "execute_result"
    }
   ],
   "source": [
    "from itertools import chain\n",
    "'''\n",
    "Нам нужна функция flatmap.\n",
    "Flatmap получает на вход список, на каждом элементе вызывает функцию f, которая возвращает другой список.\n",
    "В результате получается список списков. В конфе происходит flatten - уплощение списка скписков в один список.\n",
    "'''\n",
    "def flatmap(f, items):\n",
    "    return chain.from_iterable(map(f, items))\n",
    "\n",
    "# пример использования\n",
    "list(flatmap(lambda x: [0, x , x*x], [1,2,3,4,5]))\n",
    "# Первый шаг: [[0, 1, 1], [0, 2, 4], [0, 3, 9], [0, 4, 16], [0, 5, 25]]"
   ]
  },
  {
   "cell_type": "code",
   "execution_count": 34,
   "metadata": {
    "id": "JMm-sCdXa1OF",
    "tags": [],
    "ExecuteTime": {
     "end_time": "2024-03-27T23:14:34.559115Z",
     "start_time": "2024-03-27T23:14:34.545115Z"
    }
   },
   "outputs": [
    {
     "name": "stdout",
     "output_type": "stream",
     "text": [
      "m_uniq[0:10] = ['Drama, Romance, School, Supernatural'\n",
      " 'Action, Adventure, Drama, Fantasy, Magic, Military, Shounen'\n",
      " 'Action, Comedy, Historical, Parody, Samurai, Sci-Fi, Shounen'\n",
      " 'Sci-Fi, Thriller' 'Comedy, Drama, School, Shounen, Sports'\n",
      " 'Action, Adventure, Shounen, Super Power'\n",
      " 'Drama, Military, Sci-Fi, Space'\n",
      " 'Drama, Fantasy, Romance, Slice of Life, Supernatural'\n",
      " 'Drama, School, Shounen'\n",
      " 'Action, Drama, Mecha, Military, Sci-Fi, Super Power']\n",
      "len= 3229\n",
      "\n",
      "Genres=['Hentai', 'Cars', 'Yaoi', 'Historical', 'Drama', 'Seinen', 'Game', 'Action', 'Space', 'Dementia', 'Psychological', 'Shounen Ai', 'Vampire', 'Horror', 'Parody', 'Mecha', 'Romance', 'Shoujo Ai', 'Comedy', 'Shounen', 'School', 'Samurai', 'Sci-Fi', 'Shoujo', 'Sports', 'Demons', 'Mystery', 'Super Power', 'Kids', 'Magic', 'Yuri', 'Supernatural', 'Martial Arts', 'Music', 'Adventure', 'Ecchi', 'Josei', 'Harem', 'Slice of Life', 'Police', 'Thriller', 'Fantasy', 'Military']\n",
      "len=43\n"
     ]
    }
   ],
   "source": [
    "# создаем функцию, которая просто разбивает строку по символу \", \" на подстроки\n",
    "def genre_splitter(genre_names):\n",
    "    return genre_names.split(\", \")\n",
    "\n",
    "m_uniq = anime['genre'].unique() # смотрим сколько всего уникальных комбинация genres есть в датасете\n",
    "print(\"m_uniq[0:10] = {}\\nlen= {}\\n\".format(m_uniq[0:10], len(m_uniq))) # как видим комбинаций очень много, так как там все композиции\n",
    "\n",
    "genres = set(flatmap(genre_splitter, m_uniq)) # разбиваем все genres на составные части и генерируем один массив из всех жанров. Строим по массиву множество уникальных жанров\n",
    "\n",
    "genres = list(genres) # множество превращаем в список\n",
    "print(\"Genres={}\\nlen={}\".format(genres, len(genres)))"
   ]
  },
  {
   "cell_type": "markdown",
   "metadata": {
    "id": "Oa6hsGvs6Plt"
   },
   "source": [
    "### 10. Создадим новую таблицу, где в колонках будет жанр, в строках аниме, а в ячейках 1 если у фильма есть этот жанр и 0 в противном случае.\n",
    "\n",
    "Такой формат таблиц называтеся one-hot-encoding. Только в нашем случае в каждой строке будет не одна единица, а несколько, так как у аниме как правило несолько жанров.\n",
    "\n",
    "Уточнение: жанры должны быть индексами столбцов (columns), а id аниме - индексами строк (index)"
   ]
  },
  {
   "cell_type": "code",
   "execution_count": 35,
   "metadata": {
    "id": "f4kWGYLva1OI",
    "tags": [],
    "ExecuteTime": {
     "end_time": "2024-03-27T23:14:34.826106Z",
     "start_time": "2024-03-27T23:14:34.561119Z"
    }
   },
   "outputs": [
    {
     "data": {
      "text/plain": "          Hentai  Cars  Yaoi  Historical  Drama  Seinen  Game  Action  Space  \\\nanime_id                                                                       \n32281          0     0     0           0      1       0     0       0      0   \n5114           0     0     0           0      1       0     0       1      0   \n28977          0     0     0           1      0       0     0       1      0   \n9253           0     0     0           0      0       0     0       0      0   \n9969           0     0     0           1      0       0     0       1      0   \n\n          Dementia  ...  Music  Adventure  Ecchi  Josei  Harem  Slice of Life  \\\nanime_id            ...                                                         \n32281            0  ...      0          0      0      0      0              0   \n5114             0  ...      0          1      0      0      0              0   \n28977            0  ...      0          0      0      0      0              0   \n9253             0  ...      0          0      0      0      0              0   \n9969             0  ...      0          0      0      0      0              0   \n\n          Police  Thriller  Fantasy  Military  \nanime_id                                       \n32281          0         0        0         0  \n5114           0         0        1         1  \n28977          0         0        0         0  \n9253           0         1        0         0  \n9969           0         0        0         0  \n\n[5 rows x 43 columns]",
      "text/html": "<div>\n<style scoped>\n    .dataframe tbody tr th:only-of-type {\n        vertical-align: middle;\n    }\n\n    .dataframe tbody tr th {\n        vertical-align: top;\n    }\n\n    .dataframe thead th {\n        text-align: right;\n    }\n</style>\n<table border=\"1\" class=\"dataframe\">\n  <thead>\n    <tr style=\"text-align: right;\">\n      <th></th>\n      <th>Hentai</th>\n      <th>Cars</th>\n      <th>Yaoi</th>\n      <th>Historical</th>\n      <th>Drama</th>\n      <th>Seinen</th>\n      <th>Game</th>\n      <th>Action</th>\n      <th>Space</th>\n      <th>Dementia</th>\n      <th>...</th>\n      <th>Music</th>\n      <th>Adventure</th>\n      <th>Ecchi</th>\n      <th>Josei</th>\n      <th>Harem</th>\n      <th>Slice of Life</th>\n      <th>Police</th>\n      <th>Thriller</th>\n      <th>Fantasy</th>\n      <th>Military</th>\n    </tr>\n    <tr>\n      <th>anime_id</th>\n      <th></th>\n      <th></th>\n      <th></th>\n      <th></th>\n      <th></th>\n      <th></th>\n      <th></th>\n      <th></th>\n      <th></th>\n      <th></th>\n      <th></th>\n      <th></th>\n      <th></th>\n      <th></th>\n      <th></th>\n      <th></th>\n      <th></th>\n      <th></th>\n      <th></th>\n      <th></th>\n      <th></th>\n    </tr>\n  </thead>\n  <tbody>\n    <tr>\n      <th>32281</th>\n      <td>0</td>\n      <td>0</td>\n      <td>0</td>\n      <td>0</td>\n      <td>1</td>\n      <td>0</td>\n      <td>0</td>\n      <td>0</td>\n      <td>0</td>\n      <td>0</td>\n      <td>...</td>\n      <td>0</td>\n      <td>0</td>\n      <td>0</td>\n      <td>0</td>\n      <td>0</td>\n      <td>0</td>\n      <td>0</td>\n      <td>0</td>\n      <td>0</td>\n      <td>0</td>\n    </tr>\n    <tr>\n      <th>5114</th>\n      <td>0</td>\n      <td>0</td>\n      <td>0</td>\n      <td>0</td>\n      <td>1</td>\n      <td>0</td>\n      <td>0</td>\n      <td>1</td>\n      <td>0</td>\n      <td>0</td>\n      <td>...</td>\n      <td>0</td>\n      <td>1</td>\n      <td>0</td>\n      <td>0</td>\n      <td>0</td>\n      <td>0</td>\n      <td>0</td>\n      <td>0</td>\n      <td>1</td>\n      <td>1</td>\n    </tr>\n    <tr>\n      <th>28977</th>\n      <td>0</td>\n      <td>0</td>\n      <td>0</td>\n      <td>1</td>\n      <td>0</td>\n      <td>0</td>\n      <td>0</td>\n      <td>1</td>\n      <td>0</td>\n      <td>0</td>\n      <td>...</td>\n      <td>0</td>\n      <td>0</td>\n      <td>0</td>\n      <td>0</td>\n      <td>0</td>\n      <td>0</td>\n      <td>0</td>\n      <td>0</td>\n      <td>0</td>\n      <td>0</td>\n    </tr>\n    <tr>\n      <th>9253</th>\n      <td>0</td>\n      <td>0</td>\n      <td>0</td>\n      <td>0</td>\n      <td>0</td>\n      <td>0</td>\n      <td>0</td>\n      <td>0</td>\n      <td>0</td>\n      <td>0</td>\n      <td>...</td>\n      <td>0</td>\n      <td>0</td>\n      <td>0</td>\n      <td>0</td>\n      <td>0</td>\n      <td>0</td>\n      <td>0</td>\n      <td>1</td>\n      <td>0</td>\n      <td>0</td>\n    </tr>\n    <tr>\n      <th>9969</th>\n      <td>0</td>\n      <td>0</td>\n      <td>0</td>\n      <td>1</td>\n      <td>0</td>\n      <td>0</td>\n      <td>0</td>\n      <td>1</td>\n      <td>0</td>\n      <td>0</td>\n      <td>...</td>\n      <td>0</td>\n      <td>0</td>\n      <td>0</td>\n      <td>0</td>\n      <td>0</td>\n      <td>0</td>\n      <td>0</td>\n      <td>0</td>\n      <td>0</td>\n      <td>0</td>\n    </tr>\n  </tbody>\n</table>\n<p>5 rows × 43 columns</p>\n</div>"
     },
     "execution_count": 35,
     "metadata": {},
     "output_type": "execute_result"
    }
   ],
   "source": [
    "anime['genre'] = anime['genre'].apply(genre_splitter)\n",
    "\n",
    "one_hot_encoded = pd.DataFrame(index=anime.index)\n",
    "\n",
    "for genre in genres:\n",
    "    one_hot_encoded[genre] = anime['genre'].apply(lambda x: int(genre in x))\n",
    "\n",
    "one_hot_encoded.head()"
   ]
  },
  {
   "cell_type": "markdown",
   "metadata": {
    "id": "r33UeY26a1OL"
   },
   "source": [
    "Итак, у нас есть следующие таблицы:\n",
    "- Жанры аниме - в строчках аниме, в столбцах жанр аниме, а в ячейках 0 или 1.\n",
    "- Рейтинги - в строчках пользователи, в столбцах id аниме и рейтинг\n",
    "\n",
    "Нужно получить другую таблицу, в которой в строках будут пользователи, а в столбцах жанры аниме. А в ячейках средняя оценка жанра этим пользователем.\n",
    "\n",
    "Средняя оценка жанра вычисляется следующим образом: берём все отзывы пользователя. Группируем все его отзывы по жанрам и считаем средний рейтинг, который он ставит аниме с данным жанром.\n",
    "\n",
    "Выполним следущие шаги.\n",
    "\n",
    "### 11. Соединим две таблицы:<br>\n",
    "1. жанры по каждому аниме<br>\n",
    "2. оценки аниме от людей. Кстати, один человек мог посмотреть 1 аниме или 100, но не все!<br>\n",
    "\n",
    "Получим таблицу, где строк будет N*M штук, где N - количество юзеров и M - количество аниме"
   ]
  },
  {
   "cell_type": "code",
   "execution_count": 36,
   "metadata": {
    "id": "-UZ89H8ra1OM",
    "ExecuteTime": {
     "end_time": "2024-03-27T23:14:37.360726Z",
     "start_time": "2024-03-27T23:14:34.828108Z"
    }
   },
   "outputs": [
    {
     "data": {
      "text/plain": "         user_id  anime_id  rating  Hentai  Cars  Yaoi  Historical  Drama  \\\n0            5.0         6     8.0     0.0   0.0   0.0         0.0    0.0   \n1           17.0         6     7.0     0.0   0.0   0.0         0.0    0.0   \n2          129.0         6     9.0     0.0   0.0   0.0         0.0    0.0   \n3          160.0         6     7.0     0.0   0.0   0.0         0.0    0.0   \n4          226.0         6     8.0     0.0   0.0   0.0         0.0    0.0   \n...          ...       ...     ...     ...   ...   ...         ...    ...   \n3602089      NaN      5541     NaN     1.0   0.0   0.0         0.0    0.0   \n3602090      NaN      5543     NaN     1.0   0.0   0.0         0.0    0.0   \n3602091      NaN      5621     NaN     1.0   0.0   0.0         0.0    0.0   \n3602092      NaN      6133     NaN     1.0   0.0   0.0         0.0    0.0   \n3602093      NaN     26081     NaN     1.0   0.0   0.0         0.0    0.0   \n\n         Seinen  Game  ...  Music  Adventure  Ecchi  Josei  Harem  \\\n0           0.0   0.0  ...    0.0        0.0    0.0    0.0    0.0   \n1           0.0   0.0  ...    0.0        0.0    0.0    0.0    0.0   \n2           0.0   0.0  ...    0.0        0.0    0.0    0.0    0.0   \n3           0.0   0.0  ...    0.0        0.0    0.0    0.0    0.0   \n4           0.0   0.0  ...    0.0        0.0    0.0    0.0    0.0   \n...         ...   ...  ...    ...        ...    ...    ...    ...   \n3602089     0.0   0.0  ...    0.0        0.0    0.0    0.0    0.0   \n3602090     0.0   0.0  ...    0.0        0.0    0.0    0.0    0.0   \n3602091     0.0   0.0  ...    0.0        0.0    0.0    0.0    0.0   \n3602092     0.0   0.0  ...    0.0        0.0    0.0    0.0    0.0   \n3602093     0.0   0.0  ...    0.0        0.0    0.0    0.0    0.0   \n\n         Slice of Life  Police  Thriller  Fantasy  Military  \n0                  0.0     0.0       0.0      0.0       0.0  \n1                  0.0     0.0       0.0      0.0       0.0  \n2                  0.0     0.0       0.0      0.0       0.0  \n3                  0.0     0.0       0.0      0.0       0.0  \n4                  0.0     0.0       0.0      0.0       0.0  \n...                ...     ...       ...      ...       ...  \n3602089            0.0     0.0       0.0      0.0       0.0  \n3602090            0.0     0.0       0.0      0.0       0.0  \n3602091            0.0     0.0       0.0      0.0       0.0  \n3602092            0.0     0.0       0.0      0.0       0.0  \n3602093            0.0     0.0       0.0      0.0       0.0  \n\n[3602094 rows x 46 columns]",
      "text/html": "<div>\n<style scoped>\n    .dataframe tbody tr th:only-of-type {\n        vertical-align: middle;\n    }\n\n    .dataframe tbody tr th {\n        vertical-align: top;\n    }\n\n    .dataframe thead th {\n        text-align: right;\n    }\n</style>\n<table border=\"1\" class=\"dataframe\">\n  <thead>\n    <tr style=\"text-align: right;\">\n      <th></th>\n      <th>user_id</th>\n      <th>anime_id</th>\n      <th>rating</th>\n      <th>Hentai</th>\n      <th>Cars</th>\n      <th>Yaoi</th>\n      <th>Historical</th>\n      <th>Drama</th>\n      <th>Seinen</th>\n      <th>Game</th>\n      <th>...</th>\n      <th>Music</th>\n      <th>Adventure</th>\n      <th>Ecchi</th>\n      <th>Josei</th>\n      <th>Harem</th>\n      <th>Slice of Life</th>\n      <th>Police</th>\n      <th>Thriller</th>\n      <th>Fantasy</th>\n      <th>Military</th>\n    </tr>\n  </thead>\n  <tbody>\n    <tr>\n      <th>0</th>\n      <td>5.0</td>\n      <td>6</td>\n      <td>8.0</td>\n      <td>0.0</td>\n      <td>0.0</td>\n      <td>0.0</td>\n      <td>0.0</td>\n      <td>0.0</td>\n      <td>0.0</td>\n      <td>0.0</td>\n      <td>...</td>\n      <td>0.0</td>\n      <td>0.0</td>\n      <td>0.0</td>\n      <td>0.0</td>\n      <td>0.0</td>\n      <td>0.0</td>\n      <td>0.0</td>\n      <td>0.0</td>\n      <td>0.0</td>\n      <td>0.0</td>\n    </tr>\n    <tr>\n      <th>1</th>\n      <td>17.0</td>\n      <td>6</td>\n      <td>7.0</td>\n      <td>0.0</td>\n      <td>0.0</td>\n      <td>0.0</td>\n      <td>0.0</td>\n      <td>0.0</td>\n      <td>0.0</td>\n      <td>0.0</td>\n      <td>...</td>\n      <td>0.0</td>\n      <td>0.0</td>\n      <td>0.0</td>\n      <td>0.0</td>\n      <td>0.0</td>\n      <td>0.0</td>\n      <td>0.0</td>\n      <td>0.0</td>\n      <td>0.0</td>\n      <td>0.0</td>\n    </tr>\n    <tr>\n      <th>2</th>\n      <td>129.0</td>\n      <td>6</td>\n      <td>9.0</td>\n      <td>0.0</td>\n      <td>0.0</td>\n      <td>0.0</td>\n      <td>0.0</td>\n      <td>0.0</td>\n      <td>0.0</td>\n      <td>0.0</td>\n      <td>...</td>\n      <td>0.0</td>\n      <td>0.0</td>\n      <td>0.0</td>\n      <td>0.0</td>\n      <td>0.0</td>\n      <td>0.0</td>\n      <td>0.0</td>\n      <td>0.0</td>\n      <td>0.0</td>\n      <td>0.0</td>\n    </tr>\n    <tr>\n      <th>3</th>\n      <td>160.0</td>\n      <td>6</td>\n      <td>7.0</td>\n      <td>0.0</td>\n      <td>0.0</td>\n      <td>0.0</td>\n      <td>0.0</td>\n      <td>0.0</td>\n      <td>0.0</td>\n      <td>0.0</td>\n      <td>...</td>\n      <td>0.0</td>\n      <td>0.0</td>\n      <td>0.0</td>\n      <td>0.0</td>\n      <td>0.0</td>\n      <td>0.0</td>\n      <td>0.0</td>\n      <td>0.0</td>\n      <td>0.0</td>\n      <td>0.0</td>\n    </tr>\n    <tr>\n      <th>4</th>\n      <td>226.0</td>\n      <td>6</td>\n      <td>8.0</td>\n      <td>0.0</td>\n      <td>0.0</td>\n      <td>0.0</td>\n      <td>0.0</td>\n      <td>0.0</td>\n      <td>0.0</td>\n      <td>0.0</td>\n      <td>...</td>\n      <td>0.0</td>\n      <td>0.0</td>\n      <td>0.0</td>\n      <td>0.0</td>\n      <td>0.0</td>\n      <td>0.0</td>\n      <td>0.0</td>\n      <td>0.0</td>\n      <td>0.0</td>\n      <td>0.0</td>\n    </tr>\n    <tr>\n      <th>...</th>\n      <td>...</td>\n      <td>...</td>\n      <td>...</td>\n      <td>...</td>\n      <td>...</td>\n      <td>...</td>\n      <td>...</td>\n      <td>...</td>\n      <td>...</td>\n      <td>...</td>\n      <td>...</td>\n      <td>...</td>\n      <td>...</td>\n      <td>...</td>\n      <td>...</td>\n      <td>...</td>\n      <td>...</td>\n      <td>...</td>\n      <td>...</td>\n      <td>...</td>\n      <td>...</td>\n    </tr>\n    <tr>\n      <th>3602089</th>\n      <td>NaN</td>\n      <td>5541</td>\n      <td>NaN</td>\n      <td>1.0</td>\n      <td>0.0</td>\n      <td>0.0</td>\n      <td>0.0</td>\n      <td>0.0</td>\n      <td>0.0</td>\n      <td>0.0</td>\n      <td>...</td>\n      <td>0.0</td>\n      <td>0.0</td>\n      <td>0.0</td>\n      <td>0.0</td>\n      <td>0.0</td>\n      <td>0.0</td>\n      <td>0.0</td>\n      <td>0.0</td>\n      <td>0.0</td>\n      <td>0.0</td>\n    </tr>\n    <tr>\n      <th>3602090</th>\n      <td>NaN</td>\n      <td>5543</td>\n      <td>NaN</td>\n      <td>1.0</td>\n      <td>0.0</td>\n      <td>0.0</td>\n      <td>0.0</td>\n      <td>0.0</td>\n      <td>0.0</td>\n      <td>0.0</td>\n      <td>...</td>\n      <td>0.0</td>\n      <td>0.0</td>\n      <td>0.0</td>\n      <td>0.0</td>\n      <td>0.0</td>\n      <td>0.0</td>\n      <td>0.0</td>\n      <td>0.0</td>\n      <td>0.0</td>\n      <td>0.0</td>\n    </tr>\n    <tr>\n      <th>3602091</th>\n      <td>NaN</td>\n      <td>5621</td>\n      <td>NaN</td>\n      <td>1.0</td>\n      <td>0.0</td>\n      <td>0.0</td>\n      <td>0.0</td>\n      <td>0.0</td>\n      <td>0.0</td>\n      <td>0.0</td>\n      <td>...</td>\n      <td>0.0</td>\n      <td>0.0</td>\n      <td>0.0</td>\n      <td>0.0</td>\n      <td>0.0</td>\n      <td>0.0</td>\n      <td>0.0</td>\n      <td>0.0</td>\n      <td>0.0</td>\n      <td>0.0</td>\n    </tr>\n    <tr>\n      <th>3602092</th>\n      <td>NaN</td>\n      <td>6133</td>\n      <td>NaN</td>\n      <td>1.0</td>\n      <td>0.0</td>\n      <td>0.0</td>\n      <td>0.0</td>\n      <td>0.0</td>\n      <td>0.0</td>\n      <td>0.0</td>\n      <td>...</td>\n      <td>0.0</td>\n      <td>0.0</td>\n      <td>0.0</td>\n      <td>0.0</td>\n      <td>0.0</td>\n      <td>0.0</td>\n      <td>0.0</td>\n      <td>0.0</td>\n      <td>0.0</td>\n      <td>0.0</td>\n    </tr>\n    <tr>\n      <th>3602093</th>\n      <td>NaN</td>\n      <td>26081</td>\n      <td>NaN</td>\n      <td>1.0</td>\n      <td>0.0</td>\n      <td>0.0</td>\n      <td>0.0</td>\n      <td>0.0</td>\n      <td>0.0</td>\n      <td>0.0</td>\n      <td>...</td>\n      <td>0.0</td>\n      <td>0.0</td>\n      <td>0.0</td>\n      <td>0.0</td>\n      <td>0.0</td>\n      <td>0.0</td>\n      <td>0.0</td>\n      <td>0.0</td>\n      <td>0.0</td>\n      <td>0.0</td>\n    </tr>\n  </tbody>\n</table>\n<p>3602094 rows × 46 columns</p>\n</div>"
     },
     "execution_count": 36,
     "metadata": {},
     "output_type": "execute_result"
    }
   ],
   "source": [
    "df_merged = pd.merge(ratings, one_hot_encoded, on='anime_id', how='outer')\n",
    "df_merged"
   ]
  },
  {
   "cell_type": "markdown",
   "metadata": {
    "id": "nd5AyQk7a1OP"
   },
   "source": [
    "С такой таблицей `(N*M) * G` вы всё еще не можем работать.  \n",
    "### 12. Сгруппируем строки по пользователям (колонка `userId`).  В группах посчитаем среднюю оценку на жанр. А если пользователь не смотрел фильм, то поставим ему `-1` в соответсвующую ячейку.\n",
    "Чтобы посчитать среднее(mean) без учета непросмотренных аниме замените все `0` на `np.NaN`"
   ]
  },
  {
   "cell_type": "code",
   "execution_count": 37,
   "metadata": {
    "id": "NZUl41QBa1OP",
    "tags": [],
    "ExecuteTime": {
     "end_time": "2024-03-27T23:14:47.972944Z",
     "start_time": "2024-03-27T23:14:37.362704Z"
    }
   },
   "outputs": [
    {
     "data": {
      "text/plain": "             anime_id    rating  Hentai  Cars  Yaoi  Historical     Drama  \\\nuser_id                                                                     \n5.0      11023.301927  4.355120     NaN   6.0   NaN    6.666667  5.217949   \n7.0      15824.320700  7.387755     NaN   NaN   NaN    8.200000  7.750000   \n17.0     16251.469218  6.901720     NaN   8.0   NaN    6.833333  7.264706   \n38.0     13640.897233  6.703557     NaN   NaN   NaN    7.285714  7.019231   \n43.0     14817.133803  7.753571     NaN   NaN   NaN    8.076923  7.444444   \n...               ...       ...     ...   ...   ...         ...       ...   \n73491.0   2740.895652  8.941176     NaN   NaN   NaN    8.500000  9.714286   \n73499.0   8383.679934  7.832504     NaN   9.0   NaN    8.468750  8.142857   \n73502.0   7171.731373  8.580198     NaN   9.0   NaN    9.272727  8.832061   \n73503.0  11336.808943  6.418699     NaN   NaN   NaN    6.777778  6.944444   \n73507.0   3579.563707  7.814672     NaN   7.8   NaN    8.333333  8.318182   \n\n            Seinen      Game    Action  ...     Music  Adventure      Ecchi  \\\nuser_id                                 ...                                   \n5.0       4.210526  4.100000  4.701299  ...  4.727273   5.186813   2.510000   \n7.0       7.259259  7.666667  7.484127  ...  6.571429   7.700000   6.909091   \n17.0      6.779661  7.153846  7.027211  ...  7.083333   7.458333   6.696970   \n38.0      6.648649  8.777778  6.925714  ...  6.666667   7.775000   4.324324   \n43.0      8.093750  7.800000  7.823834  ...       NaN   7.828571   7.655172   \n...            ...       ...       ...  ...       ...        ...        ...   \n73491.0  10.000000       NaN  9.000000  ...       NaN   9.000000  10.000000   \n73499.0   7.625000  8.500000  7.927778  ...  7.869565   8.157895   7.342342   \n73502.0   8.763636  8.857143  8.658228  ...  8.833333   8.813953   7.744186   \n73503.0   6.892857  5.857143  6.389610  ...  8.500000   6.157895   5.230769   \n73507.0   8.206897       NaN  7.821782  ...  7.750000   8.371429   6.651163   \n\n            Josei      Harem  Slice of Life    Police  Thriller   Fantasy  \\\nuser_id                                                                     \n5.0      7.000000   2.217949       4.506849  2.500000  7.285714  4.410526   \n7.0           NaN   7.111111       7.137255  7.500000  8.363636  7.337209   \n17.0     9.000000   6.433333       6.900000  7.600000  8.062500  6.973684   \n38.0     4.000000   4.212121       6.437500  6.000000  8.052632  6.883333   \n43.0          NaN   7.717949       7.444444  7.571429  7.833333  7.513761   \n...           ...        ...            ...       ...       ...       ...   \n73491.0       NaN  10.000000       9.500000  9.000000       NaN  8.750000   \n73499.0  8.555556   7.687500       8.177570  7.285714  8.318182  7.947917   \n73502.0  9.181818   8.000000       8.885965  9.000000  9.555556  8.602740   \n73503.0  6.750000   4.700000       7.277778  8.000000  7.476190  6.022472   \n73507.0       NaN   6.956522       8.348837  8.500000  8.904762  7.542857   \n\n         Military  \nuser_id            \n5.0      4.750000  \n7.0      7.111111  \n17.0     7.280000  \n38.0     6.928571  \n43.0     7.384615  \n...           ...  \n73491.0       NaN  \n73499.0  7.470588  \n73502.0  8.500000  \n73503.0  7.263158  \n73507.0  6.923077  \n\n[10789 rows x 45 columns]",
      "text/html": "<div>\n<style scoped>\n    .dataframe tbody tr th:only-of-type {\n        vertical-align: middle;\n    }\n\n    .dataframe tbody tr th {\n        vertical-align: top;\n    }\n\n    .dataframe thead th {\n        text-align: right;\n    }\n</style>\n<table border=\"1\" class=\"dataframe\">\n  <thead>\n    <tr style=\"text-align: right;\">\n      <th></th>\n      <th>anime_id</th>\n      <th>rating</th>\n      <th>Hentai</th>\n      <th>Cars</th>\n      <th>Yaoi</th>\n      <th>Historical</th>\n      <th>Drama</th>\n      <th>Seinen</th>\n      <th>Game</th>\n      <th>Action</th>\n      <th>...</th>\n      <th>Music</th>\n      <th>Adventure</th>\n      <th>Ecchi</th>\n      <th>Josei</th>\n      <th>Harem</th>\n      <th>Slice of Life</th>\n      <th>Police</th>\n      <th>Thriller</th>\n      <th>Fantasy</th>\n      <th>Military</th>\n    </tr>\n    <tr>\n      <th>user_id</th>\n      <th></th>\n      <th></th>\n      <th></th>\n      <th></th>\n      <th></th>\n      <th></th>\n      <th></th>\n      <th></th>\n      <th></th>\n      <th></th>\n      <th></th>\n      <th></th>\n      <th></th>\n      <th></th>\n      <th></th>\n      <th></th>\n      <th></th>\n      <th></th>\n      <th></th>\n      <th></th>\n      <th></th>\n    </tr>\n  </thead>\n  <tbody>\n    <tr>\n      <th>5.0</th>\n      <td>11023.301927</td>\n      <td>4.355120</td>\n      <td>NaN</td>\n      <td>6.0</td>\n      <td>NaN</td>\n      <td>6.666667</td>\n      <td>5.217949</td>\n      <td>4.210526</td>\n      <td>4.100000</td>\n      <td>4.701299</td>\n      <td>...</td>\n      <td>4.727273</td>\n      <td>5.186813</td>\n      <td>2.510000</td>\n      <td>7.000000</td>\n      <td>2.217949</td>\n      <td>4.506849</td>\n      <td>2.500000</td>\n      <td>7.285714</td>\n      <td>4.410526</td>\n      <td>4.750000</td>\n    </tr>\n    <tr>\n      <th>7.0</th>\n      <td>15824.320700</td>\n      <td>7.387755</td>\n      <td>NaN</td>\n      <td>NaN</td>\n      <td>NaN</td>\n      <td>8.200000</td>\n      <td>7.750000</td>\n      <td>7.259259</td>\n      <td>7.666667</td>\n      <td>7.484127</td>\n      <td>...</td>\n      <td>6.571429</td>\n      <td>7.700000</td>\n      <td>6.909091</td>\n      <td>NaN</td>\n      <td>7.111111</td>\n      <td>7.137255</td>\n      <td>7.500000</td>\n      <td>8.363636</td>\n      <td>7.337209</td>\n      <td>7.111111</td>\n    </tr>\n    <tr>\n      <th>17.0</th>\n      <td>16251.469218</td>\n      <td>6.901720</td>\n      <td>NaN</td>\n      <td>8.0</td>\n      <td>NaN</td>\n      <td>6.833333</td>\n      <td>7.264706</td>\n      <td>6.779661</td>\n      <td>7.153846</td>\n      <td>7.027211</td>\n      <td>...</td>\n      <td>7.083333</td>\n      <td>7.458333</td>\n      <td>6.696970</td>\n      <td>9.000000</td>\n      <td>6.433333</td>\n      <td>6.900000</td>\n      <td>7.600000</td>\n      <td>8.062500</td>\n      <td>6.973684</td>\n      <td>7.280000</td>\n    </tr>\n    <tr>\n      <th>38.0</th>\n      <td>13640.897233</td>\n      <td>6.703557</td>\n      <td>NaN</td>\n      <td>NaN</td>\n      <td>NaN</td>\n      <td>7.285714</td>\n      <td>7.019231</td>\n      <td>6.648649</td>\n      <td>8.777778</td>\n      <td>6.925714</td>\n      <td>...</td>\n      <td>6.666667</td>\n      <td>7.775000</td>\n      <td>4.324324</td>\n      <td>4.000000</td>\n      <td>4.212121</td>\n      <td>6.437500</td>\n      <td>6.000000</td>\n      <td>8.052632</td>\n      <td>6.883333</td>\n      <td>6.928571</td>\n    </tr>\n    <tr>\n      <th>43.0</th>\n      <td>14817.133803</td>\n      <td>7.753571</td>\n      <td>NaN</td>\n      <td>NaN</td>\n      <td>NaN</td>\n      <td>8.076923</td>\n      <td>7.444444</td>\n      <td>8.093750</td>\n      <td>7.800000</td>\n      <td>7.823834</td>\n      <td>...</td>\n      <td>NaN</td>\n      <td>7.828571</td>\n      <td>7.655172</td>\n      <td>NaN</td>\n      <td>7.717949</td>\n      <td>7.444444</td>\n      <td>7.571429</td>\n      <td>7.833333</td>\n      <td>7.513761</td>\n      <td>7.384615</td>\n    </tr>\n    <tr>\n      <th>...</th>\n      <td>...</td>\n      <td>...</td>\n      <td>...</td>\n      <td>...</td>\n      <td>...</td>\n      <td>...</td>\n      <td>...</td>\n      <td>...</td>\n      <td>...</td>\n      <td>...</td>\n      <td>...</td>\n      <td>...</td>\n      <td>...</td>\n      <td>...</td>\n      <td>...</td>\n      <td>...</td>\n      <td>...</td>\n      <td>...</td>\n      <td>...</td>\n      <td>...</td>\n      <td>...</td>\n    </tr>\n    <tr>\n      <th>73491.0</th>\n      <td>2740.895652</td>\n      <td>8.941176</td>\n      <td>NaN</td>\n      <td>NaN</td>\n      <td>NaN</td>\n      <td>8.500000</td>\n      <td>9.714286</td>\n      <td>10.000000</td>\n      <td>NaN</td>\n      <td>9.000000</td>\n      <td>...</td>\n      <td>NaN</td>\n      <td>9.000000</td>\n      <td>10.000000</td>\n      <td>NaN</td>\n      <td>10.000000</td>\n      <td>9.500000</td>\n      <td>9.000000</td>\n      <td>NaN</td>\n      <td>8.750000</td>\n      <td>NaN</td>\n    </tr>\n    <tr>\n      <th>73499.0</th>\n      <td>8383.679934</td>\n      <td>7.832504</td>\n      <td>NaN</td>\n      <td>9.0</td>\n      <td>NaN</td>\n      <td>8.468750</td>\n      <td>8.142857</td>\n      <td>7.625000</td>\n      <td>8.500000</td>\n      <td>7.927778</td>\n      <td>...</td>\n      <td>7.869565</td>\n      <td>8.157895</td>\n      <td>7.342342</td>\n      <td>8.555556</td>\n      <td>7.687500</td>\n      <td>8.177570</td>\n      <td>7.285714</td>\n      <td>8.318182</td>\n      <td>7.947917</td>\n      <td>7.470588</td>\n    </tr>\n    <tr>\n      <th>73502.0</th>\n      <td>7171.731373</td>\n      <td>8.580198</td>\n      <td>NaN</td>\n      <td>9.0</td>\n      <td>NaN</td>\n      <td>9.272727</td>\n      <td>8.832061</td>\n      <td>8.763636</td>\n      <td>8.857143</td>\n      <td>8.658228</td>\n      <td>...</td>\n      <td>8.833333</td>\n      <td>8.813953</td>\n      <td>7.744186</td>\n      <td>9.181818</td>\n      <td>8.000000</td>\n      <td>8.885965</td>\n      <td>9.000000</td>\n      <td>9.555556</td>\n      <td>8.602740</td>\n      <td>8.500000</td>\n    </tr>\n    <tr>\n      <th>73503.0</th>\n      <td>11336.808943</td>\n      <td>6.418699</td>\n      <td>NaN</td>\n      <td>NaN</td>\n      <td>NaN</td>\n      <td>6.777778</td>\n      <td>6.944444</td>\n      <td>6.892857</td>\n      <td>5.857143</td>\n      <td>6.389610</td>\n      <td>...</td>\n      <td>8.500000</td>\n      <td>6.157895</td>\n      <td>5.230769</td>\n      <td>6.750000</td>\n      <td>4.700000</td>\n      <td>7.277778</td>\n      <td>8.000000</td>\n      <td>7.476190</td>\n      <td>6.022472</td>\n      <td>7.263158</td>\n    </tr>\n    <tr>\n      <th>73507.0</th>\n      <td>3579.563707</td>\n      <td>7.814672</td>\n      <td>NaN</td>\n      <td>7.8</td>\n      <td>NaN</td>\n      <td>8.333333</td>\n      <td>8.318182</td>\n      <td>8.206897</td>\n      <td>NaN</td>\n      <td>7.821782</td>\n      <td>...</td>\n      <td>7.750000</td>\n      <td>8.371429</td>\n      <td>6.651163</td>\n      <td>NaN</td>\n      <td>6.956522</td>\n      <td>8.348837</td>\n      <td>8.500000</td>\n      <td>8.904762</td>\n      <td>7.542857</td>\n      <td>6.923077</td>\n    </tr>\n  </tbody>\n</table>\n<p>10789 rows × 45 columns</p>\n</div>"
     },
     "execution_count": 37,
     "metadata": {},
     "output_type": "execute_result"
    }
   ],
   "source": [
    "df_merged.replace(0, np.NaN, inplace=True)\n",
    "\n",
    "for genre in genres: \n",
    "    df_merged[genre] = df_merged[genre] * df_merged[\"rating\"]\n",
    "\n",
    "df_grouped = df_merged.groupby(\"user_id\").mean()\n",
    "\n",
    "df_grouped"
   ]
  },
  {
   "cell_type": "markdown",
   "metadata": {
    "id": "FQ9UuFn0b2hX"
   },
   "source": [
    "Так как некоторые пользователи не смотрели ничего из некоторых жанров, в данных осталось много `np.NaN`\n",
    "### 13. Заполните все NaN на -1\n",
    "\n",
    "**Hint** [fillna](https://pandas.pydata.org/pandas-docs/stable/reference/api/pandas.DataFrame.fillna.html)"
   ]
  },
  {
   "cell_type": "code",
   "execution_count": 38,
   "metadata": {
    "id": "uDoXl9XFb2hY",
    "tags": [],
    "ExecuteTime": {
     "end_time": "2024-03-27T23:14:48.020470Z",
     "start_time": "2024-03-27T23:14:47.974942Z"
    }
   },
   "outputs": [
    {
     "data": {
      "text/plain": "             anime_id    rating  Hentai  Cars  Yaoi  Historical     Drama  \\\nuser_id                                                                     \n5.0      11023.301927  4.355120    -1.0   6.0  -1.0    6.666667  5.217949   \n7.0      15824.320700  7.387755    -1.0  -1.0  -1.0    8.200000  7.750000   \n17.0     16251.469218  6.901720    -1.0   8.0  -1.0    6.833333  7.264706   \n38.0     13640.897233  6.703557    -1.0  -1.0  -1.0    7.285714  7.019231   \n43.0     14817.133803  7.753571    -1.0  -1.0  -1.0    8.076923  7.444444   \n...               ...       ...     ...   ...   ...         ...       ...   \n73491.0   2740.895652  8.941176    -1.0  -1.0  -1.0    8.500000  9.714286   \n73499.0   8383.679934  7.832504    -1.0   9.0  -1.0    8.468750  8.142857   \n73502.0   7171.731373  8.580198    -1.0   9.0  -1.0    9.272727  8.832061   \n73503.0  11336.808943  6.418699    -1.0  -1.0  -1.0    6.777778  6.944444   \n73507.0   3579.563707  7.814672    -1.0   7.8  -1.0    8.333333  8.318182   \n\n            Seinen      Game    Action  ...     Music  Adventure      Ecchi  \\\nuser_id                                 ...                                   \n5.0       4.210526  4.100000  4.701299  ...  4.727273   5.186813   2.510000   \n7.0       7.259259  7.666667  7.484127  ...  6.571429   7.700000   6.909091   \n17.0      6.779661  7.153846  7.027211  ...  7.083333   7.458333   6.696970   \n38.0      6.648649  8.777778  6.925714  ...  6.666667   7.775000   4.324324   \n43.0      8.093750  7.800000  7.823834  ... -1.000000   7.828571   7.655172   \n...            ...       ...       ...  ...       ...        ...        ...   \n73491.0  10.000000 -1.000000  9.000000  ... -1.000000   9.000000  10.000000   \n73499.0   7.625000  8.500000  7.927778  ...  7.869565   8.157895   7.342342   \n73502.0   8.763636  8.857143  8.658228  ...  8.833333   8.813953   7.744186   \n73503.0   6.892857  5.857143  6.389610  ...  8.500000   6.157895   5.230769   \n73507.0   8.206897 -1.000000  7.821782  ...  7.750000   8.371429   6.651163   \n\n            Josei      Harem  Slice of Life    Police  Thriller   Fantasy  \\\nuser_id                                                                     \n5.0      7.000000   2.217949       4.506849  2.500000  7.285714  4.410526   \n7.0     -1.000000   7.111111       7.137255  7.500000  8.363636  7.337209   \n17.0     9.000000   6.433333       6.900000  7.600000  8.062500  6.973684   \n38.0     4.000000   4.212121       6.437500  6.000000  8.052632  6.883333   \n43.0    -1.000000   7.717949       7.444444  7.571429  7.833333  7.513761   \n...           ...        ...            ...       ...       ...       ...   \n73491.0 -1.000000  10.000000       9.500000  9.000000 -1.000000  8.750000   \n73499.0  8.555556   7.687500       8.177570  7.285714  8.318182  7.947917   \n73502.0  9.181818   8.000000       8.885965  9.000000  9.555556  8.602740   \n73503.0  6.750000   4.700000       7.277778  8.000000  7.476190  6.022472   \n73507.0 -1.000000   6.956522       8.348837  8.500000  8.904762  7.542857   \n\n         Military  \nuser_id            \n5.0      4.750000  \n7.0      7.111111  \n17.0     7.280000  \n38.0     6.928571  \n43.0     7.384615  \n...           ...  \n73491.0 -1.000000  \n73499.0  7.470588  \n73502.0  8.500000  \n73503.0  7.263158  \n73507.0  6.923077  \n\n[10789 rows x 45 columns]",
      "text/html": "<div>\n<style scoped>\n    .dataframe tbody tr th:only-of-type {\n        vertical-align: middle;\n    }\n\n    .dataframe tbody tr th {\n        vertical-align: top;\n    }\n\n    .dataframe thead th {\n        text-align: right;\n    }\n</style>\n<table border=\"1\" class=\"dataframe\">\n  <thead>\n    <tr style=\"text-align: right;\">\n      <th></th>\n      <th>anime_id</th>\n      <th>rating</th>\n      <th>Hentai</th>\n      <th>Cars</th>\n      <th>Yaoi</th>\n      <th>Historical</th>\n      <th>Drama</th>\n      <th>Seinen</th>\n      <th>Game</th>\n      <th>Action</th>\n      <th>...</th>\n      <th>Music</th>\n      <th>Adventure</th>\n      <th>Ecchi</th>\n      <th>Josei</th>\n      <th>Harem</th>\n      <th>Slice of Life</th>\n      <th>Police</th>\n      <th>Thriller</th>\n      <th>Fantasy</th>\n      <th>Military</th>\n    </tr>\n    <tr>\n      <th>user_id</th>\n      <th></th>\n      <th></th>\n      <th></th>\n      <th></th>\n      <th></th>\n      <th></th>\n      <th></th>\n      <th></th>\n      <th></th>\n      <th></th>\n      <th></th>\n      <th></th>\n      <th></th>\n      <th></th>\n      <th></th>\n      <th></th>\n      <th></th>\n      <th></th>\n      <th></th>\n      <th></th>\n      <th></th>\n    </tr>\n  </thead>\n  <tbody>\n    <tr>\n      <th>5.0</th>\n      <td>11023.301927</td>\n      <td>4.355120</td>\n      <td>-1.0</td>\n      <td>6.0</td>\n      <td>-1.0</td>\n      <td>6.666667</td>\n      <td>5.217949</td>\n      <td>4.210526</td>\n      <td>4.100000</td>\n      <td>4.701299</td>\n      <td>...</td>\n      <td>4.727273</td>\n      <td>5.186813</td>\n      <td>2.510000</td>\n      <td>7.000000</td>\n      <td>2.217949</td>\n      <td>4.506849</td>\n      <td>2.500000</td>\n      <td>7.285714</td>\n      <td>4.410526</td>\n      <td>4.750000</td>\n    </tr>\n    <tr>\n      <th>7.0</th>\n      <td>15824.320700</td>\n      <td>7.387755</td>\n      <td>-1.0</td>\n      <td>-1.0</td>\n      <td>-1.0</td>\n      <td>8.200000</td>\n      <td>7.750000</td>\n      <td>7.259259</td>\n      <td>7.666667</td>\n      <td>7.484127</td>\n      <td>...</td>\n      <td>6.571429</td>\n      <td>7.700000</td>\n      <td>6.909091</td>\n      <td>-1.000000</td>\n      <td>7.111111</td>\n      <td>7.137255</td>\n      <td>7.500000</td>\n      <td>8.363636</td>\n      <td>7.337209</td>\n      <td>7.111111</td>\n    </tr>\n    <tr>\n      <th>17.0</th>\n      <td>16251.469218</td>\n      <td>6.901720</td>\n      <td>-1.0</td>\n      <td>8.0</td>\n      <td>-1.0</td>\n      <td>6.833333</td>\n      <td>7.264706</td>\n      <td>6.779661</td>\n      <td>7.153846</td>\n      <td>7.027211</td>\n      <td>...</td>\n      <td>7.083333</td>\n      <td>7.458333</td>\n      <td>6.696970</td>\n      <td>9.000000</td>\n      <td>6.433333</td>\n      <td>6.900000</td>\n      <td>7.600000</td>\n      <td>8.062500</td>\n      <td>6.973684</td>\n      <td>7.280000</td>\n    </tr>\n    <tr>\n      <th>38.0</th>\n      <td>13640.897233</td>\n      <td>6.703557</td>\n      <td>-1.0</td>\n      <td>-1.0</td>\n      <td>-1.0</td>\n      <td>7.285714</td>\n      <td>7.019231</td>\n      <td>6.648649</td>\n      <td>8.777778</td>\n      <td>6.925714</td>\n      <td>...</td>\n      <td>6.666667</td>\n      <td>7.775000</td>\n      <td>4.324324</td>\n      <td>4.000000</td>\n      <td>4.212121</td>\n      <td>6.437500</td>\n      <td>6.000000</td>\n      <td>8.052632</td>\n      <td>6.883333</td>\n      <td>6.928571</td>\n    </tr>\n    <tr>\n      <th>43.0</th>\n      <td>14817.133803</td>\n      <td>7.753571</td>\n      <td>-1.0</td>\n      <td>-1.0</td>\n      <td>-1.0</td>\n      <td>8.076923</td>\n      <td>7.444444</td>\n      <td>8.093750</td>\n      <td>7.800000</td>\n      <td>7.823834</td>\n      <td>...</td>\n      <td>-1.000000</td>\n      <td>7.828571</td>\n      <td>7.655172</td>\n      <td>-1.000000</td>\n      <td>7.717949</td>\n      <td>7.444444</td>\n      <td>7.571429</td>\n      <td>7.833333</td>\n      <td>7.513761</td>\n      <td>7.384615</td>\n    </tr>\n    <tr>\n      <th>...</th>\n      <td>...</td>\n      <td>...</td>\n      <td>...</td>\n      <td>...</td>\n      <td>...</td>\n      <td>...</td>\n      <td>...</td>\n      <td>...</td>\n      <td>...</td>\n      <td>...</td>\n      <td>...</td>\n      <td>...</td>\n      <td>...</td>\n      <td>...</td>\n      <td>...</td>\n      <td>...</td>\n      <td>...</td>\n      <td>...</td>\n      <td>...</td>\n      <td>...</td>\n      <td>...</td>\n    </tr>\n    <tr>\n      <th>73491.0</th>\n      <td>2740.895652</td>\n      <td>8.941176</td>\n      <td>-1.0</td>\n      <td>-1.0</td>\n      <td>-1.0</td>\n      <td>8.500000</td>\n      <td>9.714286</td>\n      <td>10.000000</td>\n      <td>-1.000000</td>\n      <td>9.000000</td>\n      <td>...</td>\n      <td>-1.000000</td>\n      <td>9.000000</td>\n      <td>10.000000</td>\n      <td>-1.000000</td>\n      <td>10.000000</td>\n      <td>9.500000</td>\n      <td>9.000000</td>\n      <td>-1.000000</td>\n      <td>8.750000</td>\n      <td>-1.000000</td>\n    </tr>\n    <tr>\n      <th>73499.0</th>\n      <td>8383.679934</td>\n      <td>7.832504</td>\n      <td>-1.0</td>\n      <td>9.0</td>\n      <td>-1.0</td>\n      <td>8.468750</td>\n      <td>8.142857</td>\n      <td>7.625000</td>\n      <td>8.500000</td>\n      <td>7.927778</td>\n      <td>...</td>\n      <td>7.869565</td>\n      <td>8.157895</td>\n      <td>7.342342</td>\n      <td>8.555556</td>\n      <td>7.687500</td>\n      <td>8.177570</td>\n      <td>7.285714</td>\n      <td>8.318182</td>\n      <td>7.947917</td>\n      <td>7.470588</td>\n    </tr>\n    <tr>\n      <th>73502.0</th>\n      <td>7171.731373</td>\n      <td>8.580198</td>\n      <td>-1.0</td>\n      <td>9.0</td>\n      <td>-1.0</td>\n      <td>9.272727</td>\n      <td>8.832061</td>\n      <td>8.763636</td>\n      <td>8.857143</td>\n      <td>8.658228</td>\n      <td>...</td>\n      <td>8.833333</td>\n      <td>8.813953</td>\n      <td>7.744186</td>\n      <td>9.181818</td>\n      <td>8.000000</td>\n      <td>8.885965</td>\n      <td>9.000000</td>\n      <td>9.555556</td>\n      <td>8.602740</td>\n      <td>8.500000</td>\n    </tr>\n    <tr>\n      <th>73503.0</th>\n      <td>11336.808943</td>\n      <td>6.418699</td>\n      <td>-1.0</td>\n      <td>-1.0</td>\n      <td>-1.0</td>\n      <td>6.777778</td>\n      <td>6.944444</td>\n      <td>6.892857</td>\n      <td>5.857143</td>\n      <td>6.389610</td>\n      <td>...</td>\n      <td>8.500000</td>\n      <td>6.157895</td>\n      <td>5.230769</td>\n      <td>6.750000</td>\n      <td>4.700000</td>\n      <td>7.277778</td>\n      <td>8.000000</td>\n      <td>7.476190</td>\n      <td>6.022472</td>\n      <td>7.263158</td>\n    </tr>\n    <tr>\n      <th>73507.0</th>\n      <td>3579.563707</td>\n      <td>7.814672</td>\n      <td>-1.0</td>\n      <td>7.8</td>\n      <td>-1.0</td>\n      <td>8.333333</td>\n      <td>8.318182</td>\n      <td>8.206897</td>\n      <td>-1.000000</td>\n      <td>7.821782</td>\n      <td>...</td>\n      <td>7.750000</td>\n      <td>8.371429</td>\n      <td>6.651163</td>\n      <td>-1.000000</td>\n      <td>6.956522</td>\n      <td>8.348837</td>\n      <td>8.500000</td>\n      <td>8.904762</td>\n      <td>7.542857</td>\n      <td>6.923077</td>\n    </tr>\n  </tbody>\n</table>\n<p>10789 rows × 45 columns</p>\n</div>"
     },
     "execution_count": 38,
     "metadata": {},
     "output_type": "execute_result"
    }
   ],
   "source": [
    "df_grouped.fillna(-1, inplace=True)\n",
    "df_grouped"
   ]
  },
  {
   "cell_type": "markdown",
   "metadata": {
    "id": "1wo_Sod-a1OT"
   },
   "source": [
    "Прежде чем начать обучать kMeans...\n",
    "\n",
    "### 14. Отмасштабируйте признаки.\n",
    "\n",
    "Как мы знаем по лекции, метрическим алгоритмам, одним из которых и является kMeans, лучше подавать на вход данные одного масштаба.  Этим и занимается метод MinMaxScaler из sklearn.\n",
    "\n",
    "[Документация](https://scikit-learn.org/stable/modules/generated/sklearn.preprocessing.MinMaxScaler.html)\n",
    "\n",
    "Алгоритм его работы:\n",
    "```\n",
    "X_std = (X - X.min(axis=0)) / (X.max(axis=0) - X.min(axis=0))\n",
    "X_scaled = X_std * (max - min) + min\n",
    "```"
   ]
  },
  {
   "cell_type": "code",
   "execution_count": 39,
   "metadata": {
    "id": "YOjZgEy1a1OU",
    "ExecuteTime": {
     "end_time": "2024-03-27T23:14:48.066465Z",
     "start_time": "2024-03-27T23:14:48.023477Z"
    }
   },
   "outputs": [
    {
     "data": {
      "text/plain": "         Hentai      Cars  Yaoi  Historical     Drama    Seinen      Game  \\\nuser_id                                                                     \n5.0         0.0  0.636364   0.0    0.696970  0.565268  0.473684  0.463636   \n7.0         0.0  0.000000   0.0    0.836364  0.795455  0.750842  0.787879   \n17.0        0.0  0.818182   0.0    0.712121  0.751337  0.707242  0.741259   \n38.0        0.0  0.000000   0.0    0.753247  0.729021  0.695332  0.888889   \n43.0        0.0  0.000000   0.0    0.825175  0.767677  0.826705  0.800000   \n...         ...       ...   ...         ...       ...       ...       ...   \n73491.0     0.0  0.000000   0.0    0.863636  0.974026  1.000000  0.000000   \n73499.0     0.0  0.909091   0.0    0.860795  0.831169  0.784091  0.863636   \n73502.0     0.0  0.909091   0.0    0.933884  0.893824  0.887603  0.896104   \n73503.0     0.0  0.000000   0.0    0.707071  0.722222  0.717532  0.623377   \n73507.0     0.0  0.800000   0.0    0.848485  0.847107  0.836991  0.000000   \n\n           Action     Space  Dementia  ...     Music  Adventure     Ecchi  \\\nuser_id                                ...                                  \n5.0      0.518300  0.750000  0.181818  ...  0.520661   0.562438  0.319091   \n7.0      0.771284  0.000000  0.939394  ...  0.688312   0.790909  0.719008   \n17.0     0.729746  0.767677  0.872727  ...  0.734848   0.768939  0.699725   \n38.0     0.720519  0.704545  1.000000  ...  0.696970   0.797727  0.484029   \n43.0     0.802167  1.000000  0.000000  ...  0.000000   0.802597  0.786834   \n...           ...       ...       ...  ...       ...        ...       ...   \n73491.0  0.909091  0.000000  0.000000  ...  0.000000   0.909091  1.000000   \n73499.0  0.811616  0.790909  0.909091  ...  0.806324   0.832536  0.758395   \n73502.0  0.878021  0.000000  0.969697  ...  0.893939   0.892178  0.794926   \n73503.0  0.671783  0.693182  0.818182  ...  0.863636   0.650718  0.566434   \n73507.0  0.801980  0.854545  0.939394  ...  0.795455   0.851948  0.695560   \n\n            Josei     Harem  Slice of Life    Police  Thriller   Fantasy  \\\nuser_id                                                                    \n5.0      0.727273  0.292541       0.500623  0.318182  0.753247  0.491866   \n7.0      0.000000  0.737374       0.739750  0.772727  0.851240  0.757928   \n17.0     0.909091  0.675758       0.718182  0.781818  0.823864  0.724880   \n38.0     0.454545  0.473829       0.676136  0.636364  0.822967  0.716667   \n43.0     0.000000  0.792541       0.767677  0.779221  0.803030  0.773978   \n...           ...       ...            ...       ...       ...       ...   \n73491.0  0.000000  1.000000       0.954545  0.909091  0.000000  0.886364   \n73499.0  0.868687  0.789773       0.834325  0.753247  0.847107  0.813447   \n73502.0  0.925620  0.818182       0.898724  0.909091  0.959596  0.872976   \n73503.0  0.704545  0.518182       0.752525  0.818182  0.770563  0.638407   \n73507.0  0.000000  0.723320       0.849894  0.863636  0.900433  0.776623   \n\n         Military  \nuser_id            \n5.0      0.522727  \n7.0      0.737374  \n17.0     0.752727  \n38.0     0.720779  \n43.0     0.762238  \n...           ...  \n73491.0  0.000000  \n73499.0  0.770053  \n73502.0  0.863636  \n73503.0  0.751196  \n73507.0  0.720280  \n\n[10789 rows x 43 columns]",
      "text/html": "<div>\n<style scoped>\n    .dataframe tbody tr th:only-of-type {\n        vertical-align: middle;\n    }\n\n    .dataframe tbody tr th {\n        vertical-align: top;\n    }\n\n    .dataframe thead th {\n        text-align: right;\n    }\n</style>\n<table border=\"1\" class=\"dataframe\">\n  <thead>\n    <tr style=\"text-align: right;\">\n      <th></th>\n      <th>Hentai</th>\n      <th>Cars</th>\n      <th>Yaoi</th>\n      <th>Historical</th>\n      <th>Drama</th>\n      <th>Seinen</th>\n      <th>Game</th>\n      <th>Action</th>\n      <th>Space</th>\n      <th>Dementia</th>\n      <th>...</th>\n      <th>Music</th>\n      <th>Adventure</th>\n      <th>Ecchi</th>\n      <th>Josei</th>\n      <th>Harem</th>\n      <th>Slice of Life</th>\n      <th>Police</th>\n      <th>Thriller</th>\n      <th>Fantasy</th>\n      <th>Military</th>\n    </tr>\n    <tr>\n      <th>user_id</th>\n      <th></th>\n      <th></th>\n      <th></th>\n      <th></th>\n      <th></th>\n      <th></th>\n      <th></th>\n      <th></th>\n      <th></th>\n      <th></th>\n      <th></th>\n      <th></th>\n      <th></th>\n      <th></th>\n      <th></th>\n      <th></th>\n      <th></th>\n      <th></th>\n      <th></th>\n      <th></th>\n      <th></th>\n    </tr>\n  </thead>\n  <tbody>\n    <tr>\n      <th>5.0</th>\n      <td>0.0</td>\n      <td>0.636364</td>\n      <td>0.0</td>\n      <td>0.696970</td>\n      <td>0.565268</td>\n      <td>0.473684</td>\n      <td>0.463636</td>\n      <td>0.518300</td>\n      <td>0.750000</td>\n      <td>0.181818</td>\n      <td>...</td>\n      <td>0.520661</td>\n      <td>0.562438</td>\n      <td>0.319091</td>\n      <td>0.727273</td>\n      <td>0.292541</td>\n      <td>0.500623</td>\n      <td>0.318182</td>\n      <td>0.753247</td>\n      <td>0.491866</td>\n      <td>0.522727</td>\n    </tr>\n    <tr>\n      <th>7.0</th>\n      <td>0.0</td>\n      <td>0.000000</td>\n      <td>0.0</td>\n      <td>0.836364</td>\n      <td>0.795455</td>\n      <td>0.750842</td>\n      <td>0.787879</td>\n      <td>0.771284</td>\n      <td>0.000000</td>\n      <td>0.939394</td>\n      <td>...</td>\n      <td>0.688312</td>\n      <td>0.790909</td>\n      <td>0.719008</td>\n      <td>0.000000</td>\n      <td>0.737374</td>\n      <td>0.739750</td>\n      <td>0.772727</td>\n      <td>0.851240</td>\n      <td>0.757928</td>\n      <td>0.737374</td>\n    </tr>\n    <tr>\n      <th>17.0</th>\n      <td>0.0</td>\n      <td>0.818182</td>\n      <td>0.0</td>\n      <td>0.712121</td>\n      <td>0.751337</td>\n      <td>0.707242</td>\n      <td>0.741259</td>\n      <td>0.729746</td>\n      <td>0.767677</td>\n      <td>0.872727</td>\n      <td>...</td>\n      <td>0.734848</td>\n      <td>0.768939</td>\n      <td>0.699725</td>\n      <td>0.909091</td>\n      <td>0.675758</td>\n      <td>0.718182</td>\n      <td>0.781818</td>\n      <td>0.823864</td>\n      <td>0.724880</td>\n      <td>0.752727</td>\n    </tr>\n    <tr>\n      <th>38.0</th>\n      <td>0.0</td>\n      <td>0.000000</td>\n      <td>0.0</td>\n      <td>0.753247</td>\n      <td>0.729021</td>\n      <td>0.695332</td>\n      <td>0.888889</td>\n      <td>0.720519</td>\n      <td>0.704545</td>\n      <td>1.000000</td>\n      <td>...</td>\n      <td>0.696970</td>\n      <td>0.797727</td>\n      <td>0.484029</td>\n      <td>0.454545</td>\n      <td>0.473829</td>\n      <td>0.676136</td>\n      <td>0.636364</td>\n      <td>0.822967</td>\n      <td>0.716667</td>\n      <td>0.720779</td>\n    </tr>\n    <tr>\n      <th>43.0</th>\n      <td>0.0</td>\n      <td>0.000000</td>\n      <td>0.0</td>\n      <td>0.825175</td>\n      <td>0.767677</td>\n      <td>0.826705</td>\n      <td>0.800000</td>\n      <td>0.802167</td>\n      <td>1.000000</td>\n      <td>0.000000</td>\n      <td>...</td>\n      <td>0.000000</td>\n      <td>0.802597</td>\n      <td>0.786834</td>\n      <td>0.000000</td>\n      <td>0.792541</td>\n      <td>0.767677</td>\n      <td>0.779221</td>\n      <td>0.803030</td>\n      <td>0.773978</td>\n      <td>0.762238</td>\n    </tr>\n    <tr>\n      <th>...</th>\n      <td>...</td>\n      <td>...</td>\n      <td>...</td>\n      <td>...</td>\n      <td>...</td>\n      <td>...</td>\n      <td>...</td>\n      <td>...</td>\n      <td>...</td>\n      <td>...</td>\n      <td>...</td>\n      <td>...</td>\n      <td>...</td>\n      <td>...</td>\n      <td>...</td>\n      <td>...</td>\n      <td>...</td>\n      <td>...</td>\n      <td>...</td>\n      <td>...</td>\n      <td>...</td>\n    </tr>\n    <tr>\n      <th>73491.0</th>\n      <td>0.0</td>\n      <td>0.000000</td>\n      <td>0.0</td>\n      <td>0.863636</td>\n      <td>0.974026</td>\n      <td>1.000000</td>\n      <td>0.000000</td>\n      <td>0.909091</td>\n      <td>0.000000</td>\n      <td>0.000000</td>\n      <td>...</td>\n      <td>0.000000</td>\n      <td>0.909091</td>\n      <td>1.000000</td>\n      <td>0.000000</td>\n      <td>1.000000</td>\n      <td>0.954545</td>\n      <td>0.909091</td>\n      <td>0.000000</td>\n      <td>0.886364</td>\n      <td>0.000000</td>\n    </tr>\n    <tr>\n      <th>73499.0</th>\n      <td>0.0</td>\n      <td>0.909091</td>\n      <td>0.0</td>\n      <td>0.860795</td>\n      <td>0.831169</td>\n      <td>0.784091</td>\n      <td>0.863636</td>\n      <td>0.811616</td>\n      <td>0.790909</td>\n      <td>0.909091</td>\n      <td>...</td>\n      <td>0.806324</td>\n      <td>0.832536</td>\n      <td>0.758395</td>\n      <td>0.868687</td>\n      <td>0.789773</td>\n      <td>0.834325</td>\n      <td>0.753247</td>\n      <td>0.847107</td>\n      <td>0.813447</td>\n      <td>0.770053</td>\n    </tr>\n    <tr>\n      <th>73502.0</th>\n      <td>0.0</td>\n      <td>0.909091</td>\n      <td>0.0</td>\n      <td>0.933884</td>\n      <td>0.893824</td>\n      <td>0.887603</td>\n      <td>0.896104</td>\n      <td>0.878021</td>\n      <td>0.000000</td>\n      <td>0.969697</td>\n      <td>...</td>\n      <td>0.893939</td>\n      <td>0.892178</td>\n      <td>0.794926</td>\n      <td>0.925620</td>\n      <td>0.818182</td>\n      <td>0.898724</td>\n      <td>0.909091</td>\n      <td>0.959596</td>\n      <td>0.872976</td>\n      <td>0.863636</td>\n    </tr>\n    <tr>\n      <th>73503.0</th>\n      <td>0.0</td>\n      <td>0.000000</td>\n      <td>0.0</td>\n      <td>0.707071</td>\n      <td>0.722222</td>\n      <td>0.717532</td>\n      <td>0.623377</td>\n      <td>0.671783</td>\n      <td>0.693182</td>\n      <td>0.818182</td>\n      <td>...</td>\n      <td>0.863636</td>\n      <td>0.650718</td>\n      <td>0.566434</td>\n      <td>0.704545</td>\n      <td>0.518182</td>\n      <td>0.752525</td>\n      <td>0.818182</td>\n      <td>0.770563</td>\n      <td>0.638407</td>\n      <td>0.751196</td>\n    </tr>\n    <tr>\n      <th>73507.0</th>\n      <td>0.0</td>\n      <td>0.800000</td>\n      <td>0.0</td>\n      <td>0.848485</td>\n      <td>0.847107</td>\n      <td>0.836991</td>\n      <td>0.000000</td>\n      <td>0.801980</td>\n      <td>0.854545</td>\n      <td>0.939394</td>\n      <td>...</td>\n      <td>0.795455</td>\n      <td>0.851948</td>\n      <td>0.695560</td>\n      <td>0.000000</td>\n      <td>0.723320</td>\n      <td>0.849894</td>\n      <td>0.863636</td>\n      <td>0.900433</td>\n      <td>0.776623</td>\n      <td>0.720280</td>\n    </tr>\n  </tbody>\n</table>\n<p>10789 rows × 43 columns</p>\n</div>"
     },
     "execution_count": 39,
     "metadata": {},
     "output_type": "execute_result"
    }
   ],
   "source": [
    "from sklearn.preprocessing import MinMaxScaler\n",
    "\n",
    "attrs = df_grouped.copy()\n",
    "attrs = attrs.drop('anime_id', axis = 1)\n",
    "attrs = attrs.drop('rating', axis = 1)\n",
    "\n",
    "scaler = MinMaxScaler()\n",
    "scaled_features = scaler.fit_transform(attrs)\n",
    "\n",
    "df_scaled = pd.DataFrame(scaled_features, index=attrs.index, columns=attrs.columns)\n",
    "df_scaled"
   ]
  },
  {
   "cell_type": "markdown",
   "metadata": {
    "id": "FtnFeq5--WYV"
   },
   "source": [
    "### 15.Натренируйте kMeans с 10 кластерами на полученных данных"
   ]
  },
  {
   "cell_type": "code",
   "execution_count": 40,
   "metadata": {
    "id": "5P8wbyKs-2ss",
    "ExecuteTime": {
     "end_time": "2024-03-27T23:14:49.109696Z",
     "start_time": "2024-03-27T23:14:48.068475Z"
    }
   },
   "outputs": [
    {
     "data": {
      "text/plain": "array([8, 0, 7, ..., 7, 4, 7])"
     },
     "execution_count": 40,
     "metadata": {},
     "output_type": "execute_result"
    }
   ],
   "source": [
    "from sklearn.cluster import KMeans\n",
    "\n",
    "kmeans = KMeans(n_clusters=10, random_state=0)\n",
    "\n",
    "kmeans.fit(df_scaled)\n",
    "\n",
    "labels = kmeans.labels_\n",
    "labels"
   ]
  },
  {
   "cell_type": "markdown",
   "metadata": {
    "id": "V9Pn5DMHa1OX"
   },
   "source": [
    "### 16. Нарисуйте на графике центры кластеров нашего датасета оценок фильмов.\n",
    "\n",
    "В нем будет 10 строчек - 10 кластеров. И 43 столбцов - 43 жанров фильмов.\n",
    "\n",
    "Из графика мы поймем какие жанры обычно смотрят вместе. По сути мы получили кластеры предпочтений людей.\n",
    "\n",
    "**Hint** [Heatmap](https://seaborn.pydata.org/generated/seaborn.heatmap.html)"
   ]
  },
  {
   "cell_type": "code",
   "execution_count": 41,
   "metadata": {
    "id": "FyGW-7-6a1OY",
    "tags": [],
    "ExecuteTime": {
     "end_time": "2024-03-27T23:14:50.098806Z",
     "start_time": "2024-03-27T23:14:49.112707Z"
    }
   },
   "outputs": [
    {
     "data": {
      "text/plain": "<Figure size 1152x864 with 2 Axes>",
      "image/png": "[encoded data removed]"
     },
     "metadata": {
      "needs_background": "light"
     },
     "output_type": "display_data"
    }
   ],
   "source": [
    "import seaborn as sns\n",
    "import matplotlib.pyplot as plt\n",
    "\n",
    "cluster_centers = kmeans.cluster_centers_\n",
    "\n",
    "df_centers = pd.DataFrame(cluster_centers, columns=genres)\n",
    "\n",
    "plt.figure(figsize=(16, 12))\n",
    "sns.heatmap(df_centers)\n",
    "plt.title('Cluster Centers')\n",
    "plt.show()"
   ]
  },
  {
   "cell_type": "markdown",
   "metadata": {
    "id": "f8kEhXm4b2hg"
   },
   "source": [
    "# Как выбрать нужное число кластеров\n",
    "\n",
    "Такие методы как KMeans, Spectral clustering, Ward hierarchical clustering, Agglomerative clustering требуют количество кластеров как параметр. Это так называемый гипер-параметр, и его должен подбирать человек. Но на что человеку опираться при выборе? На некоторый функционал \"качества\"!\n",
    "\n",
    "Вспомним идею кластеризации:\n",
    "- минимизация внутрикластерного расстояния\n",
    "- максимизация межкластерного расстояния\n",
    "\n",
    "Другими словами - кучки кучнее и дальше друг от друга.\n",
    "\n",
    "Логично, что мы хотим, чтобы точки распологались кучно возле центров своих кластеров. Но вот незадача: минимум такого функционала будет достигаться тогда, когда кластеров столько же, сколько и точек (то есть каждая точка – это кластер из одного элемента). Для решения этого вопроса (выбора числа кластеров) часто пользуются такой эвристикой: выбирают то число кластеров, начиная с которого описанный функционал $ J(C) $ падает \"уже не так быстро\". Или более формально: $$ D(k) = \\frac{|J(C_k) - J(C_{k+1})|}{|J(C_{k-1}) - J(C_k)|}  \\rightarrow \\min\\limits_k $$\n",
    "\n",
    "Где, в случае kMeans $$ J(C) = \\sum_{k=1}^K\\sum_{i~\\in~C_k} ||x_i - \\mu_k|| \\rightarrow \\min\\limits_C,$$ - сумма квадратов расстояний от точек до центроидов кластеров, к которым они относятся\n",
    "\n",
    "#### Эта ячейка может выполнятся долго!"
   ]
  },
  {
   "cell_type": "code",
   "execution_count": 42,
   "metadata": {
    "id": "DuTFue0rb2hg",
    "ExecuteTime": {
     "end_time": "2024-03-27T23:15:16.655265Z",
     "start_time": "2024-03-27T23:14:50.100796Z"
    }
   },
   "outputs": [
    {
     "name": "stderr",
     "output_type": "stream",
     "text": [
      "100%|██████████| 29/29 [00:26<00:00,  1.11it/s]\n"
     ]
    },
    {
     "data": {
      "text/plain": "Text(0, 0.5, '$J(C_k)$')"
     },
     "execution_count": 42,
     "metadata": {},
     "output_type": "execute_result"
    },
    {
     "data": {
      "text/plain": "<Figure size 720x504 with 1 Axes>",
      "image/png": "[encoded data removed]"
     },
     "metadata": {
      "needs_background": "light"
     },
     "output_type": "display_data"
    }
   ],
   "source": [
    "inertia = []\n",
    "N = 30\n",
    "for k in tqdm(range(1, N)):\n",
    "    kmeans = KMeans(n_clusters=k).fit(scaler.fit_transform(df_grouped))\n",
    "    inertia.append(np.sqrt(kmeans.inertia_))\n",
    "plt.figure(figsize=(10,7))\n",
    "plt.plot(range(1, N), inertia, marker='s');\n",
    "plt.xlabel('$k$')\n",
    "plt.ylabel('$J(C_k)$')"
   ]
  },
  {
   "cell_type": "markdown",
   "metadata": {
    "id": "ulciRrtRb2hi"
   },
   "source": [
    "## Коэффициент силуэта\n",
    "\n",
    "Данный коэффициент не предполагает знания истинных меток объектов, и позволяет оценить качество кластеризации, используя только саму (неразмеченную) выборку и результат кластеризации. \n",
    "\n",
    "Сначала силуэт определяется отдельно для каждого объекта. Обозначим через $a$ - среднее расстояние от данного объекта до объектов из того же кластера, через $b$ - среднее расстояние от данного объекта до объектов из ближайшего кластера (отличного от того, в котором лежит сам объект). Тогда силуэтом данного объекта называется величина: $$s = \\frac{b - a}{\\max(a, b)}.$$ Силуэтом выборки называется средняя величина силуэта объектов данной выборки. Таким образом, силуэт показывает, насколько среднее расстояние до объектов своего кластера отличается от среднего расстояния до объектов других кластеров. Данная величина лежит в диапазоне $[-1, 1]$. Значения, близкие к -1, соответствуют плохим (разрозненным) кластеризациям, значения, близкие к нулю, говорят о том, что кластеры пересекаются и накладываются друг на друга, значения, близкие к 1, соответствуют \"плотным\" четко выделенным кластерам. Таким образом, чем больше силуэт, тем более четко выделены кластеры, и они представляют собой компактные, плотно сгруппированные облака точек.\n",
    "\n",
    "С помощью силуэта можно выбирать оптимальное число кластеров $k$ (если оно заранее неизвестно) - выбирается число кластеров, максимизирующее значение силуэта. В отличие от предыдущих метрик, силуэт зависит от формы кластеров, и достигает больших значений на более выпуклых кластерах, получаемых с помощью алгоритмов, основанных на восстановлении плотности распределения.\n",
    "\n",
    "#### Эта ячейка может выполняться долго!"
   ]
  },
  {
   "cell_type": "code",
   "execution_count": 43,
   "metadata": {
    "id": "BkFhvnhO3TIl",
    "ExecuteTime": {
     "end_time": "2024-03-27T23:15:16.670818Z",
     "start_time": "2024-03-27T23:15:16.656785Z"
    }
   },
   "outputs": [],
   "source": [
    "from sklearn.metrics import silhouette_score, silhouette_samples\n",
    "\n",
    "def draw_sil_score(X, range_n_clusters=[2, 3, 4, 5, 6, 10, 12, 13, 20]):\n",
    "    scores = []\n",
    "    for n_clusters in tqdm(range_n_clusters):\n",
    "        clusterer = KMeans(n_clusters=n_clusters, random_state=10)\n",
    "        cluster_labels = clusterer.fit_predict(X)\n",
    "        silhouette_avg = silhouette_score(X, cluster_labels)\n",
    "        scores.append(silhouette_avg)\n",
    "    plt.plot(range_n_clusters, scores)\n",
    "    return range_n_clusters[np.argmax(scores)]"
   ]
  },
  {
   "cell_type": "code",
   "execution_count": 44,
   "metadata": {
    "id": "qZXMiFpW3VVN",
    "tags": [],
    "ExecuteTime": {
     "end_time": "2024-03-27T23:16:36.396367Z",
     "start_time": "2024-03-27T23:15:16.672788Z"
    }
   },
   "outputs": [
    {
     "name": "stderr",
     "output_type": "stream",
     "text": [
      "100%|██████████| 28/28 [01:19<00:00,  2.84s/it]\n"
     ]
    },
    {
     "data": {
      "text/plain": "2"
     },
     "execution_count": 44,
     "metadata": {},
     "output_type": "execute_result"
    },
    {
     "data": {
      "text/plain": "<Figure size 432x288 with 1 Axes>",
      "image/png": "[encoded data removed]"
     },
     "metadata": {
      "needs_background": "light"
     },
     "output_type": "display_data"
    }
   ],
   "source": [
    "draw_sil_score(scaler.fit_transform(df_grouped), range(2, 30))"
   ]
  },
  {
   "cell_type": "markdown",
   "metadata": {
    "id": "DE6UbyzUb2hn"
   },
   "source": [
    "### 17. Выберите количество кластеров `k` по методам выше. Натренируйте kMeans и снова нарисуйте heatmap."
   ]
  },
  {
   "cell_type": "code",
   "execution_count": 76,
   "metadata": {
    "id": "2Brw66Ylb2hn",
    "tags": [],
    "ExecuteTime": {
     "end_time": "2024-03-27T23:18:17.451446Z",
     "start_time": "2024-03-27T23:18:16.259030Z"
    }
   },
   "outputs": [
    {
     "data": {
      "text/plain": "<Figure size 1152x864 with 2 Axes>",
      "image/png": "[encoded data removed]"
     },
     "metadata": {
      "needs_background": "light"
     },
     "output_type": "display_data"
    }
   ],
   "source": [
    "kmeans2 = KMeans(n_clusters=5, random_state=0)\n",
    "kmeans2.fit(df_scaled)\n",
    "\n",
    "cluster_centers = kmeans2.cluster_centers_\n",
    "df_centers = pd.DataFrame(cluster_centers, columns=genres)\n",
    "\n",
    "plt.figure(figsize=(16, 12))\n",
    "sns.heatmap(df_centers)\n",
    "plt.title('Cluster Centers')\n",
    "plt.show()"
   ]
  },
  {
   "cell_type": "markdown",
   "metadata": {
    "id": "EidQaCQOb2hp"
   },
   "source": [
    "### 18. Порекомендуйте что-нибудь абстрактному пользователю. \n",
    "Это можно сделать разными способами. Как это сделать подумайте сами. \n",
    "\n",
    "Если затрудняетесь реализовать это в коде, распишите словами как вы бы это сделали.\n",
    "\n",
    "Возможные варианты решения:\n",
    " * в каждом кластере отсортировать жанры по тому, насколько жанр важен. \n",
    " * взять каждый кластер -> получить все аниме, которые смотрят в этом кластере -> отсортировать по рейтину.\n",
    "\n"
   ]
  },
  {
   "cell_type": "code",
   "execution_count": 77,
   "metadata": {
    "id": "X7bgVPgPb2hp",
    "ExecuteTime": {
     "end_time": "2024-03-27T23:18:19.955022Z",
     "start_time": "2024-03-27T23:18:19.924996Z"
    }
   },
   "outputs": [
    {
     "name": "stdout",
     "output_type": "stream",
     "text": [
      "['Thriller', 'Cars']\n"
     ]
    },
    {
     "data": {
      "text/plain": "                                                name  \\\nanime_id                                               \n9253                                     Steins;Gate   \n11741                           Fate/Zero 2nd Season   \n19                                           Monster   \n1535                                      Death Note   \n4282                  Kara no Kyoukai 5: Mujun Rasen   \n6114             Rainbow: Nisha Rokubou no Shichinin   \n31240          Re:Zero kara Hajimeru Isekai Seikatsu   \n11577     Steins;Gate Movie: Fuka Ryouiki no Déjà vu   \n5205      Kara no Kyoukai 7: Satsujin Kousatsu (Kou)   \n9756                      Mahou Shoujo Madoka★Magica   \n\n                                                      genre   type episodes  \\\nanime_id                                                                      \n9253                                     [Sci-Fi, Thriller]     TV       24   \n11741             [Action, Fantasy, Supernatural, Thriller]     TV       12   \n19        [Drama, Horror, Mystery, Police, Psychological...     TV       74   \n1535      [Mystery, Police, Psychological, Supernatural,...     TV       37   \n4282      [Action, Drama, Mystery, Romance, Supernatural...  Movie        1   \n6114                  [Drama, Historical, Seinen, Thriller]     TV       26   \n31240             [Drama, Fantasy, Psychological, Thriller]     TV       25   \n11577                                    [Sci-Fi, Thriller]  Movie        1   \n5205      [Action, Mystery, Romance, Supernatural, Thril...  Movie        1   \n9756                [Drama, Magic, Psychological, Thriller]     TV       12   \n\n          rating  members  \nanime_id                   \n9253        9.17   673572  \n11741       8.73   340973  \n19          8.72   247562  \n1535        8.71  1013917  \n4282        8.68   111074  \n6114        8.64   139474  \n31240       8.64   355839  \n11577       8.61   192424  \n5205        8.57    95658  \n9756        8.51   462974  ",
      "text/html": "<div>\n<style scoped>\n    .dataframe tbody tr th:only-of-type {\n        vertical-align: middle;\n    }\n\n    .dataframe tbody tr th {\n        vertical-align: top;\n    }\n\n    .dataframe thead th {\n        text-align: right;\n    }\n</style>\n<table border=\"1\" class=\"dataframe\">\n  <thead>\n    <tr style=\"text-align: right;\">\n      <th></th>\n      <th>name</th>\n      <th>genre</th>\n      <th>type</th>\n      <th>episodes</th>\n      <th>rating</th>\n      <th>members</th>\n    </tr>\n    <tr>\n      <th>anime_id</th>\n      <th></th>\n      <th></th>\n      <th></th>\n      <th></th>\n      <th></th>\n      <th></th>\n    </tr>\n  </thead>\n  <tbody>\n    <tr>\n      <th>9253</th>\n      <td>Steins;Gate</td>\n      <td>[Sci-Fi, Thriller]</td>\n      <td>TV</td>\n      <td>24</td>\n      <td>9.17</td>\n      <td>673572</td>\n    </tr>\n    <tr>\n      <th>11741</th>\n      <td>Fate/Zero 2nd Season</td>\n      <td>[Action, Fantasy, Supernatural, Thriller]</td>\n      <td>TV</td>\n      <td>12</td>\n      <td>8.73</td>\n      <td>340973</td>\n    </tr>\n    <tr>\n      <th>19</th>\n      <td>Monster</td>\n      <td>[Drama, Horror, Mystery, Police, Psychological...</td>\n      <td>TV</td>\n      <td>74</td>\n      <td>8.72</td>\n      <td>247562</td>\n    </tr>\n    <tr>\n      <th>1535</th>\n      <td>Death Note</td>\n      <td>[Mystery, Police, Psychological, Supernatural,...</td>\n      <td>TV</td>\n      <td>37</td>\n      <td>8.71</td>\n      <td>1013917</td>\n    </tr>\n    <tr>\n      <th>4282</th>\n      <td>Kara no Kyoukai 5: Mujun Rasen</td>\n      <td>[Action, Drama, Mystery, Romance, Supernatural...</td>\n      <td>Movie</td>\n      <td>1</td>\n      <td>8.68</td>\n      <td>111074</td>\n    </tr>\n    <tr>\n      <th>6114</th>\n      <td>Rainbow: Nisha Rokubou no Shichinin</td>\n      <td>[Drama, Historical, Seinen, Thriller]</td>\n      <td>TV</td>\n      <td>26</td>\n      <td>8.64</td>\n      <td>139474</td>\n    </tr>\n    <tr>\n      <th>31240</th>\n      <td>Re:Zero kara Hajimeru Isekai Seikatsu</td>\n      <td>[Drama, Fantasy, Psychological, Thriller]</td>\n      <td>TV</td>\n      <td>25</td>\n      <td>8.64</td>\n      <td>355839</td>\n    </tr>\n    <tr>\n      <th>11577</th>\n      <td>Steins;Gate Movie: Fuka Ryouiki no Déjà vu</td>\n      <td>[Sci-Fi, Thriller]</td>\n      <td>Movie</td>\n      <td>1</td>\n      <td>8.61</td>\n      <td>192424</td>\n    </tr>\n    <tr>\n      <th>5205</th>\n      <td>Kara no Kyoukai 7: Satsujin Kousatsu (Kou)</td>\n      <td>[Action, Mystery, Romance, Supernatural, Thril...</td>\n      <td>Movie</td>\n      <td>1</td>\n      <td>8.57</td>\n      <td>95658</td>\n    </tr>\n    <tr>\n      <th>9756</th>\n      <td>Mahou Shoujo Madoka★Magica</td>\n      <td>[Drama, Magic, Psychological, Thriller]</td>\n      <td>TV</td>\n      <td>12</td>\n      <td>8.51</td>\n      <td>462974</td>\n    </tr>\n  </tbody>\n</table>\n</div>"
     },
     "execution_count": 77,
     "metadata": {},
     "output_type": "execute_result"
    }
   ],
   "source": [
    "df_centers['top_genres'] = df_centers.iloc[:, :-1].apply(lambda x: x.nlargest(2).index.tolist(), axis=1)\n",
    "\n",
    "recommend_genre = df_centers.loc[0, 'top_genres']\n",
    "\n",
    "def recommended_genres_check(anime_genre_list, recommend_genre_list):\n",
    "    return bool(set(anime_genre_list) & set(recommend_genre_list))\n",
    "\n",
    "recommended_anime = anime[anime['genre'].apply(lambda x: recommended_genres_check(x, recommend_genre))]\n",
    "\n",
    "recommended_anime = recommended_anime.sort_values(by='rating', ascending=False).head(10)\n",
    "\n",
    "print(recommend_genre)\n",
    "recommended_anime"
   ]
  },
  {
   "cell_type": "markdown",
   "metadata": {
    "id": "nw_-BJfyb2hr"
   },
   "source": [
    "### Extra. Попробуйте как-нибудь улучшить эту рекомендашку. Приведите код или рассуждения на эту тему.\n",
    "\n",
    "Если писать код, то можно:\n",
    " * каждому жанру присвоить свой вес, так как одних жанров сильно много и у них разная смысловая нагрузка. Комедии и экшн встречаются очень часто и врядли кто-то только из-за этих жанров будет смотреть аниме.\n",
    " * предсказывать не по жанрам, а по аниме. Там получится очень большая размерность, так как нужно сделать one-hot-encoding по аниме, но может это даст лучше результат(спойлер: нет). (И для этого надо сделать 4 join'а, что, возможно, убьет ваш компьютер или/и мозг)"
   ]
  }
 ],
 "metadata": {
  "colab": {
   "collapsed_sections": [],
   "name": "04-hw-clustering.ipynb",
   "provenance": []
  },
  "kernelspec": {
   "display_name": "Python 3 (ipykernel)",
   "language": "python",
   "name": "python3"
  },
  "language_info": {
   "codemirror_mode": {
    "name": "ipython",
    "version": 3
   },
   "file_extension": ".py",
   "mimetype": "text/x-python",
   "name": "python",
   "nbconvert_exporter": "python",
   "pygments_lexer": "ipython3",
   "version": "3.9.12"
  }
 },
 "nbformat": 4,
 "nbformat_minor": 1
}
