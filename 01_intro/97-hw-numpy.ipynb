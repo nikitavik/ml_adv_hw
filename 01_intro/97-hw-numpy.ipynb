{
 "cells": [
  {
   "cell_type": "markdown",
   "metadata": {},
   "source": [
    "# Worshop 2.1 Numpy\n",
    "\n",
    "1. Скачайте этот ноутбук к себе.\n",
    "2. Заполните пропущенные ячейки, отвечая на заданные вопросы. Там должен быть код! (если не сказано обратное)\n",
    "3. Сохраните результат в своём гитхаб репозитории.\n",
    "\n",
    "#### Полезная литература\n",
    "\n",
    "- http://www.numpy.org/\n",
    "- https://jakevdp.github.io/PythonDataScienceHandbook/02.00-introduction-to-numpy.html\n",
    "- https://docs.scipy.org/doc/numpy/user/quickstart.html"
   ]
  },
  {
   "cell_type": "markdown",
   "metadata": {},
   "source": [
    "1) Импортировать numpy и написать версию"
   ]
  },
  {
   "cell_type": "code",
   "execution_count": 16,
   "metadata": {
    "ExecuteTime": {
     "end_time": "2024-03-27T02:58:53.506683Z",
     "start_time": "2024-03-27T02:58:53.488685Z"
    }
   },
   "outputs": [
    {
     "data": {
      "text/plain": "'1.21.5'"
     },
     "execution_count": 16,
     "metadata": {},
     "output_type": "execute_result"
    }
   ],
   "source": [
    "import numpy as np\n",
    "np.__version__"
   ]
  },
  {
   "cell_type": "markdown",
   "metadata": {},
   "source": [
    "2) Создать нулевой вектор размера 10"
   ]
  },
  {
   "cell_type": "code",
   "execution_count": 17,
   "metadata": {
    "ExecuteTime": {
     "end_time": "2024-03-27T02:58:53.722602Z",
     "start_time": "2024-03-27T02:58:53.705586Z"
    }
   },
   "outputs": [
    {
     "data": {
      "text/plain": "array([0., 0., 0., 0., 0., 0., 0., 0., 0., 0.])"
     },
     "execution_count": 17,
     "metadata": {},
     "output_type": "execute_result"
    }
   ],
   "source": [
    "np.zeros(10)"
   ]
  },
  {
   "cell_type": "markdown",
   "metadata": {},
   "source": [
    "3) Создать вектор заполненный 7-ами размера 7"
   ]
  },
  {
   "cell_type": "code",
   "execution_count": 18,
   "metadata": {
    "ExecuteTime": {
     "end_time": "2024-03-27T02:58:53.737729Z",
     "start_time": "2024-03-27T02:58:53.724592Z"
    }
   },
   "outputs": [
    {
     "data": {
      "text/plain": "array([7, 7, 7, 7, 7, 7, 7])"
     },
     "execution_count": 18,
     "metadata": {},
     "output_type": "execute_result"
    }
   ],
   "source": [
    "np.full(7, 7)"
   ]
  },
  {
   "cell_type": "markdown",
   "metadata": {},
   "source": [
    "4) Создать вектор заполненный четными числами от 10 до 100"
   ]
  },
  {
   "cell_type": "code",
   "execution_count": 19,
   "metadata": {
    "ExecuteTime": {
     "end_time": "2024-03-27T02:58:53.752735Z",
     "start_time": "2024-03-27T02:58:53.739731Z"
    }
   },
   "outputs": [
    {
     "data": {
      "text/plain": "array([ 10,  12,  14,  16,  18,  20,  22,  24,  26,  28,  30,  32,  34,\n        36,  38,  40,  42,  44,  46,  48,  50,  52,  54,  56,  58,  60,\n        62,  64,  66,  68,  70,  72,  74,  76,  78,  80,  82,  84,  86,\n        88,  90,  92,  94,  96,  98, 100])"
     },
     "execution_count": 19,
     "metadata": {},
     "output_type": "execute_result"
    }
   ],
   "source": [
    "np.arange(10, 101, 2)"
   ]
  },
  {
   "cell_type": "markdown",
   "metadata": {},
   "source": [
    "5) Создать массив случайных чисел и развернуть его задом наперёд"
   ]
  },
  {
   "cell_type": "code",
   "execution_count": 20,
   "metadata": {
    "ExecuteTime": {
     "end_time": "2024-03-27T02:58:53.768262Z",
     "start_time": "2024-03-27T02:58:53.754251Z"
    }
   },
   "outputs": [
    {
     "name": "stdout",
     "output_type": "stream",
     "text": [
      "[0.59369247 0.88711269 0.64246995 0.8727295  0.19613221 0.33580289\n",
      " 0.45561961 0.44954733 0.494997   0.365975  ]\n"
     ]
    },
    {
     "data": {
      "text/plain": "array([0.365975  , 0.494997  , 0.44954733, 0.45561961, 0.33580289,\n       0.19613221, 0.8727295 , 0.64246995, 0.88711269, 0.59369247])"
     },
     "execution_count": 20,
     "metadata": {},
     "output_type": "execute_result"
    }
   ],
   "source": [
    "array = np.random.rand(10)\n",
    "reversed_array = array[::-1]\n",
    "\n",
    "print(array)\n",
    "reversed_array"
   ]
  },
  {
   "cell_type": "markdown",
   "metadata": {},
   "source": [
    "6) Создать двумерную матрицу размера 3 на 3, заполненную числами от 0 до 9"
   ]
  },
  {
   "cell_type": "code",
   "execution_count": 21,
   "metadata": {
    "ExecuteTime": {
     "end_time": "2024-03-27T02:58:53.783261Z",
     "start_time": "2024-03-27T02:58:53.770264Z"
    }
   },
   "outputs": [
    {
     "data": {
      "text/plain": "array([[1, 2, 3],\n       [4, 5, 6],\n       [7, 8, 9]])"
     },
     "execution_count": 21,
     "metadata": {},
     "output_type": "execute_result"
    }
   ],
   "source": [
    "np.arange(1, 10).reshape(3, 3)"
   ]
  },
  {
   "cell_type": "markdown",
   "metadata": {},
   "source": [
    "7) Создать матрицу размера 4 на 4 с единицами на диагонали смещеной на один наверх."
   ]
  },
  {
   "cell_type": "code",
   "execution_count": 22,
   "metadata": {
    "ExecuteTime": {
     "end_time": "2024-03-27T02:58:53.798260Z",
     "start_time": "2024-03-27T02:58:53.785262Z"
    }
   },
   "outputs": [
    {
     "data": {
      "text/plain": "array([[0., 1., 0., 0.],\n       [0., 0., 1., 0.],\n       [0., 0., 0., 1.],\n       [0., 0., 0., 0.]])"
     },
     "execution_count": 22,
     "metadata": {},
     "output_type": "execute_result"
    }
   ],
   "source": [
    "matrix = np.zeros((4, 4))\n",
    "np.fill_diagonal(matrix[:-1, 1:], 1)\n",
    "matrix"
   ]
  },
  {
   "cell_type": "markdown",
   "metadata": {},
   "source": [
    "8) Создать матрицу с числами в диапазоне от 1 до 4 по диагонали. В других ячейках матрицы должны быть семерки."
   ]
  },
  {
   "cell_type": "code",
   "execution_count": 23,
   "metadata": {
    "ExecuteTime": {
     "end_time": "2024-03-27T02:58:53.814264Z",
     "start_time": "2024-03-27T02:58:53.800262Z"
    }
   },
   "outputs": [
    {
     "data": {
      "text/plain": "array([[1, 7, 7, 7],\n       [7, 2, 7, 7],\n       [7, 7, 3, 7],\n       [7, 7, 7, 4]])"
     },
     "execution_count": 23,
     "metadata": {},
     "output_type": "execute_result"
    }
   ],
   "source": [
    "matrix2 = np.full((4, 4), 7)\n",
    "np.fill_diagonal(matrix2, np.arange(1, 5))\n",
    "matrix2"
   ]
  },
  {
   "cell_type": "markdown",
   "metadata": {},
   "source": [
    "9) Создать матрицу размера 5 на 5 заполненную чилами от 0 до 4 в строках."
   ]
  },
  {
   "cell_type": "code",
   "execution_count": 24,
   "metadata": {
    "ExecuteTime": {
     "end_time": "2024-03-27T02:58:53.829786Z",
     "start_time": "2024-03-27T02:58:53.816270Z"
    }
   },
   "outputs": [
    {
     "data": {
      "text/plain": "array([[0, 1, 2, 3, 4],\n       [0, 1, 2, 3, 4],\n       [0, 1, 2, 3, 4],\n       [0, 1, 2, 3, 4],\n       [0, 1, 2, 3, 4]])"
     },
     "execution_count": 24,
     "metadata": {},
     "output_type": "execute_result"
    }
   ],
   "source": [
    "matrix3 = np.tile(np.arange(5), (5, 1))\n",
    "matrix3"
   ]
  },
  {
   "cell_type": "markdown",
   "metadata": {},
   "source": [
    "10) Создать матрицу случайных чисел размера 10 на 10 и отнять среднее по строкам из каждого элемента строки"
   ]
  },
  {
   "cell_type": "code",
   "execution_count": 25,
   "metadata": {
    "ExecuteTime": {
     "end_time": "2024-03-27T02:58:53.844919Z",
     "start_time": "2024-03-27T02:58:53.832310Z"
    }
   },
   "outputs": [
    {
     "data": {
      "text/plain": "array([[ 4.38842610e-01, -7.19544031e-01,  3.68619045e-01,\n        -3.73782213e-01, -3.32270785e-01, -2.82755392e-01,\n         1.62304110e-01,  1.57840381e-01,  1.59502047e-01,\n        -3.18915313e-01],\n       [ 3.23516535e-01,  1.20761382e-01, -2.57419754e-01,\n         3.08276982e-01,  4.85366789e-01,  3.82869228e-01,\n         6.83447553e-01,  6.09225677e-01, -7.87323044e-02,\n        -5.33456778e-03],\n       [ 4.34437578e-01, -2.81374278e-01, -2.78319534e-01,\n        -3.76398248e-01,  1.42079339e-01, -3.91722951e-01,\n        -1.08377258e-01,  5.45208247e-01, -3.76754807e-01,\n        -3.24477536e-01],\n       [-4.09688264e-02, -1.35538183e-01, -7.89214756e-02,\n         3.11538811e-01,  6.83700347e-02, -1.07488094e-01,\n         2.77169089e-01, -1.55167616e-01,  1.44822158e-01,\n         2.97872218e-01],\n       [ 2.16741744e-01, -5.99336312e-01,  4.10742343e-03,\n        -1.67106367e-01,  1.46385568e-01,  5.51185141e-02,\n         3.51839608e-01,  5.29431785e-02, -6.76670709e-02,\n         2.02138467e-01],\n       [ 4.62000529e-02,  1.96880285e-01,  2.38319512e-01,\n         9.39423767e-02,  9.38521208e-02,  2.89399093e-01,\n         3.07871550e-01,  3.29939458e-01, -2.93876353e-01,\n        -8.69404664e-02],\n       [-7.66465258e-02, -6.81215785e-01,  2.38638779e-02,\n        -3.65170865e-01, -1.91832706e-01,  3.61028132e-01,\n        -2.88983144e-02, -2.16272203e-01, -3.32713073e-01,\n        -2.53474274e-01],\n       [-3.30671856e-01, -6.67210129e-01, -1.30580434e-01,\n        -4.73721104e-01,  4.11018992e-01, -2.42649562e-01,\n        -2.92780960e-01, -4.91055092e-02, -2.50754818e-01,\n         1.30271332e-01],\n       [-1.88444968e-01, -4.35504805e-01,  5.56381161e-01,\n        -4.80715638e-01, -1.40723348e-01, -5.39721779e-01,\n        -3.84986377e-04,  3.69939027e-01,  4.48186279e-01,\n         6.04782934e-02],\n       [-3.13563055e-01,  1.89154851e-01,  1.30869478e-01,\n         2.45988820e-02, -1.73049828e-01,  2.58475017e-01,\n         6.24208131e-01,  4.81149756e-01,  4.98037087e-01,\n        -5.20412804e-01]])"
     },
     "execution_count": 25,
     "metadata": {},
     "output_type": "execute_result"
    }
   ],
   "source": [
    "matrix4 = np.random.rand(10, 10)\n",
    "matrix4 = matrix4 - matrix4.mean(axis=1)\n",
    "matrix4"
   ]
  },
  {
   "cell_type": "markdown",
   "metadata": {},
   "source": [
    "11) Создать матрицу случайных чисел размера 10 на 10 и отнять медиану по столбцам из каждого элемента столбца  "
   ]
  },
  {
   "cell_type": "code",
   "execution_count": 26,
   "metadata": {
    "ExecuteTime": {
     "end_time": "2024-03-27T02:58:53.859915Z",
     "start_time": "2024-03-27T02:58:53.846915Z"
    }
   },
   "outputs": [
    {
     "data": {
      "text/plain": "array([[ 0.27274366, -0.11109519,  0.70867824,  0.19935846, -0.27048415,\n        -0.36549629,  0.20145341,  0.47478885,  0.05042432,  0.29096896],\n       [-0.16185712,  0.01985867, -0.14038139, -0.08213836, -0.11717393,\n        -0.24171473,  0.19723312, -0.40278854, -0.21213001, -0.45150897],\n       [-0.04503482, -0.01985867,  0.76316857, -0.30980555, -0.15476642,\n        -0.18746504, -0.30956261, -0.31946968,  0.61442375,  0.52169791],\n       [-0.16504823, -0.16917609,  0.00877672, -0.08883569,  0.11718171,\n        -0.00102461,  0.24919563,  0.37234587, -0.05042432,  0.19345873],\n       [-0.01351036,  0.42157339, -0.09010891, -0.21358267,  0.10036571,\n         0.15763222, -0.04701686,  0.29852972,  0.08248476, -0.42535411],\n       [-0.30839245,  0.30918683, -0.08621765,  0.22913733,  0.01088487,\n         0.25950666,  0.04701686, -0.29849744,  0.26573528,  0.07432497],\n       [ 0.01351036,  0.02880177,  0.08696774,  0.08213836, -0.01088487,\n         0.03963484, -0.19296059, -0.36658095, -0.12857031, -0.07432497],\n       [ 0.30413452, -0.31168093, -0.11623309,  0.10915243,  0.34343675,\n         0.08287176, -0.27021228,  0.11068718,  0.35833667, -0.37105721],\n       [ 0.0809272 ,  0.28073864, -0.00877672, -0.26256259,  0.21304954,\n         0.00102461,  0.060047  , -0.11068718, -0.21235247, -0.45538241],\n       [ 0.30476805, -0.43643742,  0.04008211,  0.26997146, -0.3795351 ,\n        -0.12771496, -0.27493417,  0.47871918, -0.35914019,  0.19923142]])"
     },
     "execution_count": 26,
     "metadata": {},
     "output_type": "execute_result"
    }
   ],
   "source": [
    "import numpy as np\n",
    "matrix5 = np.random.rand(10, 10)\n",
    "medians = np.median(matrix5, axis=0)\n",
    "matrix5 = matrix5 - medians\n",
    "matrix5"
   ]
  },
  {
   "cell_type": "markdown",
   "metadata": {},
   "source": [
    "12) Создать матрицу случайных чисел 5x5. Добавить к ней столбецы максимумов и минимумов по строкам. Получится матрица 5x7.  "
   ]
  },
  {
   "cell_type": "code",
   "execution_count": 27,
   "metadata": {
    "ExecuteTime": {
     "end_time": "2024-03-27T02:58:53.875915Z",
     "start_time": "2024-03-27T02:58:53.861918Z"
    }
   },
   "outputs": [
    {
     "data": {
      "text/plain": "array([[0.89419444, 0.54848509, 0.79825803, 0.52353184, 0.34359958,\n        0.89419444, 0.34359958],\n       [0.03478716, 0.06827383, 0.27046068, 0.66329982, 0.50327614,\n        0.66329982, 0.03478716],\n       [0.38325506, 0.25338386, 0.39735452, 0.69473935, 0.37152585,\n        0.69473935, 0.25338386],\n       [0.5200755 , 0.32244715, 0.37434492, 0.39976159, 0.00821445,\n        0.5200755 , 0.00821445],\n       [0.830671  , 0.94448576, 0.60813021, 0.25172543, 0.28251882,\n        0.94448576, 0.25172543]])"
     },
     "execution_count": 27,
     "metadata": {},
     "output_type": "execute_result"
    }
   ],
   "source": [
    "matrix6 = np.random.rand(5, 5)\n",
    "maxs = np.max(matrix6, axis=1).reshape(-1, 1)\n",
    "mins = np.min(matrix6, axis=1).reshape(-1, 1)\n",
    "matrix6 = np.hstack((matrix6, maxs, mins))\n",
    "matrix6"
   ]
  },
  {
   "cell_type": "markdown",
   "metadata": {},
   "source": [
    "13) Вектор чисел от 1 до 51 преобразовать в вектор нечетных чисел и в вектор четных чисел, поменять их размерности, чтобы получились две матрица. Найти произведение этих матриц. Найти обратную матрицу эётого произведения.  "
   ]
  },
  {
   "cell_type": "code",
   "execution_count": 28,
   "metadata": {
    "ExecuteTime": {
     "end_time": "2024-03-27T02:58:53.970099Z",
     "start_time": "2024-03-27T02:58:53.948114Z"
    }
   },
   "outputs": [
    {
     "data": {
      "text/plain": "(array([[-6.21359223e-02, -4.73786408e-02, -7.33007752e+11,\n          1.46601550e+12, -7.33007752e+11],\n        [ 8.94517934e+12, -2.38538116e+12, -1.75921860e+13,\n          6.55979819e+12,  4.47258967e+12],\n        [-1.31195964e+13, -7.15614348e+13,  1.77387876e+14,\n         -8.76130621e+13, -5.09378268e+12],\n        [-5.96345290e+11,  1.50279013e+14, -2.99067163e+14,\n          1.49682668e+14, -2.98172645e+11],\n        [ 4.77076232e+12, -7.63321971e+13,  1.40004481e+14,\n         -7.00954193e+13,  1.65237341e+12]]),\n array([[ 750,  800,  850,  900,  950],\n        [1850, 2000, 2150, 2300, 2450],\n        [2950, 3200, 3450, 3700, 3950],\n        [4050, 4400, 4750, 5100, 5450],\n        [5150, 5600, 6050, 6500, 6950]]))"
     },
     "execution_count": 28,
     "metadata": {},
     "output_type": "execute_result"
    }
   ],
   "source": [
    "odd_vector = np.arange(1, 51, 2)\n",
    "even_vector = np.arange(2, 52, 2)\n",
    "\n",
    "odd_matrix = odd_vector.reshape(5, 5)\n",
    "even_matrix = even_vector.reshape(5, 5)\n",
    "\n",
    "product = np.dot(odd_matrix, even_matrix)\n",
    "\n",
    "inverse = np.linalg.inv(product)\n",
    "\n",
    "inverse, product"
   ]
  },
  {
   "cell_type": "markdown",
   "metadata": {},
   "source": [
    "14) Создать 8x8 матрицу и заполнить её в шахматном порядке нулями и единицами. "
   ]
  },
  {
   "cell_type": "code",
   "execution_count": 29,
   "metadata": {
    "ExecuteTime": {
     "end_time": "2024-03-27T02:58:53.986114Z",
     "start_time": "2024-03-27T02:58:53.972101Z"
    }
   },
   "outputs": [
    {
     "data": {
      "text/plain": "array([[0., 1., 0., 1., 0., 1., 0., 1.],\n       [1., 0., 1., 0., 1., 0., 1., 0.],\n       [0., 1., 0., 1., 0., 1., 0., 1.],\n       [1., 0., 1., 0., 1., 0., 1., 0.],\n       [0., 1., 0., 1., 0., 1., 0., 1.],\n       [1., 0., 1., 0., 1., 0., 1., 0.],\n       [0., 1., 0., 1., 0., 1., 0., 1.],\n       [1., 0., 1., 0., 1., 0., 1., 0.]])"
     },
     "execution_count": 29,
     "metadata": {},
     "output_type": "execute_result"
    }
   ],
   "source": [
    "matrix7 = np.zeros((8,8))\n",
    "matrix7[1::2, ::2] = 1\n",
    "matrix7[::2, 1::2] = 1\n",
    "matrix7"
   ]
  }
 ],
 "metadata": {
  "kernelspec": {
   "display_name": "Python 3",
   "language": "python",
   "name": "python3"
  },
  "language_info": {
   "codemirror_mode": {
    "name": "ipython",
    "version": 3
   },
   "file_extension": ".py",
   "mimetype": "text/x-python",
   "name": "python",
   "nbconvert_exporter": "python",
   "pygments_lexer": "ipython3",
   "version": "3.8.0"
  }
 },
 "nbformat": 4,
 "nbformat_minor": 4
}
