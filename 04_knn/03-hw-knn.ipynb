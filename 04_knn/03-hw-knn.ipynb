{
 "nbformat": 4,
 "nbformat_minor": 0,
 "metadata": {
  "colab": {
   "name": "without_code03_hw_classification .ipynb",
   "provenance": [],
   "collapsed_sections": []
  },
  "kernelspec": {
   "display_name": "Python 3",
   "language": "python",
   "name": "python3"
  },
  "language_info": {
   "codemirror_mode": {
    "name": "ipython",
    "version": 3
   },
   "file_extension": ".py",
   "mimetype": "text/x-python",
   "name": "python",
   "nbconvert_exporter": "python",
   "pygments_lexer": "ipython3",
   "version": "3.7.1"
  }
 },
 "cells": [
  {
   "cell_type": "markdown",
   "metadata": {
    "colab_type": "text",
    "id": "2SjTJ7fkRk1N"
   },
   "source": [
    "## kNN - ближайшие соседи (15 баллов)\n",
    "\n",
    "Рассмотрим задачу из соревнования [Amazon Employee Access Challenge](https://www.kaggle.com/c/amazon-employee-access-challenge).\n",
    "\n",
    "В данной задаче предлагается предсказать, будет ли одобрен запрос сотрудника на получение доступа к тому или иному ресурсу. Все признаки являются категориальными."
   ]
  },
  {
   "cell_type": "code",
   "metadata": {
    "colab_type": "code",
    "id": "Pq1-n6enRk1Q",
    "colab": {},
    "ExecuteTime": {
     "end_time": "2024-03-28T01:49:10.809752Z",
     "start_time": "2024-03-28T01:49:10.449380Z"
    }
   },
   "source": [
    "%matplotlib inline\n",
    "import pandas as pd\n",
    "import numpy as np\n",
    "from matplotlib import pyplot as plt\n",
    "import seaborn as sns\n",
    "from sklearn.model_selection import train_test_split, KFold, cross_val_score\n",
    "from sklearn.neighbors import KNeighborsClassifier\n",
    "from sklearn.metrics import classification_report, confusion_matrix, f1_score\n",
    "from sklearn.preprocessing import scale"
   ],
   "execution_count": 1,
   "outputs": []
  },
  {
   "cell_type": "code",
   "metadata": {
    "id": "5KP6Njh-11dE",
    "colab_type": "code",
    "colab": {},
    "ExecuteTime": {
     "end_time": "2024-03-28T01:49:10.824743Z",
     "start_time": "2024-03-28T01:49:10.811726Z"
    }
   },
   "source": [
    "# from google.colab import drive\n",
    "# drive.mount('/content/drive')"
   ],
   "execution_count": 2,
   "outputs": []
  },
  {
   "cell_type": "markdown",
   "source": [
    "# 6.1 Классификация.Соискатели\n",
    "\n",
    "1. Скачайте этот ноутбук к себе.\n",
    "2. Заполните пропущенные ячейки, отвечая на заданные вопросы. Там должен быть код! (если не сказано обратное)\n",
    "3. Отправьте результат нам\n",
    "\n",
    "### Полезная литература\n",
    "\n",
    "- [ODS - классификация](https://habrahabr.ru/company/ods/blog/322534/)\n",
    "- [Коллаборативная фильтрация - рекомендательная система](https://ru.wikipedia.org/wiki/%D0%9A%D0%BE%D0%BB%D0%BB%D0%B0%D0%B1%D0%BE%D1%80%D0%B0%D1%82%D0%B8%D0%B2%D0%BD%D0%B0%D1%8F_%D1%84%D0%B8%D0%BB%D1%8C%D1%82%D1%80%D0%B0%D1%86%D0%B8%D1%8F)\n",
    "- [Метрики расстояний - косинусная, минковского, проклятье размерности ](http://www.machinelearning.ru/wiki/images/9/9a/Sem1_knn.pdf)\n",
    "- [Offtop: метрики качества рекомендательных систем](https://habrahabr.ru/company/dca/blog/281066/)"
   ],
   "metadata": {
    "colab_type": "text",
    "id": "6E3ZEkkwRk1J"
   }
  },
  {
   "cell_type": "code",
   "metadata": {
    "colab_type": "code",
    "id": "1dag_dZ9Rk1c",
    "colab": {
     "base_uri": "https://localhost:8080/",
     "height": 204
    },
    "outputId": "d68ee7d4-9b79-47a9-d255-d4e77dcf4532",
    "ExecuteTime": {
     "end_time": "2024-03-28T01:49:10.885264Z",
     "start_time": "2024-03-28T01:49:10.825735Z"
    }
   },
   "source": [
    "# df = pd.read_csv('/content/drive/My Drive/Data/amazon.csv.gz')\n",
    "df = pd.read_csv('../data/amazon.csv.gz')\n",
    "df.head()\n",
    "# ACTION - это целевой признак  "
   ],
   "execution_count": 3,
   "outputs": [
    {
     "data": {
      "text/plain": "   ACTION  RESOURCE  MGR_ID  ROLE_ROLLUP_1  ROLE_ROLLUP_2  ROLE_DEPTNAME  \\\n0       1     39353   85475         117961         118300         123472   \n1       1     17183    1540         117961         118343         123125   \n2       1     36724   14457         118219         118220         117884   \n3       1     36135    5396         117961         118343         119993   \n4       1     42680    5905         117929         117930         119569   \n\n   ROLE_TITLE  ROLE_FAMILY_DESC  ROLE_FAMILY  ROLE_CODE  \n0      117905            117906       290919     117908  \n1      118536            118536       308574     118539  \n2      117879            267952        19721     117880  \n3      118321            240983       290919     118322  \n4      119323            123932        19793     119325  ",
      "text/html": "<div>\n<style scoped>\n    .dataframe tbody tr th:only-of-type {\n        vertical-align: middle;\n    }\n\n    .dataframe tbody tr th {\n        vertical-align: top;\n    }\n\n    .dataframe thead th {\n        text-align: right;\n    }\n</style>\n<table border=\"1\" class=\"dataframe\">\n  <thead>\n    <tr style=\"text-align: right;\">\n      <th></th>\n      <th>ACTION</th>\n      <th>RESOURCE</th>\n      <th>MGR_ID</th>\n      <th>ROLE_ROLLUP_1</th>\n      <th>ROLE_ROLLUP_2</th>\n      <th>ROLE_DEPTNAME</th>\n      <th>ROLE_TITLE</th>\n      <th>ROLE_FAMILY_DESC</th>\n      <th>ROLE_FAMILY</th>\n      <th>ROLE_CODE</th>\n    </tr>\n  </thead>\n  <tbody>\n    <tr>\n      <th>0</th>\n      <td>1</td>\n      <td>39353</td>\n      <td>85475</td>\n      <td>117961</td>\n      <td>118300</td>\n      <td>123472</td>\n      <td>117905</td>\n      <td>117906</td>\n      <td>290919</td>\n      <td>117908</td>\n    </tr>\n    <tr>\n      <th>1</th>\n      <td>1</td>\n      <td>17183</td>\n      <td>1540</td>\n      <td>117961</td>\n      <td>118343</td>\n      <td>123125</td>\n      <td>118536</td>\n      <td>118536</td>\n      <td>308574</td>\n      <td>118539</td>\n    </tr>\n    <tr>\n      <th>2</th>\n      <td>1</td>\n      <td>36724</td>\n      <td>14457</td>\n      <td>118219</td>\n      <td>118220</td>\n      <td>117884</td>\n      <td>117879</td>\n      <td>267952</td>\n      <td>19721</td>\n      <td>117880</td>\n    </tr>\n    <tr>\n      <th>3</th>\n      <td>1</td>\n      <td>36135</td>\n      <td>5396</td>\n      <td>117961</td>\n      <td>118343</td>\n      <td>119993</td>\n      <td>118321</td>\n      <td>240983</td>\n      <td>290919</td>\n      <td>118322</td>\n    </tr>\n    <tr>\n      <th>4</th>\n      <td>1</td>\n      <td>42680</td>\n      <td>5905</td>\n      <td>117929</td>\n      <td>117930</td>\n      <td>119569</td>\n      <td>119323</td>\n      <td>123932</td>\n      <td>19793</td>\n      <td>119325</td>\n    </tr>\n  </tbody>\n</table>\n</div>"
     },
     "execution_count": 3,
     "metadata": {},
     "output_type": "execute_result"
    }
   ]
  },
  {
   "cell_type": "markdown",
   "metadata": {
    "colab_type": "text",
    "id": "PZ85weZTRk1n"
   },
   "source": [
    "Обратим внимание, что выборка не сбалансированная. В качестве метрики качества будем использовать [f1-score](https://en.wikipedia.org/wiki/F1_score). \n",
    "$$F_1 = 2 \\cdot \\frac{\\mathrm{precision} \\cdot \\mathrm{recall}}{\\mathrm{precision} + \\mathrm{recall}}$$\n",
    "\n",
    "$$precision = \\frac{TP}{TP+FP}$$\n",
    "\n",
    "$$recall = \\frac{TP}{TP+FN}$$"
   ]
  },
  {
   "cell_type": "code",
   "metadata": {
    "colab_type": "code",
    "id": "geYOEvR5Rk1p",
    "colab": {
     "base_uri": "https://localhost:8080/",
     "height": 313
    },
    "outputId": "a4750a51-1c7d-4a82-d931-c13a8931a061",
    "ExecuteTime": {
     "end_time": "2024-03-28T01:49:11.023802Z",
     "start_time": "2024-03-28T01:49:10.887264Z"
    }
   },
   "source": [
    "print(df['ACTION'].mean())\n",
    "sns.countplot(data=df, x='ACTION')"
   ],
   "execution_count": 4,
   "outputs": [
    {
     "name": "stdout",
     "output_type": "stream",
     "text": [
      "0.9421099209618847\n"
     ]
    },
    {
     "data": {
      "text/plain": "<AxesSubplot:xlabel='ACTION', ylabel='count'>"
     },
     "execution_count": 4,
     "metadata": {},
     "output_type": "execute_result"
    },
    {
     "data": {
      "text/plain": "<Figure size 432x288 with 1 Axes>",
      "image/png": "[encoded data removed]"
     },
     "metadata": {
      "needs_background": "light"
     },
     "output_type": "display_data"
    }
   ]
  },
  {
   "cell_type": "code",
   "metadata": {
    "colab_type": "code",
    "id": "0esSU_9iRk1v",
    "colab": {
     "base_uri": "https://localhost:8080/",
     "height": 187
    },
    "outputId": "f97c558c-664a-4a65-b707-ff0e963cb3e3",
    "ExecuteTime": {
     "end_time": "2024-03-28T01:49:11.039794Z",
     "start_time": "2024-03-28T01:49:11.025798Z"
    }
   },
   "source": [
    "# число значений у признаков\n",
    "for col_name in df.columns:\n",
    "    print(col_name, len(df[col_name].unique()))"
   ],
   "execution_count": 5,
   "outputs": [
    {
     "name": "stdout",
     "output_type": "stream",
     "text": [
      "ACTION 2\n",
      "RESOURCE 7518\n",
      "MGR_ID 4243\n",
      "ROLE_ROLLUP_1 128\n",
      "ROLE_ROLLUP_2 177\n",
      "ROLE_DEPTNAME 449\n",
      "ROLE_TITLE 343\n",
      "ROLE_FAMILY_DESC 2358\n",
      "ROLE_FAMILY 67\n",
      "ROLE_CODE 343\n"
     ]
    }
   ]
  },
  {
   "cell_type": "code",
   "metadata": {
    "colab_type": "code",
    "id": "grv_l7aYRk12",
    "colab": {},
    "ExecuteTime": {
     "end_time": "2024-03-28T01:49:11.071344Z",
     "start_time": "2024-03-28T01:49:11.041795Z"
    }
   },
   "source": [
    "X = df.drop(['ACTION'], axis=1)\n",
    "y = df['ACTION']\n",
    "X_train, X_test, y_train, y_test = train_test_split(X, y, random_state=42, test_size=0.8)"
   ],
   "execution_count": 6,
   "outputs": []
  },
  {
   "cell_type": "markdown",
   "metadata": {
    "colab_type": "text",
    "id": "WF-Sqou3Rk19"
   },
   "source": [
    "# Baseline (4 балла)\n",
    "\n",
    "Сразу проверим как ведет себя kNN на неподготовленных данных и без тюнинга. Зафиксируйте `n_neighbors=5`, `p=2`. \n",
    "\n",
    "- создайте экземпляр `KNeighborsClassifier` с указанными параметрами, обучите его методом `fit` и предскажите значения `predict` для треничровчных данных `X_test`.\n",
    "- постройте отчет классификации (classification_report)\n",
    "- постройте confusion matrix и нарисуйте heatmap\n",
    "\n",
    "Обратите внимание на confusion matrix. Какой вывод вы можете сделать из неё? Вспомните лекцию и значение ошибок 1 и 2 рода."
   ]
  },
  {
   "cell_type": "code",
   "metadata": {
    "colab_type": "code",
    "id": "b0VOmw-gRk2B",
    "colab": {},
    "ExecuteTime": {
     "end_time": "2024-03-28T01:49:11.857876Z",
     "start_time": "2024-03-28T01:49:11.074337Z"
    }
   },
   "source": [
    "knn1 = KNeighborsClassifier(n_neighbors= 5, p=2)\n",
    "knn1.fit(X_train, y_train)\n",
    "y_pred = knn1.predict(X_test)\n",
    "\n",
    "print(classification_report(y_test, y_pred))\n",
    "cm = confusion_matrix(y_test, y_pred)\n",
    "cm"
   ],
   "execution_count": 7,
   "outputs": [
    {
     "name": "stdout",
     "output_type": "stream",
     "text": [
      "              precision    recall  f1-score   support\n",
      "\n",
      "           0       0.22      0.03      0.05      1534\n",
      "           1       0.94      0.99      0.97     24682\n",
      "\n",
      "    accuracy                           0.94     26216\n",
      "   macro avg       0.58      0.51      0.51     26216\n",
      "weighted avg       0.90      0.94      0.91     26216\n"
     ]
    },
    {
     "data": {
      "text/plain": "array([[   41,  1493],\n       [  147, 24535]], dtype=int64)"
     },
     "execution_count": 7,
     "metadata": {},
     "output_type": "execute_result"
    }
   ]
  },
  {
   "cell_type": "code",
   "outputs": [
    {
     "data": {
      "text/plain": "<Figure size 432x288 with 2 Axes>",
      "image/png": "[encoded data removed]"
     },
     "metadata": {
      "needs_background": "light"
     },
     "output_type": "display_data"
    }
   ],
   "source": [
    "sns.heatmap(cm)\n",
    "plt.show()"
   ],
   "metadata": {
    "collapsed": false,
    "ExecuteTime": {
     "end_time": "2024-03-28T01:49:11.981768Z",
     "start_time": "2024-03-28T01:49:11.859883Z"
    }
   },
   "execution_count": 8
  },
  {
   "cell_type": "markdown",
   "metadata": {
    "colab_type": "text",
    "id": "05W_1YtvRk2I"
   },
   "source": [
    "При фиксированном `n_neighbors=10` проверьте значение метрики на кроссвалидации на 5-фолдах для разных значений `p` из `(1,2,4,6)`. При каком значение `p` метрика достигает максимума?\n",
    "\n",
    "При кроссвалидации у вас будет получаться N разных значений метрики. Выводите среднее значение и стандартное отклонение."
   ]
  },
  {
   "cell_type": "code",
   "metadata": {
    "id": "eO5jV0YBuafJ",
    "colab_type": "code",
    "colab": {},
    "ExecuteTime": {
     "end_time": "2024-03-28T01:49:14.306912Z",
     "start_time": "2024-03-28T01:49:11.983768Z"
    }
   },
   "source": [
    "p_arr = [1, 2, 4, 6]\n",
    "for p in p_arr:\n",
    "    knn = KNeighborsClassifier(n_neighbors=10, p=p)\n",
    "    scores = cross_val_score(knn, X_train, y_train, cv=5)\n",
    "    print(f'p={p}: Mean={np.mean(scores)}, Std deviation={np.std(scores)}')"
   ],
   "execution_count": 9,
   "outputs": [
    {
     "name": "stdout",
     "output_type": "stream",
     "text": [
      "p=1: Mean=0.9443005455889975, Std deviation=0.0009519030430808572\n",
      "p=2: Mean=0.9446056561915908, Std deviation=0.0007684587110299395\n",
      "p=4: Mean=0.9444532173447225, Std deviation=0.0008710708423343614\n",
      "p=6: Mean=0.9441478738332721, Std deviation=0.0005552549103419756\n"
     ]
    }
   ]
  },
  {
   "cell_type": "markdown",
   "source": [
    "Метрика достигает максимума при значении p=2"
   ],
   "metadata": {
    "collapsed": false
   }
  },
  {
   "cell_type": "markdown",
   "metadata": {
    "colab_type": "text",
    "id": "95FbhY1JRk2S"
   },
   "source": [
    "# Счетчики (6 баллов)\n",
    "\n",
    "Очевидно, что предсказывать лейбл объекта, используя при этом метрический алгоритм на категориальных признаках - это ОЧЕНЬ странная затея. Не удивительно что качество ужасное. Необходимо каким-то образом заменить категориальные признаки вещественными:\n",
    "\n",
    "- OneHotEncoding - это когда для каждого признака создают другие N бинарных признаков, где N - это количество категорий у категориального признака.\n",
    "- Счетчики - об это написано в статье http://blogs.technet.com/b/machinelearning/archive/2015/02/17/big-learning-made-easy-with-counts.aspx.\n",
    "\n",
    "Мы реализуем алгоритм Счетчиков. Его нет в sklearn, поэтому придется реализовать самому. \n",
    "\n",
    "Для каждого категориального признака создайте 3 других признака:\n",
    "1. Число `counts` объектов в обучающей выборке с таким же значением признака.\n",
    "2. Число `successes` объектов первого класса ($y = 1$) в обучающей выборке с таким же значением признака.\n",
    "3. Сглаженное отношение двух предыдущих величин: (`successes` + 1) / (`counts` + 2).\n",
    "\n",
    "Поскольку признаки, содержащие информацию о целевой переменной, могут привести к переобучению, может оказаться полезным сделать *фолдинг*: разбить обучающую выборку на $n$ частей, и для $i$-й части считать `counts` и `successes` по всем остальным частям. Для тестовой выборки используются счетчики, посчитанные по всей обучающей выборке. Реализуйте и такой вариант. Можно использовать $n = 3$.\n",
    "\n",
    "Обучение надо проводить только по новым признакам. Изначальные мы не используем.\n",
    "\n",
    "Счетчики нужно считать по `train`, а в `test` использовать эти же счетчики, иначе счетчики будут содержать информацию о всем датасете что приведет к переобучение!\n",
    "\n",
    "Подсказка - вам нужно для каждой колонки посчитать 2 аггрегации - сумму и количество. Для замены конкретного значения посчитанным используйте функцию apply над датафреймом. Простое решение займет около 10 строк кода."
   ]
  },
  {
   "cell_type": "markdown",
   "metadata": {
    "colab_type": "text",
    "id": "peoX3U3iRk2U"
   },
   "source": [
    "![](http://images6.fanpop.com/image/photos/38600000/taiga-iamyourenemy-38620719-282-160.gif)"
   ]
  },
  {
   "cell_type": "code",
   "metadata": {
    "id": "qNzXCuFDWIOm",
    "colab_type": "code",
    "colab": {},
    "ExecuteTime": {
     "end_time": "2024-03-28T01:49:28.815655Z",
     "start_time": "2024-03-28T01:49:14.308920Z"
    }
   },
   "source": [
    "data = pd.DataFrame(index=df.index)\n",
    "\n",
    "kfold = KFold(n_splits=3)\n",
    "\n",
    "for train_index, val_index in kfold.split(df):\n",
    "    for col_name in df.columns:\n",
    "            if col_name == 'ACTION':\n",
    "                continue\n",
    "                \n",
    "            train_df_fold, val_df_fold = df.iloc[train_index], df.iloc[val_index]\n",
    "        \n",
    "            col_counts = train_df_fold.groupby(col_name).size()\n",
    "        \n",
    "            col_successes = train_df_fold[train_df_fold['ACTION'] == 1].groupby(col_name).size()\n",
    "        \n",
    "            col_smoothed_ratio = (col_successes + 1) / (col_counts + 2)\n",
    "            \n",
    "            data.loc[val_df_fold.index, col_name + '_counts'] = val_df_fold[col_name].map(col_counts)\n",
    "            data.loc[val_df_fold.index, col_name + '_successes'] = val_df_fold[col_name].map(col_successes)\n",
    "            data.loc[val_df_fold.index, col_name + '_ratio'] = val_df_fold[col_name].map(col_smoothed_ratio)\n",
    "\n",
    "    data.fillna(0, inplace=True)\n",
    "    knn2 = KNeighborsClassifier(n_neighbors=10, p=2)\n",
    "\n",
    "    X2_train, X2_test, y2_train, y2_test = train_test_split(data, df[\"ACTION\"], random_state=42, test_size=0.8)\n",
    "\n",
    "    knn2.fit(X2_train, y2_train)\n",
    "\n",
    "    scores = cross_val_score(knn2, X2_train, y2_train, cv=5)\n",
    "    \n",
    "    print(f'Mean={np.mean(scores)}, Std deviation={np.std(scores)}')\n",
    "    \n",
    "    y2_pred = knn2.predict(X2_test)\n",
    "    \n",
    "    print(classification_report(y2_test, y2_pred))\n",
    "    \n",
    "    cm2 = confusion_matrix(y2_test, y2_pred)\n",
    "    print(cm2)\n",
    "    sns.heatmap(cm2)\n",
    "    plt.show()"
   ],
   "execution_count": 10,
   "outputs": [
    {
     "name": "stdout",
     "output_type": "stream",
     "text": [
      "Mean=0.9433848644179316, Std deviation=0.0010034817758912376\n",
      "              precision    recall  f1-score   support\n",
      "\n",
      "           0       0.21      0.01      0.02      1534\n",
      "           1       0.94      1.00      0.97     24682\n",
      "\n",
      "    accuracy                           0.94     26216\n",
      "   macro avg       0.58      0.50      0.49     26216\n",
      "weighted avg       0.90      0.94      0.91     26216\n",
      "\n",
      "[[   12  1522]\n",
      " [   44 24638]]\n"
     ]
    },
    {
     "data": {
      "text/plain": "<Figure size 432x288 with 2 Axes>",
      "image/png": "[encoded data removed]"
     },
     "metadata": {
      "needs_background": "light"
     },
     "output_type": "display_data"
    },
    {
     "name": "stdout",
     "output_type": "stream",
     "text": [
      "Mean=0.9441479902877006, Std deviation=0.0008723581260225913\n",
      "              precision    recall  f1-score   support\n",
      "\n",
      "           0       0.28      0.01      0.02      1534\n",
      "           1       0.94      1.00      0.97     24682\n",
      "\n",
      "    accuracy                           0.94     26216\n",
      "   macro avg       0.61      0.51      0.50     26216\n",
      "weighted avg       0.90      0.94      0.91     26216\n",
      "\n",
      "[[   19  1515]\n",
      " [   50 24632]]\n"
     ]
    },
    {
     "data": {
      "text/plain": "<Figure size 432x288 with 2 Axes>",
      "image/png": "[encoded data removed]"
     },
     "metadata": {
      "needs_background": "light"
     },
     "output_type": "display_data"
    },
    {
     "name": "stdout",
     "output_type": "stream",
     "text": [
      "Mean=0.9420115173429757, Std deviation=0.0014383133666802954\n",
      "              precision    recall  f1-score   support\n",
      "\n",
      "           0       0.32      0.03      0.05      1534\n",
      "           1       0.94      1.00      0.97     24682\n",
      "\n",
      "    accuracy                           0.94     26216\n",
      "   macro avg       0.63      0.51      0.51     26216\n",
      "weighted avg       0.91      0.94      0.92     26216\n",
      "\n",
      "[[   44  1490]\n",
      " [   93 24589]]\n"
     ]
    },
    {
     "data": {
      "text/plain": "<Figure size 432x288 with 2 Axes>",
      "image/png": "[encoded data removed]"
     },
     "metadata": {
      "needs_background": "light"
     },
     "output_type": "display_data"
    }
   ]
  },
  {
   "cell_type": "markdown",
   "metadata": {
    "colab_type": "text",
    "id": "_LI0_45SRk2b"
   },
   "source": [
    "Проверьте какое качество теперь получается на кроссвалидации для новых данных."
   ]
  },
  {
   "cell_type": "markdown",
   "metadata": {
    "colab_type": "text",
    "id": "sLAn1dmIRk2j"
   },
   "source": [
    "- постройте отчет классификации (classification_report)\n",
    "- постройте confusion matrix и нарисуйте heatmap\n",
    "\n",
    "Оцените на сколько улучшилось качество.\n",
    "##### Улучшилась точность для класса 0"
   ]
  },
  {
   "cell_type": "markdown",
   "metadata": {
    "colab_type": "text",
    "id": "xr0h7eJeRk2s"
   },
   "source": [
    "# Co-co-co-combo (5 баллов)\n",
    "\n",
    "Добавьте в исходную выборку парные признаки — то есть для каждой пары $(f_i, f_j)$, $i < j$ исходных категориальных признаков добавьте новый категориальный признак $f_{ij}$, значение которого является конкатенацией значений $f_i$ и $f_j$ (желательно через какой-нибудь специальный символ во избежание коллизий). Посчитайте счетчики для этой выборки, найдите качество метода $k$ ближайших соседей с наилучшим $k$ (с фолдингом и без)."
   ]
  },
  {
   "cell_type": "code",
   "metadata": {
    "colab_type": "code",
    "id": "WX1unyFARk2t",
    "colab": {},
    "ExecuteTime": {
     "end_time": "2024-03-28T01:49:28.831622Z",
     "start_time": "2024-03-28T01:49:28.817636Z"
    }
   },
   "source": [
    "from itertools import combinations\n",
    "\n",
    "df_combo = df.copy()\n",
    "\n",
    "cols = [col for col in df_combo.columns if col != 'ACTION']"
   ],
   "execution_count": 11,
   "outputs": []
  },
  {
   "cell_type": "code",
   "metadata": {
    "colab_type": "code",
    "id": "otoeCnjIRk2z",
    "colab": {},
    "ExecuteTime": {
     "end_time": "2024-03-28T01:49:52.809863Z",
     "start_time": "2024-03-28T01:49:28.833629Z"
    }
   },
   "source": [
    "data_combo = pd.DataFrame(index=df_combo.index)\n",
    "\n",
    "for col_pair in combinations(cols, 2):\n",
    "    col_name = '-'.join(col_pair)\n",
    "    data_combo[col_name] = df_combo[list(col_pair)].apply(lambda row: '-'.join(row.values.astype(str)), axis=1)\n",
    "\n",
    "for col in data_combo.columns:\n",
    "    df_combo[col+'_count'] = df_combo[col.split('-')[0]].map(data_combo[col].value_counts())\n",
    "    \n",
    "data_combo_count = pd.DataFrame(index=df_combo.index)\n",
    "\n",
    "for train_index, val_index in kfold.split(df):\n",
    "    for col_name in df.columns:\n",
    "        if col_name == 'ACTION':\n",
    "            continue\n",
    "\n",
    "        train_df_fold, val_df_fold = df.iloc[train_index], df.iloc[val_index]\n",
    "\n",
    "        col_counts = train_df_fold.groupby(col_name).size()\n",
    "\n",
    "        col_successes = train_df_fold[train_df_fold['ACTION'] == 1].groupby(col_name).size()\n",
    "\n",
    "        col_smoothed_ratio = (col_successes + 1) / (col_counts + 2)\n",
    "\n",
    "        data_combo_count.loc[val_df_fold.index, col_name + '_counts'] = val_df_fold[col_name].map(col_counts)\n",
    "        data_combo_count.loc[val_df_fold.index, col_name + '_successes'] = val_df_fold[col_name].map(col_successes)\n",
    "        data_combo_count.loc[val_df_fold.index, col_name + '_ratio'] = val_df_fold[col_name].map(col_smoothed_ratio)\n",
    "\n",
    "    data_combo_count.fillna(0, inplace=True)\n",
    "\n",
    "    knn3 = KNeighborsClassifier(n_neighbors=10, p=2)\n",
    "\n",
    "    X3_train, X3_test, y3_train, y3_test = train_test_split(data_combo_count, df[\"ACTION\"], random_state=42, test_size=0.8)\n",
    "\n",
    "    knn3.fit(X3_train, y3_train)\n",
    "\n",
    "    scores = cross_val_score(knn3, X3_train, y3_train, cv=5)\n",
    "    print(f'Mean={np.mean(scores)}, Std deviation={np.std(scores)}')\n",
    "\n",
    "    y3_pred = knn3.predict(X3_test)\n",
    "\n",
    "    print(classification_report(y3_test, y3_pred))\n",
    "\n",
    "    cm3 = confusion_matrix(y3_test, y3_pred)\n",
    "    print(cm3)\n",
    "    sns.heatmap(cm3)\n",
    "    plt.show()"
   ],
   "execution_count": 12,
   "outputs": [
    {
     "name": "stdout",
     "output_type": "stream",
     "text": [
      "Mean=0.9433848644179316, Std deviation=0.0010034817758912376\n",
      "              precision    recall  f1-score   support\n",
      "\n",
      "           0       0.21      0.01      0.02      1534\n",
      "           1       0.94      1.00      0.97     24682\n",
      "\n",
      "    accuracy                           0.94     26216\n",
      "   macro avg       0.58      0.50      0.49     26216\n",
      "weighted avg       0.90      0.94      0.91     26216\n",
      "\n",
      "[[   12  1522]\n",
      " [   44 24638]]\n"
     ]
    },
    {
     "data": {
      "text/plain": "<Figure size 432x288 with 2 Axes>",
      "image/png": "[encoded data removed]"
     },
     "metadata": {
      "needs_background": "light"
     },
     "output_type": "display_data"
    },
    {
     "name": "stdout",
     "output_type": "stream",
     "text": [
      "Mean=0.9441479902877006, Std deviation=0.0008723581260225913\n",
      "              precision    recall  f1-score   support\n",
      "\n",
      "           0       0.28      0.01      0.02      1534\n",
      "           1       0.94      1.00      0.97     24682\n",
      "\n",
      "    accuracy                           0.94     26216\n",
      "   macro avg       0.61      0.51      0.50     26216\n",
      "weighted avg       0.90      0.94      0.91     26216\n",
      "\n",
      "[[   19  1515]\n",
      " [   50 24632]]\n"
     ]
    },
    {
     "data": {
      "text/plain": "<Figure size 432x288 with 2 Axes>",
      "image/png": "[encoded data removed]"
     },
     "metadata": {
      "needs_background": "light"
     },
     "output_type": "display_data"
    },
    {
     "name": "stdout",
     "output_type": "stream",
     "text": [
      "Mean=0.9420115173429757, Std deviation=0.0014383133666802954\n",
      "              precision    recall  f1-score   support\n",
      "\n",
      "           0       0.32      0.03      0.05      1534\n",
      "           1       0.94      1.00      0.97     24682\n",
      "\n",
      "    accuracy                           0.94     26216\n",
      "   macro avg       0.63      0.51      0.51     26216\n",
      "weighted avg       0.91      0.94      0.92     26216\n",
      "\n",
      "[[   44  1490]\n",
      " [   93 24589]]\n"
     ]
    },
    {
     "data": {
      "text/plain": "<Figure size 432x288 with 2 Axes>",
      "image/png": "[encoded data removed]"
     },
     "metadata": {
      "needs_background": "light"
     },
     "output_type": "display_data"
    }
   ]
  },
  {
   "cell_type": "markdown",
   "metadata": {
    "colab_type": "text",
    "id": "jNGOU4pBRk24"
   },
   "source": [
    "- постройте отчет классификации (classification_report)\n",
    "- постройте confusion matrix и нарисуйте heatmap\n",
    "\n",
    "Оцените на сколько улучшилось качество. Не похоже ли это на переобусение?\n",
    "##### Низкое значение F1-score для класса 0, указывает на вероятность переобучения\n",
    "\n",
    "Внимание! Обучение на этом этапе может быть долгим. На i5 16GB кроссвалидация на 5 фолдах заняла 30 минут!"
   ]
  },
  {
   "cell_type": "markdown",
   "metadata": {
    "id": "YfXcVDbhjQLC",
    "colab_type": "text"
   },
   "source": [
    "# Target encoding\n",
    "Допустим, у нас есть категоральный признак х и целевой у; нужно сгруппировать значения признака х по значениям признака у и посчитать среднее. Затем все значения из х заменяем на среднее по соответствующему у.\n",
    "\n",
    "\n",
    "Подробнее написано в статье: https://maxhalford.github.io/blog/target-encoding/\n"
   ]
  },
  {
   "cell_type": "code",
   "metadata": {
    "id": "DDUvy30ldaKK",
    "colab_type": "code",
    "colab": {},
    "ExecuteTime": {
     "end_time": "2024-03-28T01:49:52.825714Z",
     "start_time": "2024-03-28T01:49:52.810767Z"
    }
   },
   "source": [
    "df_target = df.copy()"
   ],
   "execution_count": 13,
   "outputs": []
  },
  {
   "cell_type": "code",
   "metadata": {
    "id": "S9BBzsGdWyJ1",
    "colab_type": "code",
    "colab": {},
    "ExecuteTime": {
     "end_time": "2024-03-28T01:49:52.872746Z",
     "start_time": "2024-03-28T01:49:52.826718Z"
    }
   },
   "source": [
    "data_target = pd.DataFrame(index=df_target.index)\n",
    "\n",
    "def target_encoding(dataframe, x, y):\n",
    "    grouped = dataframe.groupby(x)[y].mean()\n",
    "    return dataframe[x].map(grouped)\n",
    "\n",
    "for col_name in df_target.columns:\n",
    "    if col_name == 'ACTION':\n",
    "        continue\n",
    "    else:\n",
    "        data_target[col_name] = target_encoding(df_target, col_name, 'ACTION')\n",
    "\n",
    "data_target"
   ],
   "execution_count": 14,
   "outputs": [
    {
     "data": {
      "text/plain": "       RESOURCE    MGR_ID  ROLE_ROLLUP_1  ROLE_ROLLUP_2  ROLE_DEPTNAME  \\\n0      1.000000  1.000000       0.949222       0.956148       0.958333   \n1      0.966667  1.000000       0.949222       0.969075       0.893082   \n2      1.000000  1.000000       0.918478       0.918478       0.923077   \n3      1.000000  1.000000       0.949222       0.969075       0.989474   \n4      1.000000  1.000000       0.931159       0.876812       0.755556   \n...         ...       ...            ...            ...            ...   \n32764  0.901961  0.965517       0.949222       0.956148       0.989474   \n32765  1.000000  1.000000       0.963939       0.963939       1.000000   \n32766  0.962733  1.000000       0.949222       0.954563       1.000000   \n32767  1.000000  0.687500       0.734545       0.719844       0.864947   \n32768  0.905512  1.000000       0.925424       0.935484       0.906198   \n\n       ROLE_TITLE  ROLE_FAMILY_DESC  ROLE_FAMILY  ROLE_CODE  \n0        0.967625          0.933440     0.942350   0.967625  \n1        0.962963          1.000000     0.947941   0.962963  \n2        0.889331          0.939394     0.907815   0.889331  \n3        0.920413          0.955788     0.942350   0.920413  \n4        0.866667          0.947368     0.837017   0.866667  \n...           ...               ...          ...        ...  \n32764    0.920413          0.955788     0.942350   0.920413  \n32765    1.000000          1.000000     0.977679   1.000000  \n32766    1.000000          1.000000     0.974359   1.000000  \n32767    0.913706          0.860656     0.862671   0.913706  \n32768    0.925216          1.000000     0.907815   0.925216  \n\n[32769 rows x 9 columns]",
      "text/html": "<div>\n<style scoped>\n    .dataframe tbody tr th:only-of-type {\n        vertical-align: middle;\n    }\n\n    .dataframe tbody tr th {\n        vertical-align: top;\n    }\n\n    .dataframe thead th {\n        text-align: right;\n    }\n</style>\n<table border=\"1\" class=\"dataframe\">\n  <thead>\n    <tr style=\"text-align: right;\">\n      <th></th>\n      <th>RESOURCE</th>\n      <th>MGR_ID</th>\n      <th>ROLE_ROLLUP_1</th>\n      <th>ROLE_ROLLUP_2</th>\n      <th>ROLE_DEPTNAME</th>\n      <th>ROLE_TITLE</th>\n      <th>ROLE_FAMILY_DESC</th>\n      <th>ROLE_FAMILY</th>\n      <th>ROLE_CODE</th>\n    </tr>\n  </thead>\n  <tbody>\n    <tr>\n      <th>0</th>\n      <td>1.000000</td>\n      <td>1.000000</td>\n      <td>0.949222</td>\n      <td>0.956148</td>\n      <td>0.958333</td>\n      <td>0.967625</td>\n      <td>0.933440</td>\n      <td>0.942350</td>\n      <td>0.967625</td>\n    </tr>\n    <tr>\n      <th>1</th>\n      <td>0.966667</td>\n      <td>1.000000</td>\n      <td>0.949222</td>\n      <td>0.969075</td>\n      <td>0.893082</td>\n      <td>0.962963</td>\n      <td>1.000000</td>\n      <td>0.947941</td>\n      <td>0.962963</td>\n    </tr>\n    <tr>\n      <th>2</th>\n      <td>1.000000</td>\n      <td>1.000000</td>\n      <td>0.918478</td>\n      <td>0.918478</td>\n      <td>0.923077</td>\n      <td>0.889331</td>\n      <td>0.939394</td>\n      <td>0.907815</td>\n      <td>0.889331</td>\n    </tr>\n    <tr>\n      <th>3</th>\n      <td>1.000000</td>\n      <td>1.000000</td>\n      <td>0.949222</td>\n      <td>0.969075</td>\n      <td>0.989474</td>\n      <td>0.920413</td>\n      <td>0.955788</td>\n      <td>0.942350</td>\n      <td>0.920413</td>\n    </tr>\n    <tr>\n      <th>4</th>\n      <td>1.000000</td>\n      <td>1.000000</td>\n      <td>0.931159</td>\n      <td>0.876812</td>\n      <td>0.755556</td>\n      <td>0.866667</td>\n      <td>0.947368</td>\n      <td>0.837017</td>\n      <td>0.866667</td>\n    </tr>\n    <tr>\n      <th>...</th>\n      <td>...</td>\n      <td>...</td>\n      <td>...</td>\n      <td>...</td>\n      <td>...</td>\n      <td>...</td>\n      <td>...</td>\n      <td>...</td>\n      <td>...</td>\n    </tr>\n    <tr>\n      <th>32764</th>\n      <td>0.901961</td>\n      <td>0.965517</td>\n      <td>0.949222</td>\n      <td>0.956148</td>\n      <td>0.989474</td>\n      <td>0.920413</td>\n      <td>0.955788</td>\n      <td>0.942350</td>\n      <td>0.920413</td>\n    </tr>\n    <tr>\n      <th>32765</th>\n      <td>1.000000</td>\n      <td>1.000000</td>\n      <td>0.963939</td>\n      <td>0.963939</td>\n      <td>1.000000</td>\n      <td>1.000000</td>\n      <td>1.000000</td>\n      <td>0.977679</td>\n      <td>1.000000</td>\n    </tr>\n    <tr>\n      <th>32766</th>\n      <td>0.962733</td>\n      <td>1.000000</td>\n      <td>0.949222</td>\n      <td>0.954563</td>\n      <td>1.000000</td>\n      <td>1.000000</td>\n      <td>1.000000</td>\n      <td>0.974359</td>\n      <td>1.000000</td>\n    </tr>\n    <tr>\n      <th>32767</th>\n      <td>1.000000</td>\n      <td>0.687500</td>\n      <td>0.734545</td>\n      <td>0.719844</td>\n      <td>0.864947</td>\n      <td>0.913706</td>\n      <td>0.860656</td>\n      <td>0.862671</td>\n      <td>0.913706</td>\n    </tr>\n    <tr>\n      <th>32768</th>\n      <td>0.905512</td>\n      <td>1.000000</td>\n      <td>0.925424</td>\n      <td>0.935484</td>\n      <td>0.906198</td>\n      <td>0.925216</td>\n      <td>1.000000</td>\n      <td>0.907815</td>\n      <td>0.925216</td>\n    </tr>\n  </tbody>\n</table>\n<p>32769 rows × 9 columns</p>\n</div>"
     },
     "execution_count": 14,
     "metadata": {},
     "output_type": "execute_result"
    }
   ]
  },
  {
   "cell_type": "markdown",
   "metadata": {
    "id": "XT2_pUdiiaVk",
    "colab_type": "text"
   },
   "source": [
    "Сравните результаты. \n",
    "##### Результаты значительно улучшились\n",
    "Какой недостаток есть у target encoding?\n",
    "- Преобучение\n",
    "- Утечка целевой переменной в обучающий набор"
   ]
  },
  {
   "cell_type": "code",
   "outputs": [
    {
     "name": "stdout",
     "output_type": "stream",
     "text": [
      "Mean=0.9707001822511806, Std deviation=0.0020845060471280127\n",
      "              precision    recall  f1-score   support\n",
      "\n",
      "           0       0.78      0.64      0.70      1534\n",
      "           1       0.98      0.99      0.98     24682\n",
      "\n",
      "    accuracy                           0.97     26216\n",
      "   macro avg       0.88      0.81      0.84     26216\n",
      "weighted avg       0.97      0.97      0.97     26216\n",
      "\n",
      "[[  984   550]\n",
      " [  283 24399]]\n"
     ]
    },
    {
     "data": {
      "text/plain": "<Figure size 432x288 with 2 Axes>",
      "image/png": "[encoded data removed]"
     },
     "metadata": {
      "needs_background": "light"
     },
     "output_type": "display_data"
    }
   ],
   "source": [
    "knn4 = KNeighborsClassifier(n_neighbors=10, p=2)\n",
    "\n",
    "X4_train, X4_test, y4_train, y4_test = train_test_split(data_target, df[\"ACTION\"], random_state=42, test_size=0.8)\n",
    "knn4.fit(X4_train, y4_train)\n",
    "\n",
    "scores = cross_val_score(knn4, X4_train, y4_train, cv=5)\n",
    "print(f'Mean={np.mean(scores)}, Std deviation={np.std(scores)}')\n",
    "\n",
    "y4_pred = knn4.predict(X4_test)\n",
    "\n",
    "print(classification_report(y4_test, y4_pred))\n",
    "\n",
    "cm4 = confusion_matrix(y4_test, y4_pred)\n",
    "print(cm4)\n",
    "sns.heatmap(cm4)\n",
    "plt.show()"
   ],
   "metadata": {
    "collapsed": false,
    "ExecuteTime": {
     "end_time": "2024-03-28T01:49:54.324483Z",
     "start_time": "2024-03-28T01:49:52.874735Z"
    }
   },
   "execution_count": 15
  }
 ]
}
