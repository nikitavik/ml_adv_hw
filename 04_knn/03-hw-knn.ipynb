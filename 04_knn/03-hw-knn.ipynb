{
 "nbformat": 4,
 "nbformat_minor": 0,
 "metadata": {
  "colab": {
   "name": "without_code03_hw_classification .ipynb",
   "provenance": [],
   "collapsed_sections": []
  },
  "kernelspec": {
   "display_name": "Python 3",
   "language": "python",
   "name": "python3"
  },
  "language_info": {
   "codemirror_mode": {
    "name": "ipython",
    "version": 3
   },
   "file_extension": ".py",
   "mimetype": "text/x-python",
   "name": "python",
   "nbconvert_exporter": "python",
   "pygments_lexer": "ipython3",
   "version": "3.7.1"
  }
 },
 "cells": [
  {
   "cell_type": "markdown",
   "metadata": {
    "colab_type": "text",
    "id": "2SjTJ7fkRk1N"
   },
   "source": [
    "## kNN - ближайшие соседи (15 баллов)\n",
    "\n",
    "Рассмотрим задачу из соревнования [Amazon Employee Access Challenge](https://www.kaggle.com/c/amazon-employee-access-challenge).\n",
    "\n",
    "В данной задаче предлагается предсказать, будет ли одобрен запрос сотрудника на получение доступа к тому или иному ресурсу. Все признаки являются категориальными."
   ]
  },
  {
   "cell_type": "code",
   "metadata": {
    "colab_type": "code",
    "id": "Pq1-n6enRk1Q",
    "colab": {},
    "ExecuteTime": {
     "end_time": "2024-03-25T23:50:48.684419Z",
     "start_time": "2024-03-25T23:50:48.670378Z"
    }
   },
   "source": [
    "%matplotlib inline\n",
    "import pandas as pd\n",
    "import numpy as np\n",
    "from matplotlib import pyplot as plt\n",
    "import seaborn as sns\n",
    "from sklearn.model_selection import train_test_split, KFold, cross_val_score\n",
    "from sklearn.neighbors import KNeighborsClassifier\n",
    "from sklearn.metrics import classification_report, confusion_matrix, f1_score\n",
    "from sklearn.preprocessing import scale"
   ],
   "execution_count": 105,
   "outputs": []
  },
  {
   "cell_type": "code",
   "metadata": {
    "id": "5KP6Njh-11dE",
    "colab_type": "code",
    "colab": {},
    "ExecuteTime": {
     "end_time": "2024-03-25T23:50:48.856476Z",
     "start_time": "2024-03-25T23:50:48.842476Z"
    }
   },
   "source": [
    "# from google.colab import drive\n",
    "# drive.mount('/content/drive')"
   ],
   "execution_count": 106,
   "outputs": []
  },
  {
   "cell_type": "markdown",
   "source": [
    "# 6.1 Классификация.Соискатели\n",
    "\n",
    "1. Скачайте этот ноутбук к себе.\n",
    "2. Заполните пропущенные ячейки, отвечая на заданные вопросы. Там должен быть код! (если не сказано обратное)\n",
    "3. Отправьте результат нам\n",
    "\n",
    "### Полезная литература\n",
    "\n",
    "- [ODS - классификация](https://habrahabr.ru/company/ods/blog/322534/)\n",
    "- [Коллаборативная фильтрация - рекомендательная система](https://ru.wikipedia.org/wiki/%D0%9A%D0%BE%D0%BB%D0%BB%D0%B0%D0%B1%D0%BE%D1%80%D0%B0%D1%82%D0%B8%D0%B2%D0%BD%D0%B0%D1%8F_%D1%84%D0%B8%D0%BB%D1%8C%D1%82%D1%80%D0%B0%D1%86%D0%B8%D1%8F)\n",
    "- [Метрики расстояний - косинусная, минковского, проклятье размерности ](http://www.machinelearning.ru/wiki/images/9/9a/Sem1_knn.pdf)\n",
    "- [Offtop: метрики качества рекомендательных систем](https://habrahabr.ru/company/dca/blog/281066/)"
   ],
   "metadata": {
    "colab_type": "text",
    "id": "6E3ZEkkwRk1J"
   }
  },
  {
   "cell_type": "code",
   "metadata": {
    "colab_type": "code",
    "id": "1dag_dZ9Rk1c",
    "colab": {
     "base_uri": "https://localhost:8080/",
     "height": 204
    },
    "outputId": "d68ee7d4-9b79-47a9-d255-d4e77dcf4532",
    "ExecuteTime": {
     "end_time": "2024-03-25T23:50:48.918563Z",
     "start_time": "2024-03-25T23:50:48.860476Z"
    }
   },
   "source": [
    "# df = pd.read_csv('/content/drive/My Drive/Data/amazon.csv.gz')\n",
    "df = pd.read_csv('../data/amazon.csv.gz')\n",
    "df.head()\n",
    "# ACTION - это целевой признак"
   ],
   "execution_count": 107,
   "outputs": [
    {
     "data": {
      "text/plain": "   ACTION  RESOURCE  MGR_ID  ROLE_ROLLUP_1  ROLE_ROLLUP_2  ROLE_DEPTNAME  \\\n0       1     39353   85475         117961         118300         123472   \n1       1     17183    1540         117961         118343         123125   \n2       1     36724   14457         118219         118220         117884   \n3       1     36135    5396         117961         118343         119993   \n4       1     42680    5905         117929         117930         119569   \n\n   ROLE_TITLE  ROLE_FAMILY_DESC  ROLE_FAMILY  ROLE_CODE  \n0      117905            117906       290919     117908  \n1      118536            118536       308574     118539  \n2      117879            267952        19721     117880  \n3      118321            240983       290919     118322  \n4      119323            123932        19793     119325  ",
      "text/html": "<div>\n<style scoped>\n    .dataframe tbody tr th:only-of-type {\n        vertical-align: middle;\n    }\n\n    .dataframe tbody tr th {\n        vertical-align: top;\n    }\n\n    .dataframe thead th {\n        text-align: right;\n    }\n</style>\n<table border=\"1\" class=\"dataframe\">\n  <thead>\n    <tr style=\"text-align: right;\">\n      <th></th>\n      <th>ACTION</th>\n      <th>RESOURCE</th>\n      <th>MGR_ID</th>\n      <th>ROLE_ROLLUP_1</th>\n      <th>ROLE_ROLLUP_2</th>\n      <th>ROLE_DEPTNAME</th>\n      <th>ROLE_TITLE</th>\n      <th>ROLE_FAMILY_DESC</th>\n      <th>ROLE_FAMILY</th>\n      <th>ROLE_CODE</th>\n    </tr>\n  </thead>\n  <tbody>\n    <tr>\n      <th>0</th>\n      <td>1</td>\n      <td>39353</td>\n      <td>85475</td>\n      <td>117961</td>\n      <td>118300</td>\n      <td>123472</td>\n      <td>117905</td>\n      <td>117906</td>\n      <td>290919</td>\n      <td>117908</td>\n    </tr>\n    <tr>\n      <th>1</th>\n      <td>1</td>\n      <td>17183</td>\n      <td>1540</td>\n      <td>117961</td>\n      <td>118343</td>\n      <td>123125</td>\n      <td>118536</td>\n      <td>118536</td>\n      <td>308574</td>\n      <td>118539</td>\n    </tr>\n    <tr>\n      <th>2</th>\n      <td>1</td>\n      <td>36724</td>\n      <td>14457</td>\n      <td>118219</td>\n      <td>118220</td>\n      <td>117884</td>\n      <td>117879</td>\n      <td>267952</td>\n      <td>19721</td>\n      <td>117880</td>\n    </tr>\n    <tr>\n      <th>3</th>\n      <td>1</td>\n      <td>36135</td>\n      <td>5396</td>\n      <td>117961</td>\n      <td>118343</td>\n      <td>119993</td>\n      <td>118321</td>\n      <td>240983</td>\n      <td>290919</td>\n      <td>118322</td>\n    </tr>\n    <tr>\n      <th>4</th>\n      <td>1</td>\n      <td>42680</td>\n      <td>5905</td>\n      <td>117929</td>\n      <td>117930</td>\n      <td>119569</td>\n      <td>119323</td>\n      <td>123932</td>\n      <td>19793</td>\n      <td>119325</td>\n    </tr>\n  </tbody>\n</table>\n</div>"
     },
     "execution_count": 107,
     "metadata": {},
     "output_type": "execute_result"
    }
   ]
  },
  {
   "cell_type": "markdown",
   "metadata": {
    "colab_type": "text",
    "id": "PZ85weZTRk1n"
   },
   "source": [
    "Обратим внимание, что выборка не сбалансированная. В качестве метрики качества будем использовать [f1-score](https://en.wikipedia.org/wiki/F1_score). \n",
    "$$F_1 = 2 \\cdot \\frac{\\mathrm{precision} \\cdot \\mathrm{recall}}{\\mathrm{precision} + \\mathrm{recall}}$$\n",
    "\n",
    "$$precision = \\frac{TP}{TP+FP}$$\n",
    "\n",
    "$$recall = \\frac{TP}{TP+FN}$$"
   ]
  },
  {
   "cell_type": "code",
   "metadata": {
    "colab_type": "code",
    "id": "geYOEvR5Rk1p",
    "colab": {
     "base_uri": "https://localhost:8080/",
     "height": 313
    },
    "outputId": "a4750a51-1c7d-4a82-d931-c13a8931a061",
    "ExecuteTime": {
     "end_time": "2024-03-25T23:50:49.027126Z",
     "start_time": "2024-03-25T23:50:48.920565Z"
    }
   },
   "source": [
    "print(df['ACTION'].mean())\n",
    "sns.countplot('ACTION', data=df)"
   ],
   "execution_count": 108,
   "outputs": [
    {
     "name": "stdout",
     "output_type": "stream",
     "text": [
      "0.9421099209618847\n"
     ]
    },
    {
     "name": "stderr",
     "output_type": "stream",
     "text": [
      "C:\\Users\\ASUS\\anaconda3\\lib\\site-packages\\seaborn\\_decorators.py:36: FutureWarning: Pass the following variable as a keyword arg: x. From version 0.12, the only valid positional argument will be `data`, and passing other arguments without an explicit keyword will result in an error or misinterpretation.\n",
      "  warnings.warn(\n"
     ]
    },
    {
     "data": {
      "text/plain": "<AxesSubplot:xlabel='ACTION', ylabel='count'>"
     },
     "execution_count": 108,
     "metadata": {},
     "output_type": "execute_result"
    },
    {
     "data": {
      "text/plain": "<Figure size 432x288 with 1 Axes>",
      "image/png": "[encoded data removed]"
     },
     "metadata": {
      "needs_background": "light"
     },
     "output_type": "display_data"
    }
   ]
  },
  {
   "cell_type": "code",
   "metadata": {
    "colab_type": "code",
    "id": "0esSU_9iRk1v",
    "colab": {
     "base_uri": "https://localhost:8080/",
     "height": 187
    },
    "outputId": "f97c558c-664a-4a65-b707-ff0e963cb3e3",
    "ExecuteTime": {
     "end_time": "2024-03-25T23:50:49.042107Z",
     "start_time": "2024-03-25T23:50:49.029106Z"
    }
   },
   "source": [
    "# число значений у признаков\n",
    "for col_name in df.columns:\n",
    "    print(col_name, len(df[col_name].unique()))"
   ],
   "execution_count": 109,
   "outputs": [
    {
     "name": "stdout",
     "output_type": "stream",
     "text": [
      "ACTION 2\n",
      "RESOURCE 7518\n",
      "MGR_ID 4243\n",
      "ROLE_ROLLUP_1 128\n",
      "ROLE_ROLLUP_2 177\n",
      "ROLE_DEPTNAME 449\n",
      "ROLE_TITLE 343\n",
      "ROLE_FAMILY_DESC 2358\n",
      "ROLE_FAMILY 67\n",
      "ROLE_CODE 343\n"
     ]
    }
   ]
  },
  {
   "cell_type": "code",
   "metadata": {
    "colab_type": "code",
    "id": "grv_l7aYRk12",
    "colab": {},
    "ExecuteTime": {
     "end_time": "2024-03-25T23:50:49.057326Z",
     "start_time": "2024-03-25T23:50:49.044109Z"
    }
   },
   "source": [
    "X = df.drop(['ACTION'], axis=1)\n",
    "y = df['ACTION']\n",
    "X_train, X_test, y_train, y_test = train_test_split(X, y, random_state=42, test_size=0.8)"
   ],
   "execution_count": 110,
   "outputs": []
  },
  {
   "cell_type": "markdown",
   "metadata": {
    "colab_type": "text",
    "id": "WF-Sqou3Rk19"
   },
   "source": [
    "# Baseline (4 балла)\n",
    "\n",
    "Сразу проверим как ведет себя kNN на неподготовленных данных и без тюнинга. Зафиксируйте `n_neighbors=5`, `p=2`. \n",
    "\n",
    "- создайте экземпляр `KNeighborsClassifier` с указанными параметрами, обучите его методом `fit` и предскажите значения `predict` для треничровчных данных `X_test`.\n",
    "- постройте отчет классификации (classification_report)\n",
    "- постройте confusion matrix и нарисуйте heatmap\n",
    "\n",
    "Обратите внимание на confusion matrix. Какой вывод вы можете сделать из неё? Вспомните лекцию и значение ошибок 1 и 2 рода."
   ]
  },
  {
   "cell_type": "code",
   "metadata": {
    "colab_type": "code",
    "id": "b0VOmw-gRk2B",
    "colab": {},
    "ExecuteTime": {
     "end_time": "2024-03-25T23:50:49.899585Z",
     "start_time": "2024-03-25T23:50:49.059131Z"
    }
   },
   "source": [
    "knn1 = KNeighborsClassifier(n_neighbors= 5, p=2)\n",
    "knn1.fit(X_train, y_train)\n",
    "y_pred = knn1.predict(X_test)\n",
    "\n",
    "print(classification_report(y_test, y_pred))\n",
    "cm"
   ],
   "execution_count": 111,
   "outputs": [
    {
     "name": "stdout",
     "output_type": "stream",
     "text": [
      "              precision    recall  f1-score   support\n",
      "\n",
      "           0       0.22      0.03      0.05      1534\n",
      "           1       0.94      0.99      0.97     24682\n",
      "\n",
      "    accuracy                           0.94     26216\n",
      "   macro avg       0.58      0.51      0.51     26216\n",
      "weighted avg       0.90      0.94      0.91     26216\n"
     ]
    },
    {
     "data": {
      "text/plain": "array([[   41,  1493],\n       [  147, 24535]], dtype=int64)"
     },
     "execution_count": 111,
     "metadata": {},
     "output_type": "execute_result"
    }
   ]
  },
  {
   "cell_type": "code",
   "outputs": [
    {
     "data": {
      "text/plain": "<Figure size 432x288 with 2 Axes>",
      "image/png": "[encoded data removed]"
     },
     "metadata": {
      "needs_background": "light"
     },
     "output_type": "display_data"
    }
   ],
   "source": [
    "sns.heatmap(cm)\n",
    "plt.show()"
   ],
   "metadata": {
    "collapsed": false,
    "ExecuteTime": {
     "end_time": "2024-03-25T23:50:50.008170Z",
     "start_time": "2024-03-25T23:50:49.900585Z"
    }
   },
   "execution_count": 112
  },
  {
   "cell_type": "markdown",
   "metadata": {
    "colab_type": "text",
    "id": "05W_1YtvRk2I"
   },
   "source": [
    "При фиксированном `n_neighbors=10` проверьте значение метрики на кроссвалидации на 5-фолдах для разных значений `p` из `(1,2,4,6)`. При каком значение `p` метрика достигает максимума?\n",
    "\n",
    "При кроссвалидации у вас будет получаться N разных значений метрики. Выводите среднее значение и стандартное отклонение."
   ]
  },
  {
   "cell_type": "code",
   "metadata": {
    "id": "eO5jV0YBuafJ",
    "colab_type": "code",
    "colab": {},
    "ExecuteTime": {
     "end_time": "2024-03-25T23:50:52.318515Z",
     "start_time": "2024-03-25T23:50:50.010164Z"
    }
   },
   "source": [
    "p_arr = [1, 2, 4, 6]\n",
    "for p in p_arr:\n",
    "    knn = KNeighborsClassifier(n_neighbors=10, p=p)\n",
    "    scores = cross_val_score(knn, X_train, y_train, cv=5)\n",
    "    print(f'p={p}: Mean={np.mean(scores)}, Std deviation={np.std(scores)}')"
   ],
   "execution_count": 113,
   "outputs": [
    {
     "name": "stdout",
     "output_type": "stream",
     "text": [
      "p=1: Mean=0.9443005455889975, Std deviation=0.0009519030430808572\n",
      "p=2: Mean=0.9446056561915908, Std deviation=0.0007684587110299395\n",
      "p=4: Mean=0.9444532173447225, Std deviation=0.0008710708423343614\n",
      "p=6: Mean=0.9441478738332721, Std deviation=0.0005552549103419756\n"
     ]
    }
   ]
  },
  {
   "cell_type": "markdown",
   "source": [
    "Метрика достигает максимума при значении p=2"
   ],
   "metadata": {
    "collapsed": false
   }
  },
  {
   "cell_type": "markdown",
   "metadata": {
    "colab_type": "text",
    "id": "95FbhY1JRk2S"
   },
   "source": [
    "# Счетчики (6 баллов)\n",
    "\n",
    "Очевидно, что предсказывать лейбл объекта, используя при этом метрический алгоритм на категориальных признаках - это ОЧЕНЬ странная затея. Не удивительно что качество ужасное. Необходимо каким-то образом заменить категориальные признаки вещественными:\n",
    "\n",
    "- OneHotEncoding - это когда для каждого признака создают другие N бинарных признаков, где N - это количество категорий у категориального признака.\n",
    "- Счетчики - об это написано в статье http://blogs.technet.com/b/machinelearning/archive/2015/02/17/big-learning-made-easy-with-counts.aspx.\n",
    "\n",
    "Мы реализуем алгоритм Счетчиков. Его нет в sklearn, поэтому придется реализовать самому. \n",
    "\n",
    "Для каждого категориального признака создайте 3 других признака:\n",
    "1. Число `counts` объектов в обучающей выборке с таким же значением признака.\n",
    "2. Число `successes` объектов первого класса ($y = 1$) в обучающей выборке с таким же значением признака.\n",
    "3. Сглаженное отношение двух предыдущих величин: (`successes` + 1) / (`counts` + 2).\n",
    "\n",
    "Поскольку признаки, содержащие информацию о целевой переменной, могут привести к переобучению, может оказаться полезным сделать *фолдинг*: разбить обучающую выборку на $n$ частей, и для $i$-й части считать `counts` и `successes` по всем остальным частям. Для тестовой выборки используются счетчики, посчитанные по всей обучающей выборке. Реализуйте и такой вариант. Можно использовать $n = 3$.\n",
    "\n",
    "Обучение надо проводить только по новым признакам. Изначальные мы не используем.\n",
    "\n",
    "Счетчики нужно считать по `train`, а в `test` использовать эти же счетчики, иначе счетчики будут содержать информацию о всем датасете что приведет к переобучение!\n",
    "\n",
    "Подсказка - вам нужно для каждой колонки посчитать 2 аггрегации - сумму и количество. Для замены конкретного значения посчитанным используйте функцию apply над датафреймом. Простое решение займет около 10 строк кода."
   ]
  },
  {
   "cell_type": "markdown",
   "metadata": {
    "colab_type": "text",
    "id": "peoX3U3iRk2U"
   },
   "source": [
    "![](http://images6.fanpop.com/image/photos/38600000/taiga-iamyourenemy-38620719-282-160.gif)"
   ]
  },
  {
   "cell_type": "code",
   "metadata": {
    "id": "qNzXCuFDWIOm",
    "colab_type": "code",
    "colab": {},
    "ExecuteTime": {
     "end_time": "2024-03-25T23:50:52.644206Z",
     "start_time": "2024-03-25T23:50:52.320520Z"
    }
   },
   "source": [
    "data = pd.DataFrame(index=df.index)\n",
    "\n",
    "kfold = KFold(n_splits=3)\n",
    "\n",
    "for col_name in df.columns:\n",
    "    if col_name == 'ACTION':\n",
    "        continue\n",
    "    for train_index, val_index in kfold.split(df):\n",
    "        train_df_fold, val_df_fold = df.iloc[train_index], df.iloc[val_index]\n",
    "    \n",
    "        col_counts = train_df_fold.groupby(col_name).size()\n",
    "    \n",
    "        col_successes = train_df_fold[train_df_fold['ACTION'] == 1].groupby(col_name).size()\n",
    "    \n",
    "        col_smoothed_ratio = (col_successes + 1) / (col_counts + 2)\n",
    "    \n",
    "        data.loc[val_df_fold.index, col_name + '_counts'] = val_df_fold[col_name].map(col_counts)\n",
    "        data.loc[val_df_fold.index, col_name + '_successes'] = val_df_fold[col_name].map(col_successes)\n",
    "        data.loc[val_df_fold.index, col_name + '_ratio'] = val_df_fold[col_name].map(col_smoothed_ratio)\n",
    "\n",
    "data.fillna(0, inplace=True)\n",
    "data['ACTION'] = df['ACTION']\n",
    "data"
   ],
   "execution_count": 114,
   "outputs": [
    {
     "data": {
      "text/plain": "       RESOURCE_counts  RESOURCE_successes  RESOURCE_ratio  MGR_ID_counts  \\\n0                  1.0                 1.0        0.666667           31.0   \n1                 19.0                18.0        0.904762            5.0   \n2                  1.0                 1.0        0.666667            1.0   \n3                  0.0                 0.0        0.000000           45.0   \n4                  3.0                 3.0        0.800000            4.0   \n...                ...                 ...             ...            ...   \n32764             39.0                34.0        0.853659           18.0   \n32765              0.0                 0.0        0.000000            5.0   \n32766            114.0               110.0        0.956897            3.0   \n32767              5.0                 5.0        0.857143           13.0   \n32768             75.0                67.0        0.883117            6.0   \n\n       MGR_ID_successes  MGR_ID_ratio  ROLE_ROLLUP_1_counts  \\\n0                  31.0      0.969697               14208.0   \n1                   5.0      0.857143               14208.0   \n2                   1.0      0.666667                 129.0   \n3                  45.0      0.978723               14208.0   \n4                   4.0      0.833333                 184.0   \n...                 ...           ...                   ...   \n32764              18.0      0.950000               14329.0   \n32765               5.0      0.857143                 454.0   \n32766               3.0      0.800000               14329.0   \n32767               9.0      0.666667                 167.0   \n32768               6.0      0.875000                 193.0   \n\n       ROLE_ROLLUP_1_successes  ROLE_ROLLUP_1_ratio  ROLE_ROLLUP_2_counts  \\\n0                      13488.0             0.949261                2961.0   \n1                      13488.0             0.949261                2633.0   \n2                        117.0             0.900763                 129.0   \n3                      13488.0             0.949261                2633.0   \n4                        173.0             0.935484                  96.0   \n...                        ...                  ...                   ...   \n32764                  13608.0             0.949620                2923.0   \n32765                    435.0             0.956140                 454.0   \n32766                  13608.0             0.949620                1794.0   \n32767                    128.0             0.763314                 155.0   \n32768                    180.0             0.928205                  59.0   \n\n       ...  ROLE_FAMILY_DESC_counts  ROLE_FAMILY_DESC_successes  \\\n0      ...                   4607.0                      4307.0   \n1      ...                      7.0                         7.0   \n2      ...                     22.0                        20.0   \n3      ...                    811.0                       776.0   \n4      ...                     11.0                        10.0   \n...    ...                      ...                         ...   \n32764  ...                    842.0                       806.0   \n32765  ...                      3.0                         3.0   \n32766  ...                      1.0                         1.0   \n32767  ...                    166.0                       146.0   \n32768  ...                     16.0                        16.0   \n\n       ROLE_FAMILY_DESC_ratio  ROLE_FAMILY_counts  ROLE_FAMILY_successes  \\\n0                    0.934693              7299.0                 6890.0   \n1                    0.888889               881.0                  829.0   \n2                    0.875000              1835.0                 1661.0   \n3                    0.955720              7299.0                 6890.0   \n4                    0.846154               239.0                  196.0   \n...                       ...                 ...                    ...   \n32764                0.956161              7355.0                 6946.0   \n32765                0.800000               137.0                  135.0   \n32766                0.666667                51.0                   49.0   \n32767                0.875000               867.0                  758.0   \n32768                0.944444              1693.0                 1537.0   \n\n       ROLE_FAMILY_ratio  ROLE_CODE_counts  ROLE_CODE_successes  \\\n0               0.943843            2387.0               2312.0   \n1               0.939977              54.0                 53.0   \n2               0.904736             877.0                775.0   \n3               0.943843            3097.0               2852.0   \n4               0.817427              60.0                 51.0   \n...                  ...               ...                  ...   \n32764           0.944271            3104.0               2869.0   \n32765           0.978417              10.0                 10.0   \n32766           0.943396               2.0                  2.0   \n32767           0.873418             257.0                236.0   \n32768           0.907375             669.0                619.0   \n\n       ROLE_CODE_ratio  ACTION  \n0             0.968188       1  \n1             0.964286       1  \n2             0.882821       1  \n3             0.920620       1  \n4             0.838710       1  \n...                ...     ...  \n32764         0.924018       1  \n32765         0.916667       1  \n32766         0.750000       1  \n32767         0.915058       1  \n32768         0.923994       1  \n\n[32769 rows x 28 columns]",
      "text/html": "<div>\n<style scoped>\n    .dataframe tbody tr th:only-of-type {\n        vertical-align: middle;\n    }\n\n    .dataframe tbody tr th {\n        vertical-align: top;\n    }\n\n    .dataframe thead th {\n        text-align: right;\n    }\n</style>\n<table border=\"1\" class=\"dataframe\">\n  <thead>\n    <tr style=\"text-align: right;\">\n      <th></th>\n      <th>RESOURCE_counts</th>\n      <th>RESOURCE_successes</th>\n      <th>RESOURCE_ratio</th>\n      <th>MGR_ID_counts</th>\n      <th>MGR_ID_successes</th>\n      <th>MGR_ID_ratio</th>\n      <th>ROLE_ROLLUP_1_counts</th>\n      <th>ROLE_ROLLUP_1_successes</th>\n      <th>ROLE_ROLLUP_1_ratio</th>\n      <th>ROLE_ROLLUP_2_counts</th>\n      <th>...</th>\n      <th>ROLE_FAMILY_DESC_counts</th>\n      <th>ROLE_FAMILY_DESC_successes</th>\n      <th>ROLE_FAMILY_DESC_ratio</th>\n      <th>ROLE_FAMILY_counts</th>\n      <th>ROLE_FAMILY_successes</th>\n      <th>ROLE_FAMILY_ratio</th>\n      <th>ROLE_CODE_counts</th>\n      <th>ROLE_CODE_successes</th>\n      <th>ROLE_CODE_ratio</th>\n      <th>ACTION</th>\n    </tr>\n  </thead>\n  <tbody>\n    <tr>\n      <th>0</th>\n      <td>1.0</td>\n      <td>1.0</td>\n      <td>0.666667</td>\n      <td>31.0</td>\n      <td>31.0</td>\n      <td>0.969697</td>\n      <td>14208.0</td>\n      <td>13488.0</td>\n      <td>0.949261</td>\n      <td>2961.0</td>\n      <td>...</td>\n      <td>4607.0</td>\n      <td>4307.0</td>\n      <td>0.934693</td>\n      <td>7299.0</td>\n      <td>6890.0</td>\n      <td>0.943843</td>\n      <td>2387.0</td>\n      <td>2312.0</td>\n      <td>0.968188</td>\n      <td>1</td>\n    </tr>\n    <tr>\n      <th>1</th>\n      <td>19.0</td>\n      <td>18.0</td>\n      <td>0.904762</td>\n      <td>5.0</td>\n      <td>5.0</td>\n      <td>0.857143</td>\n      <td>14208.0</td>\n      <td>13488.0</td>\n      <td>0.949261</td>\n      <td>2633.0</td>\n      <td>...</td>\n      <td>7.0</td>\n      <td>7.0</td>\n      <td>0.888889</td>\n      <td>881.0</td>\n      <td>829.0</td>\n      <td>0.939977</td>\n      <td>54.0</td>\n      <td>53.0</td>\n      <td>0.964286</td>\n      <td>1</td>\n    </tr>\n    <tr>\n      <th>2</th>\n      <td>1.0</td>\n      <td>1.0</td>\n      <td>0.666667</td>\n      <td>1.0</td>\n      <td>1.0</td>\n      <td>0.666667</td>\n      <td>129.0</td>\n      <td>117.0</td>\n      <td>0.900763</td>\n      <td>129.0</td>\n      <td>...</td>\n      <td>22.0</td>\n      <td>20.0</td>\n      <td>0.875000</td>\n      <td>1835.0</td>\n      <td>1661.0</td>\n      <td>0.904736</td>\n      <td>877.0</td>\n      <td>775.0</td>\n      <td>0.882821</td>\n      <td>1</td>\n    </tr>\n    <tr>\n      <th>3</th>\n      <td>0.0</td>\n      <td>0.0</td>\n      <td>0.000000</td>\n      <td>45.0</td>\n      <td>45.0</td>\n      <td>0.978723</td>\n      <td>14208.0</td>\n      <td>13488.0</td>\n      <td>0.949261</td>\n      <td>2633.0</td>\n      <td>...</td>\n      <td>811.0</td>\n      <td>776.0</td>\n      <td>0.955720</td>\n      <td>7299.0</td>\n      <td>6890.0</td>\n      <td>0.943843</td>\n      <td>3097.0</td>\n      <td>2852.0</td>\n      <td>0.920620</td>\n      <td>1</td>\n    </tr>\n    <tr>\n      <th>4</th>\n      <td>3.0</td>\n      <td>3.0</td>\n      <td>0.800000</td>\n      <td>4.0</td>\n      <td>4.0</td>\n      <td>0.833333</td>\n      <td>184.0</td>\n      <td>173.0</td>\n      <td>0.935484</td>\n      <td>96.0</td>\n      <td>...</td>\n      <td>11.0</td>\n      <td>10.0</td>\n      <td>0.846154</td>\n      <td>239.0</td>\n      <td>196.0</td>\n      <td>0.817427</td>\n      <td>60.0</td>\n      <td>51.0</td>\n      <td>0.838710</td>\n      <td>1</td>\n    </tr>\n    <tr>\n      <th>...</th>\n      <td>...</td>\n      <td>...</td>\n      <td>...</td>\n      <td>...</td>\n      <td>...</td>\n      <td>...</td>\n      <td>...</td>\n      <td>...</td>\n      <td>...</td>\n      <td>...</td>\n      <td>...</td>\n      <td>...</td>\n      <td>...</td>\n      <td>...</td>\n      <td>...</td>\n      <td>...</td>\n      <td>...</td>\n      <td>...</td>\n      <td>...</td>\n      <td>...</td>\n      <td>...</td>\n    </tr>\n    <tr>\n      <th>32764</th>\n      <td>39.0</td>\n      <td>34.0</td>\n      <td>0.853659</td>\n      <td>18.0</td>\n      <td>18.0</td>\n      <td>0.950000</td>\n      <td>14329.0</td>\n      <td>13608.0</td>\n      <td>0.949620</td>\n      <td>2923.0</td>\n      <td>...</td>\n      <td>842.0</td>\n      <td>806.0</td>\n      <td>0.956161</td>\n      <td>7355.0</td>\n      <td>6946.0</td>\n      <td>0.944271</td>\n      <td>3104.0</td>\n      <td>2869.0</td>\n      <td>0.924018</td>\n      <td>1</td>\n    </tr>\n    <tr>\n      <th>32765</th>\n      <td>0.0</td>\n      <td>0.0</td>\n      <td>0.000000</td>\n      <td>5.0</td>\n      <td>5.0</td>\n      <td>0.857143</td>\n      <td>454.0</td>\n      <td>435.0</td>\n      <td>0.956140</td>\n      <td>454.0</td>\n      <td>...</td>\n      <td>3.0</td>\n      <td>3.0</td>\n      <td>0.800000</td>\n      <td>137.0</td>\n      <td>135.0</td>\n      <td>0.978417</td>\n      <td>10.0</td>\n      <td>10.0</td>\n      <td>0.916667</td>\n      <td>1</td>\n    </tr>\n    <tr>\n      <th>32766</th>\n      <td>114.0</td>\n      <td>110.0</td>\n      <td>0.956897</td>\n      <td>3.0</td>\n      <td>3.0</td>\n      <td>0.800000</td>\n      <td>14329.0</td>\n      <td>13608.0</td>\n      <td>0.949620</td>\n      <td>1794.0</td>\n      <td>...</td>\n      <td>1.0</td>\n      <td>1.0</td>\n      <td>0.666667</td>\n      <td>51.0</td>\n      <td>49.0</td>\n      <td>0.943396</td>\n      <td>2.0</td>\n      <td>2.0</td>\n      <td>0.750000</td>\n      <td>1</td>\n    </tr>\n    <tr>\n      <th>32767</th>\n      <td>5.0</td>\n      <td>5.0</td>\n      <td>0.857143</td>\n      <td>13.0</td>\n      <td>9.0</td>\n      <td>0.666667</td>\n      <td>167.0</td>\n      <td>128.0</td>\n      <td>0.763314</td>\n      <td>155.0</td>\n      <td>...</td>\n      <td>166.0</td>\n      <td>146.0</td>\n      <td>0.875000</td>\n      <td>867.0</td>\n      <td>758.0</td>\n      <td>0.873418</td>\n      <td>257.0</td>\n      <td>236.0</td>\n      <td>0.915058</td>\n      <td>1</td>\n    </tr>\n    <tr>\n      <th>32768</th>\n      <td>75.0</td>\n      <td>67.0</td>\n      <td>0.883117</td>\n      <td>6.0</td>\n      <td>6.0</td>\n      <td>0.875000</td>\n      <td>193.0</td>\n      <td>180.0</td>\n      <td>0.928205</td>\n      <td>59.0</td>\n      <td>...</td>\n      <td>16.0</td>\n      <td>16.0</td>\n      <td>0.944444</td>\n      <td>1693.0</td>\n      <td>1537.0</td>\n      <td>0.907375</td>\n      <td>669.0</td>\n      <td>619.0</td>\n      <td>0.923994</td>\n      <td>1</td>\n    </tr>\n  </tbody>\n</table>\n<p>32769 rows × 28 columns</p>\n</div>"
     },
     "execution_count": 114,
     "metadata": {},
     "output_type": "execute_result"
    }
   ]
  },
  {
   "cell_type": "markdown",
   "metadata": {
    "colab_type": "text",
    "id": "_LI0_45SRk2b"
   },
   "source": [
    "Проверьте какое качество теперь получается на кроссвалидации для новых данных."
   ]
  },
  {
   "cell_type": "code",
   "metadata": {
    "id": "a2Z4fuXKIfqX",
    "colab_type": "code",
    "colab": {},
    "ExecuteTime": {
     "end_time": "2024-03-25T23:54:59.026704Z",
     "start_time": "2024-03-25T23:54:52.470811Z"
    }
   },
   "source": [
    "knn2 = KNeighborsClassifier(n_neighbors=10, p=2)\n",
    "\n",
    "X2 = data.drop(['ACTION'], axis=1)\n",
    "y2 = data['ACTION']\n",
    "\n",
    "X2_train, X2_test, y2_train, y2_test = train_test_split(X2, y2, random_state=42, test_size=0.8)\n",
    "\n",
    "knn2.fit(X2_train, y2_train)\n",
    "\n",
    "scores = cross_val_score(knn2, X2_train, y2_train, cv=5)\n",
    "print(f'Mean={np.mean(scores)}, Std deviation={np.std(scores)}')\n",
    "\n",
    "y2_pred = knn2.predict(X2_test)\n",
    "\n",
    "print(classification_report(y2_test, y2_pred))\n",
    "\n",
    "cm2 = confusion_matrix(y2_test, y2_pred)\n",
    "\n",
    "sns.heatmap(cm2)\n",
    "plt.show()"
   ],
   "execution_count": 125,
   "outputs": [
    {
     "name": "stdout",
     "output_type": "stream",
     "text": [
      "Mean=0.9420115173429757, Std deviation=0.0014383133666802954\n",
      "              precision    recall  f1-score   support\n",
      "\n",
      "           0       0.32      0.03      0.05      1534\n",
      "           1       0.94      1.00      0.97     24682\n",
      "\n",
      "    accuracy                           0.94     26216\n",
      "   macro avg       0.63      0.51      0.51     26216\n",
      "weighted avg       0.91      0.94      0.92     26216\n"
     ]
    },
    {
     "data": {
      "text/plain": "<Figure size 432x288 with 2 Axes>",
      "image/png": "[encoded data removed]"
     },
     "metadata": {
      "needs_background": "light"
     },
     "output_type": "display_data"
    }
   ]
  },
  {
   "cell_type": "markdown",
   "metadata": {
    "colab_type": "text",
    "id": "sLAn1dmIRk2j"
   },
   "source": [
    "- постройте отчет классификации (classification_report)\n",
    "- постройте confusion matrix и нарисуйте heatmap\n",
    "\n",
    "Оцените на сколько улучшилось качество."
   ]
  },
  {
   "cell_type": "markdown",
   "metadata": {
    "colab_type": "text",
    "id": "xr0h7eJeRk2s"
   },
   "source": [
    "# Co-co-co-combo (5 баллов)\n",
    "\n",
    "Добавьте в исходную выборку парные признаки — то есть для каждой пары $(f_i, f_j)$, $i < j$ исходных категориальных признаков добавьте новый категориальный признак $f_{ij}$, значение которого является конкатенацией значений $f_i$ и $f_j$ (желательно через какой-нибудь специальный символ во избежание коллизий). Посчитайте счетчики для этой выборки, найдите качество метода $k$ ближайших соседей с наилучшим $k$ (с фолдингом и без)."
   ]
  },
  {
   "cell_type": "code",
   "metadata": {
    "colab_type": "code",
    "id": "WX1unyFARk2t",
    "colab": {},
    "ExecuteTime": {
     "start_time": "2024-03-25T23:50:52.741291Z"
    }
   },
   "source": [
    "df_combo = df.copy()\n",
    "# ТУТ ВАШ КОД"
   ],
   "execution_count": null,
   "outputs": []
  },
  {
   "cell_type": "code",
   "metadata": {
    "colab_type": "code",
    "id": "otoeCnjIRk2z",
    "colab": {},
    "ExecuteTime": {
     "start_time": "2024-03-25T23:50:52.742293Z"
    }
   },
   "source": [
    "data_combo = pd.DataFrame(index=df_combo.index)\n",
    "for col_name in df_combo.columns:\n",
    "    if col_name == 'ACTION':\n",
    "        continue\n",
    "    # тут ваш код"
   ],
   "execution_count": null,
   "outputs": []
  },
  {
   "cell_type": "markdown",
   "metadata": {
    "colab_type": "text",
    "id": "jNGOU4pBRk24"
   },
   "source": [
    "- постройте отчет классификации (classification_report)\n",
    "- постройте confusion matrix и нарисуйте heatmap\n",
    "\n",
    "Оцените на сколько улучшилось качество. Не похоже ли это на переобусение?\n",
    "\n",
    "Внимание! Обучение на этом этапе может быть долгим. На i5 16GB кроссвалидация на 5 фолдах заняла 30 минут!"
   ]
  },
  {
   "cell_type": "markdown",
   "metadata": {
    "id": "YfXcVDbhjQLC",
    "colab_type": "text"
   },
   "source": [
    "# Target encoding\n",
    "Допустим, у нас есть категоральный признак х и целевой у; нужно сгруппировать значения признака х по значениям признака у и посчитать среднее. Затем все значения из х заменяем на среднее по соответствующему у.\n",
    "\n",
    "\n",
    "Подробнее написано в статье: https://maxhalford.github.io/blog/target-encoding/\n"
   ]
  },
  {
   "cell_type": "code",
   "metadata": {
    "id": "DDUvy30ldaKK",
    "colab_type": "code",
    "colab": {},
    "ExecuteTime": {
     "start_time": "2024-03-25T23:50:52.743295Z"
    }
   },
   "source": [
    "df_target = df.copy()"
   ],
   "execution_count": null,
   "outputs": []
  },
  {
   "cell_type": "code",
   "metadata": {
    "id": "S9BBzsGdWyJ1",
    "colab_type": "code",
    "colab": {},
    "ExecuteTime": {
     "start_time": "2024-03-25T23:50:52.744297Z"
    }
   },
   "source": [
    "data_target = pd.DataFrame(index=df_target.index)\n",
    "for col_name in df_target.columns:\n",
    "    if col_name == 'ACTION':\n",
    "        continue\n",
    "    # тут ваш код"
   ],
   "execution_count": null,
   "outputs": []
  },
  {
   "cell_type": "markdown",
   "metadata": {
    "id": "XT2_pUdiiaVk",
    "colab_type": "text"
   },
   "source": [
    "Сравните результаты. \n",
    "\n",
    "Какой недостаток есть у target encoding?\n",
    "\n"
   ]
  }
 ]
}
